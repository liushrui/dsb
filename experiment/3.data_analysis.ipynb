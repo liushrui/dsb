{
 "cells": [
  {
   "cell_type": "markdown",
   "metadata": {},
   "source": [
    "https://www.kaggle.com/kmader/nuclei-overview-to-submission/notebook  \n",
    "https://www.kaggle.com/keegil/keras-u-net-starter-lb-0-277/notebook"
   ]
  },
  {
   "cell_type": "code",
   "execution_count": 1,
   "metadata": {
    "collapsed": true
   },
   "outputs": [],
   "source": [
    "import os\n",
    "import glob\n",
    "import warnings\n",
    "import numpy as np\n",
    "import pandas as pd\n",
    "from glob import glob\n",
    "\n",
    "import matplotlib.pyplot as plt\n",
    "from skimage.transform import resize\n",
    "from skimage.io import imread, imshow\n",
    "\n",
    "%matplotlib inline\n",
    "warnings.filterwarnings('ignore', category=UserWarning, module='skimage')"
   ]
  },
  {
   "cell_type": "code",
   "execution_count": 2,
   "metadata": {
    "collapsed": false
   },
   "outputs": [
    {
     "data": {
      "text/plain": [
       "30196"
      ]
     },
     "execution_count": 2,
     "metadata": {},
     "output_type": "execute_result"
    }
   ],
   "source": [
    "all_path = glob(os.path.join('data', '*_stage1', '*', '*', '*'))\n",
    "\n",
    "len(all_path)"
   ]
  },
  {
   "cell_type": "code",
   "execution_count": 3,
   "metadata": {
    "collapsed": true
   },
   "outputs": [],
   "source": [
    "path_df = pd.DataFrame(index=all_path)\n",
    "\n",
    "img_type = lambda path: path.split('/')[-2]\n",
    "img_id = lambda path: path.split('/')[-3]\n",
    "img_group = lambda path: path.split('/')[-4].split('_')[0]\n",
    "img_stage =lambda path: path.split('/')[-4].split('_')[1]\n",
    "\n",
    "path_df['Image_STAGE'] = path_df.index.map(img_stage)\n",
    "path_df['Image_GROUP'] = path_df.index.map(img_group)\n",
    "path_df['Image_ID'] = path_df.index.map(img_id)\n",
    "path_df['Image_TYPE'] = path_df.index.map(img_type)\n"
   ]
  },
  {
   "cell_type": "code",
   "execution_count": 4,
   "metadata": {
    "collapsed": false
   },
   "outputs": [
    {
     "data": {
      "text/html": [
       "<div>\n",
       "<style>\n",
       "    .dataframe thead tr:only-child th {\n",
       "        text-align: right;\n",
       "    }\n",
       "\n",
       "    .dataframe thead th {\n",
       "        text-align: left;\n",
       "    }\n",
       "\n",
       "    .dataframe tbody tr th {\n",
       "        vertical-align: top;\n",
       "    }\n",
       "</style>\n",
       "<table border=\"1\" class=\"dataframe\">\n",
       "  <thead>\n",
       "    <tr style=\"text-align: right;\">\n",
       "      <th></th>\n",
       "      <th>Image_ID</th>\n",
       "      <th>Image_GROUP</th>\n",
       "      <th>Image_TYPE</th>\n",
       "      <th>Image_STAGE</th>\n",
       "    </tr>\n",
       "  </thead>\n",
       "  <tbody>\n",
       "    <tr>\n",
       "      <th>data/train_stage1/a9d884ba0929dac87c2052ce5b15034163685317d7cff45c40b0f7bd9bd4d9e7/masks/235e0f8b86d5c55c4a06824609a73529f635c35662e923125afa6547bb3e94fc.png</th>\n",
       "      <td>a9d884ba0929dac87c2052ce5b15034163685317d7cff4...</td>\n",
       "      <td>train</td>\n",
       "      <td>masks</td>\n",
       "      <td>stage1</td>\n",
       "    </tr>\n",
       "    <tr>\n",
       "      <th>data/train_stage1/a9d884ba0929dac87c2052ce5b15034163685317d7cff45c40b0f7bd9bd4d9e7/masks/f7bcd4e0827008b727de64a8cb8b711c05a60d70ea5ec502750889a4c16ff649.png</th>\n",
       "      <td>a9d884ba0929dac87c2052ce5b15034163685317d7cff4...</td>\n",
       "      <td>train</td>\n",
       "      <td>masks</td>\n",
       "      <td>stage1</td>\n",
       "    </tr>\n",
       "    <tr>\n",
       "      <th>data/train_stage1/a9d884ba0929dac87c2052ce5b15034163685317d7cff45c40b0f7bd9bd4d9e7/masks/11ac8eace5d73fc8054822b46db13e09813527faa13ced27b34438a71ae283fe.png</th>\n",
       "      <td>a9d884ba0929dac87c2052ce5b15034163685317d7cff4...</td>\n",
       "      <td>train</td>\n",
       "      <td>masks</td>\n",
       "      <td>stage1</td>\n",
       "    </tr>\n",
       "    <tr>\n",
       "      <th>data/train_stage1/a9d884ba0929dac87c2052ce5b15034163685317d7cff45c40b0f7bd9bd4d9e7/masks/284555ce90e1a496fa3614caebd5c950e8958bcb6fcba15a3c3348adf6f95a45.png</th>\n",
       "      <td>a9d884ba0929dac87c2052ce5b15034163685317d7cff4...</td>\n",
       "      <td>train</td>\n",
       "      <td>masks</td>\n",
       "      <td>stage1</td>\n",
       "    </tr>\n",
       "    <tr>\n",
       "      <th>data/train_stage1/a9d884ba0929dac87c2052ce5b15034163685317d7cff45c40b0f7bd9bd4d9e7/masks/f3aa2fb4bbf59cadb44b80816e27829d53a42a3070b25344b940d74c7f904081.png</th>\n",
       "      <td>a9d884ba0929dac87c2052ce5b15034163685317d7cff4...</td>\n",
       "      <td>train</td>\n",
       "      <td>masks</td>\n",
       "      <td>stage1</td>\n",
       "    </tr>\n",
       "  </tbody>\n",
       "</table>\n",
       "</div>"
      ],
      "text/plain": [
       "                                                                                             Image_ID  \\\n",
       "data/train_stage1/a9d884ba0929dac87c2052ce5b150...  a9d884ba0929dac87c2052ce5b15034163685317d7cff4...   \n",
       "data/train_stage1/a9d884ba0929dac87c2052ce5b150...  a9d884ba0929dac87c2052ce5b15034163685317d7cff4...   \n",
       "data/train_stage1/a9d884ba0929dac87c2052ce5b150...  a9d884ba0929dac87c2052ce5b15034163685317d7cff4...   \n",
       "data/train_stage1/a9d884ba0929dac87c2052ce5b150...  a9d884ba0929dac87c2052ce5b15034163685317d7cff4...   \n",
       "data/train_stage1/a9d884ba0929dac87c2052ce5b150...  a9d884ba0929dac87c2052ce5b15034163685317d7cff4...   \n",
       "\n",
       "                                                   Image_GROUP Image_TYPE  \\\n",
       "data/train_stage1/a9d884ba0929dac87c2052ce5b150...       train      masks   \n",
       "data/train_stage1/a9d884ba0929dac87c2052ce5b150...       train      masks   \n",
       "data/train_stage1/a9d884ba0929dac87c2052ce5b150...       train      masks   \n",
       "data/train_stage1/a9d884ba0929dac87c2052ce5b150...       train      masks   \n",
       "data/train_stage1/a9d884ba0929dac87c2052ce5b150...       train      masks   \n",
       "\n",
       "                                                   Image_STAGE  \n",
       "data/train_stage1/a9d884ba0929dac87c2052ce5b150...      stage1  \n",
       "data/train_stage1/a9d884ba0929dac87c2052ce5b150...      stage1  \n",
       "data/train_stage1/a9d884ba0929dac87c2052ce5b150...      stage1  \n",
       "data/train_stage1/a9d884ba0929dac87c2052ce5b150...      stage1  \n",
       "data/train_stage1/a9d884ba0929dac87c2052ce5b150...      stage1  "
      ]
     },
     "execution_count": 4,
     "metadata": {},
     "output_type": "execute_result"
    }
   ],
   "source": [
    "path_df.head()"
   ]
  },
  {
   "cell_type": "code",
   "execution_count": 5,
   "metadata": {
    "collapsed": false
   },
   "outputs": [
    {
     "data": {
      "text/html": [
       "<div>\n",
       "<style>\n",
       "    .dataframe thead tr:only-child th {\n",
       "        text-align: right;\n",
       "    }\n",
       "\n",
       "    .dataframe thead th {\n",
       "        text-align: left;\n",
       "    }\n",
       "\n",
       "    .dataframe tbody tr th {\n",
       "        vertical-align: top;\n",
       "    }\n",
       "</style>\n",
       "<table border=\"1\" class=\"dataframe\">\n",
       "  <thead>\n",
       "    <tr style=\"text-align: right;\">\n",
       "      <th></th>\n",
       "      <th>Image_ID</th>\n",
       "      <th>Image_GROUP</th>\n",
       "      <th>Image_TYPE</th>\n",
       "      <th>Image_STAGE</th>\n",
       "    </tr>\n",
       "  </thead>\n",
       "  <tbody>\n",
       "    <tr>\n",
       "      <th>count</th>\n",
       "      <td>30196</td>\n",
       "      <td>30196</td>\n",
       "      <td>30196</td>\n",
       "      <td>30196</td>\n",
       "    </tr>\n",
       "    <tr>\n",
       "      <th>unique</th>\n",
       "      <td>735</td>\n",
       "      <td>2</td>\n",
       "      <td>2</td>\n",
       "      <td>1</td>\n",
       "    </tr>\n",
       "    <tr>\n",
       "      <th>top</th>\n",
       "      <td>a102535b0e88374bea4a1cfd9ee7cb3822ff54f4ab2a98...</td>\n",
       "      <td>train</td>\n",
       "      <td>masks</td>\n",
       "      <td>stage1</td>\n",
       "    </tr>\n",
       "    <tr>\n",
       "      <th>freq</th>\n",
       "      <td>376</td>\n",
       "      <td>30131</td>\n",
       "      <td>29461</td>\n",
       "      <td>30196</td>\n",
       "    </tr>\n",
       "  </tbody>\n",
       "</table>\n",
       "</div>"
      ],
      "text/plain": [
       "                                                 Image_ID Image_GROUP  \\\n",
       "count                                               30196       30196   \n",
       "unique                                                735           2   \n",
       "top     a102535b0e88374bea4a1cfd9ee7cb3822ff54f4ab2a98...       train   \n",
       "freq                                                  376       30131   \n",
       "\n",
       "       Image_TYPE Image_STAGE  \n",
       "count       30196       30196  \n",
       "unique          2           1  \n",
       "top         masks      stage1  \n",
       "freq        29461       30196  "
      ]
     },
     "execution_count": 5,
     "metadata": {},
     "output_type": "execute_result"
    }
   ],
   "source": [
    "path_df.describe()"
   ]
  },
  {
   "cell_type": "markdown",
   "metadata": {},
   "source": [
    "### Train"
   ]
  },
  {
   "cell_type": "code",
   "execution_count": 6,
   "metadata": {
    "collapsed": false
   },
   "outputs": [
    {
     "name": "stdout",
     "output_type": "stream",
     "text": [
      "CPU times: user 2.23 s, sys: 36 ms, total: 2.27 s\n",
      "Wall time: 2.25 s\n"
     ]
    }
   ],
   "source": [
    "%%time\n",
    "\n",
    "train_df = path_df.query('Image_GROUP==\"train\"')\n",
    "train_rows = []\n",
    "group_cols = ['Image_STAGE', 'Image_ID']\n",
    "\n",
    "for n_group, n_rows in train_df.groupby(group_cols):\n",
    "    c_row = {col_name: col_value for col_name, col_value in zip(group_cols, n_group)}\n",
    "    c_row['masks_path'] = n_rows.query('Image_TYPE == \"masks\"').index.tolist()\n",
    "    c_row['image_path'] = n_rows.query('Image_TYPE == \"images\"').index[0]\n",
    "    train_rows += [c_row]\n",
    "train_img_df = pd.DataFrame(train_rows)"
   ]
  },
  {
   "cell_type": "code",
   "execution_count": 7,
   "metadata": {
    "collapsed": false
   },
   "outputs": [
    {
     "data": {
      "text/plain": [
       "(256, 256, 4)      334\n",
       "(256, 320, 4)      112\n",
       "(520, 696, 4)       92\n",
       "(360, 360, 4)       91\n",
       "(1024, 1024, 4)     16\n",
       "(512, 640, 4)       13\n",
       "(603, 1272, 4)       6\n",
       "(260, 347, 4)        5\n",
       "(1040, 1388, 4)      1\n",
       "Name: shape, dtype: int64"
      ]
     },
     "execution_count": 7,
     "metadata": {},
     "output_type": "execute_result"
    }
   ],
   "source": [
    "# %%time\n",
    "\n",
    "train_img_df['shape'] = train_img_df['image_path'].map(lambda x: imread(x).shape)\n",
    "train_img_df['shape'].value_counts()\n",
    "\n",
    "# train_img_df['max'] = train_img_df['image_path'].map(lambda x: imread(x).max())\n",
    "# train_img_df['max'].value_counts()\n",
    "\n",
    "# train_img_df['min'] = train_img_df['image_path'].map(lambda x: imread(x).min())\n",
    "# train_img_df['min'].value_counts()"
   ]
  },
  {
   "cell_type": "code",
   "execution_count": 8,
   "metadata": {
    "collapsed": true
   },
   "outputs": [],
   "source": [
    "img_height, img_width, img_channels = 256, 256, 3"
   ]
  },
  {
   "cell_type": "markdown",
   "metadata": {},
   "source": [
    "Train Images"
   ]
  },
  {
   "cell_type": "code",
   "execution_count": 9,
   "metadata": {
    "collapsed": false
   },
   "outputs": [
    {
     "name": "stdout",
     "output_type": "stream",
     "text": [
      "CPU times: user 13.7 s, sys: 22.6 s, total: 36.2 s\n",
      "Wall time: 11.2 s\n"
     ]
    }
   ],
   "source": [
    "%%time\n",
    "image_array_list = [resize(imread(train_img_df.loc[_, 'image_path']), (img_height, img_width), preserve_range=True) \\\n",
    "                    for _ in range(train_img_df.shape[0])]"
   ]
  },
  {
   "cell_type": "code",
   "execution_count": 10,
   "metadata": {
    "collapsed": false
   },
   "outputs": [],
   "source": [
    "image_array = np.stack(image_array_list)[:, :, :, :3]"
   ]
  },
  {
   "cell_type": "code",
   "execution_count": 13,
   "metadata": {
    "collapsed": false
   },
   "outputs": [
    {
     "data": {
      "text/plain": [
       "(670, 256, 256, 3)"
      ]
     },
     "execution_count": 13,
     "metadata": {},
     "output_type": "execute_result"
    }
   ],
   "source": [
    "image_array.shape"
   ]
  },
  {
   "cell_type": "markdown",
   "metadata": {},
   "source": [
    "Train Masks"
   ]
  },
  {
   "cell_type": "code",
   "execution_count": 14,
   "metadata": {
    "collapsed": false
   },
   "outputs": [
    {
     "name": "stdout",
     "output_type": "stream",
     "text": [
      "CPU times: user 34.4 s, sys: 35.4 s, total: 1min 9s\n",
      "Wall time: 31.9 s\n"
     ]
    }
   ],
   "source": [
    "%%time\n",
    "masks_array_list = [resize(np.sum(np.stack([imread(mask_path) for mask_path in train_img_df.loc[_, 'masks_path']]), axis=0), #np.max\n",
    "                           (img_height, img_width), preserve_range=True) for _ in range(train_img_df.shape[0])]"
   ]
  },
  {
   "cell_type": "code",
   "execution_count": 15,
   "metadata": {
    "collapsed": false,
    "scrolled": true
   },
   "outputs": [],
   "source": [
    "masks_array = (np.stack(masks_array_list) / 255).astype(int)"
   ]
  },
  {
   "cell_type": "code",
   "execution_count": 16,
   "metadata": {
    "collapsed": false
   },
   "outputs": [
    {
     "data": {
      "text/plain": [
       "(670, 256, 256)"
      ]
     },
     "execution_count": 16,
     "metadata": {},
     "output_type": "execute_result"
    }
   ],
   "source": [
    "masks_array.shape"
   ]
  },
  {
   "cell_type": "markdown",
   "metadata": {},
   "source": [
    "Save"
   ]
  },
  {
   "cell_type": "code",
   "execution_count": null,
   "metadata": {
    "collapsed": true
   },
   "outputs": [],
   "source": [
    "save_path = 'stage1_train_data_compressed.npz'"
   ]
  },
  {
   "cell_type": "code",
   "execution_count": 17,
   "metadata": {
    "collapsed": true
   },
   "outputs": [],
   "source": [
    "np.savez_compressed(save_path, images=image_array, masks=masks_array)"
   ]
  },
  {
   "cell_type": "markdown",
   "metadata": {},
   "source": [
    "Load"
   ]
  },
  {
   "cell_type": "code",
   "execution_count": 19,
   "metadata": {
    "collapsed": true
   },
   "outputs": [],
   "source": [
    "load_path = 'stage1_train_data_compressed.npz'"
   ]
  },
  {
   "cell_type": "code",
   "execution_count": 20,
   "metadata": {
    "collapsed": false
   },
   "outputs": [
    {
     "name": "stdout",
     "output_type": "stream",
     "text": [
      "['masks', 'images']\n",
      "CPU times: user 3.9 s, sys: 3.11 s, total: 7 s\n",
      "Wall time: 7 s\n"
     ]
    }
   ],
   "source": [
    "%%time\n",
    "with np.load(load_path) as f:\n",
    "    print(f.files)\n",
    "    train_images = f['images']\n",
    "    train_masks = f['masks']"
   ]
  },
  {
   "cell_type": "code",
   "execution_count": null,
   "metadata": {
    "collapsed": true
   },
   "outputs": [],
   "source": []
  },
  {
   "cell_type": "code",
   "execution_count": null,
   "metadata": {
    "collapsed": true
   },
   "outputs": [],
   "source": []
  },
  {
   "cell_type": "code",
   "execution_count": null,
   "metadata": {
    "collapsed": true
   },
   "outputs": [],
   "source": []
  },
  {
   "cell_type": "code",
   "execution_count": null,
   "metadata": {
    "collapsed": true
   },
   "outputs": [],
   "source": []
  },
  {
   "cell_type": "code",
   "execution_count": 21,
   "metadata": {
    "collapsed": false,
    "scrolled": true
   },
   "outputs": [
    {
     "name": "stderr",
     "output_type": "stream",
     "text": [
      "/home/liushrui/install/anaconda3/lib/python3.5/site-packages/skimage/io/_plugins/matplotlib_plugin.py:51: FutureWarning: Conversion of the second argument of issubdtype from `float` to `np.floating` is deprecated. In future, it will be treated as `np.float64 == np.dtype(float).type`.\n",
      "  out_of_range_float = (np.issubdtype(image.dtype, np.float) and\n"
     ]
    },
    {
     "data": {
      "text/plain": [
       "<matplotlib.image.AxesImage at 0x7f02d80a0048>"
      ]
     },
     "execution_count": 21,
     "metadata": {},
     "output_type": "execute_result"
    },
    {
     "data": {
      "image/png": "[encoded data removed]",
      "text/plain": [
       "<matplotlib.figure.Figure at 0x7f02d89cc4e0>"
      ]
     },
     "metadata": {},
     "output_type": "display_data"
    }
   ],
   "source": [
    "imshow(train_masks[100,:,:])"
   ]
  },
  {
   "cell_type": "code",
   "execution_count": 22,
   "metadata": {
    "collapsed": false
   },
   "outputs": [
    {
     "data": {
      "text/plain": [
       "Image_ID       23830d0e51245fc0c9e410efa4c17d2a7d83a0104a3777...\n",
       "Image_STAGE                                               stage1\n",
       "image_path     data/train_stage1/23830d0e51245fc0c9e410efa4c1...\n",
       "masks_path     [data/train_stage1/23830d0e51245fc0c9e410efa4c...\n",
       "shape                                              (256, 256, 4)\n",
       "Name: 100, dtype: object"
      ]
     },
     "execution_count": 22,
     "metadata": {},
     "output_type": "execute_result"
    }
   ],
   "source": [
    "train_img_df.loc[100, :]"
   ]
  },
  {
   "cell_type": "code",
   "execution_count": 23,
   "metadata": {
    "collapsed": false
   },
   "outputs": [
    {
     "name": "stderr",
     "output_type": "stream",
     "text": [
      "/home/liushrui/install/anaconda3/lib/python3.5/site-packages/skimage/io/_plugins/matplotlib_plugin.py:51: FutureWarning: Conversion of the second argument of issubdtype from `float` to `np.floating` is deprecated. In future, it will be treated as `np.float64 == np.dtype(float).type`.\n",
      "  out_of_range_float = (np.issubdtype(image.dtype, np.float) and\n"
     ]
    },
    {
     "data": {
      "text/plain": [
       "<matplotlib.image.AxesImage at 0x7f02b877a2e8>"
      ]
     },
     "execution_count": 23,
     "metadata": {},
     "output_type": "execute_result"
    },
    {
     "data": {
      "image/png": "[encoded data removed]",
      "text/plain": [
       "<matplotlib.figure.Figure at 0x7f02d805ea90>"
      ]
     },
     "metadata": {},
     "output_type": "display_data"
    }
   ],
   "source": [
    "s = np.sum(np.stack([imread(mask_path) for mask_path in train_img_df.loc[100, 'masks_path']]), 0)\n",
    "\n",
    "imshow(s)"
   ]
  },
  {
   "cell_type": "code",
   "execution_count": 24,
   "metadata": {
    "collapsed": false
   },
   "outputs": [
    {
     "name": "stderr",
     "output_type": "stream",
     "text": [
      "/home/liushrui/install/anaconda3/lib/python3.5/site-packages/skimage/io/_plugins/matplotlib_plugin.py:51: FutureWarning: Conversion of the second argument of issubdtype from `float` to `np.floating` is deprecated. In future, it will be treated as `np.float64 == np.dtype(float).type`.\n",
      "  out_of_range_float = (np.issubdtype(image.dtype, np.float) and\n"
     ]
    },
    {
     "data": {
      "text/plain": [
       "<matplotlib.image.AxesImage at 0x7f02b875b198>"
      ]
     },
     "execution_count": 24,
     "metadata": {},
     "output_type": "execute_result"
    },
    {
     "data": {
      "image/png": "[encoded data removed]",
      "text/plain": [
       "<matplotlib.figure.Figure at 0x7f02b87a4080>"
      ]
     },
     "metadata": {},
     "output_type": "display_data"
    }
   ],
   "source": [
    "imshow(masks_array[100,:,:])"
   ]
  },
  {
   "cell_type": "code",
   "execution_count": 25,
   "metadata": {
    "collapsed": false
   },
   "outputs": [
    {
     "name": "stderr",
     "output_type": "stream",
     "text": [
      "/home/liushrui/install/anaconda3/lib/python3.5/site-packages/skimage/io/_plugins/matplotlib_plugin.py:51: FutureWarning: Conversion of the second argument of issubdtype from `float` to `np.floating` is deprecated. In future, it will be treated as `np.float64 == np.dtype(float).type`.\n",
      "  out_of_range_float = (np.issubdtype(image.dtype, np.float) and\n"
     ]
    },
    {
     "data": {
      "text/plain": [
       "<matplotlib.image.AxesImage at 0x7f02b86c2550>"
      ]
     },
     "execution_count": 25,
     "metadata": {},
     "output_type": "execute_result"
    },
    {
     "data": {
      "image/png": "[encoded data removed]",
      "text/plain": [
       "<matplotlib.figure.Figure at 0x7f02b8767b38>"
      ]
     },
     "metadata": {},
     "output_type": "display_data"
    }
   ],
   "source": [
    "imshow(imread(train_img_df.loc[100, 'image_path']))"
   ]
  },
  {
   "cell_type": "code",
   "execution_count": null,
   "metadata": {
    "collapsed": true
   },
   "outputs": [],
   "source": []
  },
  {
   "cell_type": "code",
   "execution_count": null,
   "metadata": {
    "collapsed": true
   },
   "outputs": [],
   "source": []
  },
  {
   "cell_type": "code",
   "execution_count": null,
   "metadata": {
    "collapsed": true
   },
   "outputs": [],
   "source": []
  },
  {
   "cell_type": "markdown",
   "metadata": {
    "collapsed": true
   },
   "source": [
    "### Test"
   ]
  },
  {
   "cell_type": "code",
   "execution_count": 29,
   "metadata": {
    "collapsed": false
   },
   "outputs": [],
   "source": [
    "test_df = path_df.query('Image_GROUP==\"test\"')\n",
    "test_rows = []\n",
    "group_cols = ['Image_STAGE', 'Image_ID']\n",
    "\n",
    "for n_group, n_rows in test_df.groupby(group_cols):\n",
    "    c_row = {col_name: col_value for col_name, col_value in zip(group_cols, n_group)}\n",
    "    c_row['image_path'] = n_rows.query('Image_TYPE == \"images\"').index[0]\n",
    "    test_rows += [c_row]\n",
    "test_img_df = pd.DataFrame(test_rows)\n",
    "test_img_df['shape'] = test_img_df['image_path'].map(lambda x:imread(x).shape)"
   ]
  },
  {
   "cell_type": "code",
   "execution_count": 31,
   "metadata": {
    "collapsed": false,
    "scrolled": true
   },
   "outputs": [
    {
     "data": {
      "text/html": [
       "<div>\n",
       "<style>\n",
       "    .dataframe thead tr:only-child th {\n",
       "        text-align: right;\n",
       "    }\n",
       "\n",
       "    .dataframe thead th {\n",
       "        text-align: left;\n",
       "    }\n",
       "\n",
       "    .dataframe tbody tr th {\n",
       "        vertical-align: top;\n",
       "    }\n",
       "</style>\n",
       "<table border=\"1\" class=\"dataframe\">\n",
       "  <thead>\n",
       "    <tr style=\"text-align: right;\">\n",
       "      <th></th>\n",
       "      <th>Image_ID</th>\n",
       "      <th>Image_STAGE</th>\n",
       "      <th>image_path</th>\n",
       "      <th>shape</th>\n",
       "    </tr>\n",
       "  </thead>\n",
       "  <tbody>\n",
       "    <tr>\n",
       "      <th>0</th>\n",
       "      <td>0114f484a16c152baa2d82fdd43740880a762c93f436c8...</td>\n",
       "      <td>stage1</td>\n",
       "      <td>data/test_stage1/0114f484a16c152baa2d82fdd4374...</td>\n",
       "      <td>(256, 256, 4)</td>\n",
       "    </tr>\n",
       "    <tr>\n",
       "      <th>1</th>\n",
       "      <td>0999dab07b11bc85fb8464fc36c947fbd8b5d6ec498173...</td>\n",
       "      <td>stage1</td>\n",
       "      <td>data/test_stage1/0999dab07b11bc85fb8464fc36c94...</td>\n",
       "      <td>(519, 253, 3)</td>\n",
       "    </tr>\n",
       "    <tr>\n",
       "      <th>2</th>\n",
       "      <td>0a849e0eb15faa8a6d7329c3dd66aabe9a294cccb52ed3...</td>\n",
       "      <td>stage1</td>\n",
       "      <td>data/test_stage1/0a849e0eb15faa8a6d7329c3dd66a...</td>\n",
       "      <td>(256, 256, 3)</td>\n",
       "    </tr>\n",
       "    <tr>\n",
       "      <th>3</th>\n",
       "      <td>0e132f71c8b4875c3c2dd7a22997468a3e842b46aa9bd4...</td>\n",
       "      <td>stage1</td>\n",
       "      <td>data/test_stage1/0e132f71c8b4875c3c2dd7a229974...</td>\n",
       "      <td>(256, 256, 4)</td>\n",
       "    </tr>\n",
       "    <tr>\n",
       "      <th>4</th>\n",
       "      <td>0ed3555a4bd48046d3b63d8baf03a5aa97e523aa483aaa...</td>\n",
       "      <td>stage1</td>\n",
       "      <td>data/test_stage1/0ed3555a4bd48046d3b63d8baf03a...</td>\n",
       "      <td>(256, 256, 4)</td>\n",
       "    </tr>\n",
       "  </tbody>\n",
       "</table>\n",
       "</div>"
      ],
      "text/plain": [
       "                                            Image_ID Image_STAGE  \\\n",
       "0  0114f484a16c152baa2d82fdd43740880a762c93f436c8...      stage1   \n",
       "1  0999dab07b11bc85fb8464fc36c947fbd8b5d6ec498173...      stage1   \n",
       "2  0a849e0eb15faa8a6d7329c3dd66aabe9a294cccb52ed3...      stage1   \n",
       "3  0e132f71c8b4875c3c2dd7a22997468a3e842b46aa9bd4...      stage1   \n",
       "4  0ed3555a4bd48046d3b63d8baf03a5aa97e523aa483aaa...      stage1   \n",
       "\n",
       "                                          image_path          shape  \n",
       "0  data/test_stage1/0114f484a16c152baa2d82fdd4374...  (256, 256, 4)  \n",
       "1  data/test_stage1/0999dab07b11bc85fb8464fc36c94...  (519, 253, 3)  \n",
       "2  data/test_stage1/0a849e0eb15faa8a6d7329c3dd66a...  (256, 256, 3)  \n",
       "3  data/test_stage1/0e132f71c8b4875c3c2dd7a229974...  (256, 256, 4)  \n",
       "4  data/test_stage1/0ed3555a4bd48046d3b63d8baf03a...  (256, 256, 4)  "
      ]
     },
     "execution_count": 31,
     "metadata": {},
     "output_type": "execute_result"
    }
   ],
   "source": [
    "test_img_df.head()"
   ]
  },
  {
   "cell_type": "code",
   "execution_count": 32,
   "metadata": {
    "collapsed": false
   },
   "outputs": [
    {
     "data": {
      "text/plain": [
       "(256, 256, 4)    20\n",
       "(512, 640, 4)     8\n",
       "(512, 680, 3)     8\n",
       "(256, 256, 3)     4\n",
       "(519, 253, 3)     4\n",
       "(520, 348, 3)     4\n",
       "(260, 347, 4)     4\n",
       "(520, 696, 4)     4\n",
       "(524, 348, 3)     4\n",
       "(519, 161, 3)     2\n",
       "(519, 162, 3)     2\n",
       "(390, 239, 4)     1\n",
       "Name: shape, dtype: int64"
      ]
     },
     "execution_count": 32,
     "metadata": {},
     "output_type": "execute_result"
    }
   ],
   "source": [
    "test_img_df['shape'].value_counts()"
   ]
  },
  {
   "cell_type": "code",
   "execution_count": 45,
   "metadata": {
    "collapsed": false
   },
   "outputs": [
    {
     "name": "stdout",
     "output_type": "stream",
     "text": [
      "CPU times: user 1.39 s, sys: 1.94 s, total: 3.32 s\n",
      "Wall time: 1.11 s\n"
     ]
    }
   ],
   "source": [
    "%%time\n",
    "test_image_array_list = [resize(imread(test_img_df.loc[_, 'image_path']), (img_height, img_width), preserve_range=True)[:,:,:3] \\\n",
    "                         for _ in range(test_img_df.shape[0])]"
   ]
  },
  {
   "cell_type": "code",
   "execution_count": 46,
   "metadata": {
    "collapsed": false
   },
   "outputs": [
    {
     "data": {
      "text/plain": [
       "(65, 256, 256, 3)"
      ]
     },
     "execution_count": 46,
     "metadata": {},
     "output_type": "execute_result"
    }
   ],
   "source": [
    "test_image_array = np.stack(test_image_array_list)\n",
    "test_image_array.shape"
   ]
  },
  {
   "cell_type": "code",
   "execution_count": 50,
   "metadata": {
    "collapsed": true
   },
   "outputs": [],
   "source": [
    "test_save_path = 'stage1_test_data_compressed.npz'"
   ]
  },
  {
   "cell_type": "code",
   "execution_count": 59,
   "metadata": {
    "collapsed": false,
    "scrolled": true
   },
   "outputs": [],
   "source": [
    "test_image_shape = test_img_df['shape'].values"
   ]
  },
  {
   "cell_type": "code",
   "execution_count": 64,
   "metadata": {
    "collapsed": true
   },
   "outputs": [],
   "source": [
    "np.savez_compressed(test_save_path, images=test_image_array, shapes=test_image_shape)"
   ]
  },
  {
   "cell_type": "code",
   "execution_count": 65,
   "metadata": {
    "collapsed": false,
    "scrolled": true
   },
   "outputs": [
    {
     "data": {
      "text/html": [
       "<div>\n",
       "<style>\n",
       "    .dataframe thead tr:only-child th {\n",
       "        text-align: right;\n",
       "    }\n",
       "\n",
       "    .dataframe thead th {\n",
       "        text-align: left;\n",
       "    }\n",
       "\n",
       "    .dataframe tbody tr th {\n",
       "        vertical-align: top;\n",
       "    }\n",
       "</style>\n",
       "<table border=\"1\" class=\"dataframe\">\n",
       "  <thead>\n",
       "    <tr style=\"text-align: right;\">\n",
       "      <th></th>\n",
       "      <th>Image_ID</th>\n",
       "      <th>Image_STAGE</th>\n",
       "      <th>image_path</th>\n",
       "      <th>shape</th>\n",
       "    </tr>\n",
       "  </thead>\n",
       "  <tbody>\n",
       "    <tr>\n",
       "      <th>0</th>\n",
       "      <td>0114f484a16c152baa2d82fdd43740880a762c93f436c8...</td>\n",
       "      <td>stage1</td>\n",
       "      <td>data/test_stage1/0114f484a16c152baa2d82fdd4374...</td>\n",
       "      <td>(256, 256, 4)</td>\n",
       "    </tr>\n",
       "    <tr>\n",
       "      <th>1</th>\n",
       "      <td>0999dab07b11bc85fb8464fc36c947fbd8b5d6ec498173...</td>\n",
       "      <td>stage1</td>\n",
       "      <td>data/test_stage1/0999dab07b11bc85fb8464fc36c94...</td>\n",
       "      <td>(519, 253, 3)</td>\n",
       "    </tr>\n",
       "    <tr>\n",
       "      <th>2</th>\n",
       "      <td>0a849e0eb15faa8a6d7329c3dd66aabe9a294cccb52ed3...</td>\n",
       "      <td>stage1</td>\n",
       "      <td>data/test_stage1/0a849e0eb15faa8a6d7329c3dd66a...</td>\n",
       "      <td>(256, 256, 3)</td>\n",
       "    </tr>\n",
       "    <tr>\n",
       "      <th>3</th>\n",
       "      <td>0e132f71c8b4875c3c2dd7a22997468a3e842b46aa9bd4...</td>\n",
       "      <td>stage1</td>\n",
       "      <td>data/test_stage1/0e132f71c8b4875c3c2dd7a229974...</td>\n",
       "      <td>(256, 256, 4)</td>\n",
       "    </tr>\n",
       "    <tr>\n",
       "      <th>4</th>\n",
       "      <td>0ed3555a4bd48046d3b63d8baf03a5aa97e523aa483aaa...</td>\n",
       "      <td>stage1</td>\n",
       "      <td>data/test_stage1/0ed3555a4bd48046d3b63d8baf03a...</td>\n",
       "      <td>(256, 256, 4)</td>\n",
       "    </tr>\n",
       "    <tr>\n",
       "      <th>5</th>\n",
       "      <td>0f1f896d9ae5a04752d3239c690402c022db4d72c0d2c0...</td>\n",
       "      <td>stage1</td>\n",
       "      <td>data/test_stage1/0f1f896d9ae5a04752d3239c69040...</td>\n",
       "      <td>(512, 680, 3)</td>\n",
       "    </tr>\n",
       "    <tr>\n",
       "      <th>6</th>\n",
       "      <td>1747f62148a919c8feb6d607faeebdf504b5e2ad42b6b1...</td>\n",
       "      <td>stage1</td>\n",
       "      <td>data/test_stage1/1747f62148a919c8feb6d607faeeb...</td>\n",
       "      <td>(512, 640, 4)</td>\n",
       "    </tr>\n",
       "    <tr>\n",
       "      <th>7</th>\n",
       "      <td>17b9bf4356db24967c4677b8376ac38f826de73a88b93a...</td>\n",
       "      <td>stage1</td>\n",
       "      <td>data/test_stage1/17b9bf4356db24967c4677b8376ac...</td>\n",
       "      <td>(512, 680, 3)</td>\n",
       "    </tr>\n",
       "    <tr>\n",
       "      <th>8</th>\n",
       "      <td>1879f4f4f05e2bada0ffeb46c128b8df7a79b14c84f38c...</td>\n",
       "      <td>stage1</td>\n",
       "      <td>data/test_stage1/1879f4f4f05e2bada0ffeb46c128b...</td>\n",
       "      <td>(512, 640, 4)</td>\n",
       "    </tr>\n",
       "    <tr>\n",
       "      <th>9</th>\n",
       "      <td>191b2b2205f2f5cc9da04702c5d422bc249faf8bca1107...</td>\n",
       "      <td>stage1</td>\n",
       "      <td>data/test_stage1/191b2b2205f2f5cc9da04702c5d42...</td>\n",
       "      <td>(256, 256, 4)</td>\n",
       "    </tr>\n",
       "    <tr>\n",
       "      <th>10</th>\n",
       "      <td>1962d0c5faf3e85cda80e0578e0cb7aca50826d781620e...</td>\n",
       "      <td>stage1</td>\n",
       "      <td>data/test_stage1/1962d0c5faf3e85cda80e0578e0cb...</td>\n",
       "      <td>(519, 162, 3)</td>\n",
       "    </tr>\n",
       "    <tr>\n",
       "      <th>11</th>\n",
       "      <td>1cdbfee1951356e7b0a215073828695fe1ead5f8b1add1...</td>\n",
       "      <td>stage1</td>\n",
       "      <td>data/test_stage1/1cdbfee1951356e7b0a2150738286...</td>\n",
       "      <td>(512, 640, 4)</td>\n",
       "    </tr>\n",
       "    <tr>\n",
       "      <th>12</th>\n",
       "      <td>1d9eacb3161f1e2b45550389ecf7c535c7199c6b44b1c6...</td>\n",
       "      <td>stage1</td>\n",
       "      <td>data/test_stage1/1d9eacb3161f1e2b45550389ecf7c...</td>\n",
       "      <td>(524, 348, 3)</td>\n",
       "    </tr>\n",
       "    <tr>\n",
       "      <th>13</th>\n",
       "      <td>1ef68e93964c2d9230100c1347c328f6385a7bc027879d...</td>\n",
       "      <td>stage1</td>\n",
       "      <td>data/test_stage1/1ef68e93964c2d9230100c1347c32...</td>\n",
       "      <td>(256, 256, 4)</td>\n",
       "    </tr>\n",
       "    <tr>\n",
       "      <th>14</th>\n",
       "      <td>259b35151d4a7a5ffdd7ab7f171b142db8cfe40beeee67...</td>\n",
       "      <td>stage1</td>\n",
       "      <td>data/test_stage1/259b35151d4a7a5ffdd7ab7f171b1...</td>\n",
       "      <td>(512, 680, 3)</td>\n",
       "    </tr>\n",
       "    <tr>\n",
       "      <th>15</th>\n",
       "      <td>295682d9eb5acb5c1976a460c085734bfaf38482b0a3f0...</td>\n",
       "      <td>stage1</td>\n",
       "      <td>data/test_stage1/295682d9eb5acb5c1976a460c0857...</td>\n",
       "      <td>(256, 256, 4)</td>\n",
       "    </tr>\n",
       "    <tr>\n",
       "      <th>16</th>\n",
       "      <td>31f1fbe85b8899258ea5bcf5f93f7ac8238660c386aeab...</td>\n",
       "      <td>stage1</td>\n",
       "      <td>data/test_stage1/31f1fbe85b8899258ea5bcf5f93f7...</td>\n",
       "      <td>(256, 256, 4)</td>\n",
       "    </tr>\n",
       "    <tr>\n",
       "      <th>17</th>\n",
       "      <td>336d3e4105766f8ad328a7ee9571e743f376f8cbcf6a96...</td>\n",
       "      <td>stage1</td>\n",
       "      <td>data/test_stage1/336d3e4105766f8ad328a7ee9571e...</td>\n",
       "      <td>(519, 253, 3)</td>\n",
       "    </tr>\n",
       "    <tr>\n",
       "      <th>18</th>\n",
       "      <td>38f5cfb55fc8b048e82a5c895b25fefae7a70c71ab9990...</td>\n",
       "      <td>stage1</td>\n",
       "      <td>data/test_stage1/38f5cfb55fc8b048e82a5c895b25f...</td>\n",
       "      <td>(256, 256, 4)</td>\n",
       "    </tr>\n",
       "    <tr>\n",
       "      <th>19</th>\n",
       "      <td>3c4c675825f7509877bc10497f498c9a2e3433bf922bd8...</td>\n",
       "      <td>stage1</td>\n",
       "      <td>data/test_stage1/3c4c675825f7509877bc10497f498...</td>\n",
       "      <td>(524, 348, 3)</td>\n",
       "    </tr>\n",
       "    <tr>\n",
       "      <th>20</th>\n",
       "      <td>432f367a4c5b5674de2e2977744d10289a064e5704b21a...</td>\n",
       "      <td>stage1</td>\n",
       "      <td>data/test_stage1/432f367a4c5b5674de2e2977744d1...</td>\n",
       "      <td>(520, 348, 3)</td>\n",
       "    </tr>\n",
       "    <tr>\n",
       "      <th>21</th>\n",
       "      <td>43a71aeb641faa18742cb826772a8566c6c947d7050f9a...</td>\n",
       "      <td>stage1</td>\n",
       "      <td>data/test_stage1/43a71aeb641faa18742cb826772a8...</td>\n",
       "      <td>(260, 347, 4)</td>\n",
       "    </tr>\n",
       "    <tr>\n",
       "      <th>22</th>\n",
       "      <td>44afae184c89e6ba55985b4d341acc1ae1e8b6ef963120...</td>\n",
       "      <td>stage1</td>\n",
       "      <td>data/test_stage1/44afae184c89e6ba55985b4d341ac...</td>\n",
       "      <td>(512, 680, 3)</td>\n",
       "    </tr>\n",
       "    <tr>\n",
       "      <th>23</th>\n",
       "      <td>4727d94c6a57ed484270fdd8bbc6e3d5f2f15d5476794a...</td>\n",
       "      <td>stage1</td>\n",
       "      <td>data/test_stage1/4727d94c6a57ed484270fdd8bbc6e...</td>\n",
       "      <td>(256, 256, 4)</td>\n",
       "    </tr>\n",
       "    <tr>\n",
       "      <th>24</th>\n",
       "      <td>472b1c5ff988dadc209faea92499bc07f305208dbda29d...</td>\n",
       "      <td>stage1</td>\n",
       "      <td>data/test_stage1/472b1c5ff988dadc209faea92499b...</td>\n",
       "      <td>(512, 680, 3)</td>\n",
       "    </tr>\n",
       "    <tr>\n",
       "      <th>25</th>\n",
       "      <td>4be73d68f433869188fe5e7f09c7f681ed51003da6aa5d...</td>\n",
       "      <td>stage1</td>\n",
       "      <td>data/test_stage1/4be73d68f433869188fe5e7f09c7f...</td>\n",
       "      <td>(256, 256, 3)</td>\n",
       "    </tr>\n",
       "    <tr>\n",
       "      <th>26</th>\n",
       "      <td>4f949bd8d914bbfa06f40d6a0e2b5b75c38bf53dbcbafc...</td>\n",
       "      <td>stage1</td>\n",
       "      <td>data/test_stage1/4f949bd8d914bbfa06f40d6a0e2b5...</td>\n",
       "      <td>(390, 239, 4)</td>\n",
       "    </tr>\n",
       "    <tr>\n",
       "      <th>27</th>\n",
       "      <td>505bc0a3928d8aef5ce441c5a611fdd32e1e8eccdc15cc...</td>\n",
       "      <td>stage1</td>\n",
       "      <td>data/test_stage1/505bc0a3928d8aef5ce441c5a611f...</td>\n",
       "      <td>(512, 640, 4)</td>\n",
       "    </tr>\n",
       "    <tr>\n",
       "      <th>28</th>\n",
       "      <td>519dc0d672d1c295fc69b629af8721ccb1a1f136d19766...</td>\n",
       "      <td>stage1</td>\n",
       "      <td>data/test_stage1/519dc0d672d1c295fc69b629af872...</td>\n",
       "      <td>(256, 256, 4)</td>\n",
       "    </tr>\n",
       "    <tr>\n",
       "      <th>29</th>\n",
       "      <td>51c70bb8a299943b27f8b354571272692d8f2705036a1a...</td>\n",
       "      <td>stage1</td>\n",
       "      <td>data/test_stage1/51c70bb8a299943b27f8b35457127...</td>\n",
       "      <td>(256, 256, 4)</td>\n",
       "    </tr>\n",
       "    <tr>\n",
       "      <th>...</th>\n",
       "      <td>...</td>\n",
       "      <td>...</td>\n",
       "      <td>...</td>\n",
       "      <td>...</td>\n",
       "    </tr>\n",
       "    <tr>\n",
       "      <th>35</th>\n",
       "      <td>697a05c6fe4a07c601d46da80885645ad574ea19b47ee7...</td>\n",
       "      <td>stage1</td>\n",
       "      <td>data/test_stage1/697a05c6fe4a07c601d46da808856...</td>\n",
       "      <td>(256, 256, 3)</td>\n",
       "    </tr>\n",
       "    <tr>\n",
       "      <th>36</th>\n",
       "      <td>699f2992cd71e2e28cf45f81347ff22e76b37541ce8808...</td>\n",
       "      <td>stage1</td>\n",
       "      <td>data/test_stage1/699f2992cd71e2e28cf45f81347ff...</td>\n",
       "      <td>(260, 347, 4)</td>\n",
       "    </tr>\n",
       "    <tr>\n",
       "      <th>37</th>\n",
       "      <td>78a981bd27ba0c65a9169548665a17bda9f49050d0d389...</td>\n",
       "      <td>stage1</td>\n",
       "      <td>data/test_stage1/78a981bd27ba0c65a9169548665a1...</td>\n",
       "      <td>(520, 348, 3)</td>\n",
       "    </tr>\n",
       "    <tr>\n",
       "      <th>38</th>\n",
       "      <td>7bdb668e6127b7eafc837a883f0648002bd063c736f55a...</td>\n",
       "      <td>stage1</td>\n",
       "      <td>data/test_stage1/7bdb668e6127b7eafc837a883f064...</td>\n",
       "      <td>(512, 640, 4)</td>\n",
       "    </tr>\n",
       "    <tr>\n",
       "      <th>39</th>\n",
       "      <td>7f4cbe0b36b5d09466476a7d4e01f4f976c67872d549f4...</td>\n",
       "      <td>stage1</td>\n",
       "      <td>data/test_stage1/7f4cbe0b36b5d09466476a7d4e01f...</td>\n",
       "      <td>(256, 256, 3)</td>\n",
       "    </tr>\n",
       "    <tr>\n",
       "      <th>40</th>\n",
       "      <td>8922a6ac8fd0258ec27738ca101867169b20d90a60fc84...</td>\n",
       "      <td>stage1</td>\n",
       "      <td>data/test_stage1/8922a6ac8fd0258ec27738ca10186...</td>\n",
       "      <td>(512, 640, 4)</td>\n",
       "    </tr>\n",
       "    <tr>\n",
       "      <th>41</th>\n",
       "      <td>8b59819fbc92eefe45b1db95c0cc3a467ddcfc755684c7...</td>\n",
       "      <td>stage1</td>\n",
       "      <td>data/test_stage1/8b59819fbc92eefe45b1db95c0cc3...</td>\n",
       "      <td>(520, 696, 4)</td>\n",
       "    </tr>\n",
       "    <tr>\n",
       "      <th>42</th>\n",
       "      <td>912a679e4b9b1d1a75170254fd675b8c24b664d80ad7ea...</td>\n",
       "      <td>stage1</td>\n",
       "      <td>data/test_stage1/912a679e4b9b1d1a75170254fd675...</td>\n",
       "      <td>(256, 256, 4)</td>\n",
       "    </tr>\n",
       "    <tr>\n",
       "      <th>43</th>\n",
       "      <td>9ab2d381f90b485a68b82bc07f94397a0373e3215ad209...</td>\n",
       "      <td>stage1</td>\n",
       "      <td>data/test_stage1/9ab2d381f90b485a68b82bc07f943...</td>\n",
       "      <td>(512, 640, 4)</td>\n",
       "    </tr>\n",
       "    <tr>\n",
       "      <th>44</th>\n",
       "      <td>9f17aea854db13015d19b34cb2022cfdeda44133323fcd...</td>\n",
       "      <td>stage1</td>\n",
       "      <td>data/test_stage1/9f17aea854db13015d19b34cb2022...</td>\n",
       "      <td>(512, 680, 3)</td>\n",
       "    </tr>\n",
       "    <tr>\n",
       "      <th>45</th>\n",
       "      <td>a4816cc1fb76cb3c5e481186833fc0ae9cf426a1406a26...</td>\n",
       "      <td>stage1</td>\n",
       "      <td>data/test_stage1/a4816cc1fb76cb3c5e481186833fc...</td>\n",
       "      <td>(519, 253, 3)</td>\n",
       "    </tr>\n",
       "    <tr>\n",
       "      <th>46</th>\n",
       "      <td>a984e7fb886aa02e29d112766d3ce26a4f78eac540ce7b...</td>\n",
       "      <td>stage1</td>\n",
       "      <td>data/test_stage1/a984e7fb886aa02e29d112766d3ce...</td>\n",
       "      <td>(519, 161, 3)</td>\n",
       "    </tr>\n",
       "    <tr>\n",
       "      <th>47</th>\n",
       "      <td>ab298b962a63e4be9582513aaa84a5e270adba5fd2b16a...</td>\n",
       "      <td>stage1</td>\n",
       "      <td>data/test_stage1/ab298b962a63e4be9582513aaa84a...</td>\n",
       "      <td>(256, 256, 4)</td>\n",
       "    </tr>\n",
       "    <tr>\n",
       "      <th>48</th>\n",
       "      <td>ade080c6618cbbb0a25680cf847f312b5e19b22bfe1caf...</td>\n",
       "      <td>stage1</td>\n",
       "      <td>data/test_stage1/ade080c6618cbbb0a25680cf847f3...</td>\n",
       "      <td>(520, 696, 4)</td>\n",
       "    </tr>\n",
       "    <tr>\n",
       "      <th>49</th>\n",
       "      <td>b83d1d77935b6cfd44105b54600ffc4b6bd82de57dec65...</td>\n",
       "      <td>stage1</td>\n",
       "      <td>data/test_stage1/b83d1d77935b6cfd44105b54600ff...</td>\n",
       "      <td>(524, 348, 3)</td>\n",
       "    </tr>\n",
       "    <tr>\n",
       "      <th>50</th>\n",
       "      <td>bdc789019cee8ddfae20d5f769299993b4b330b2d38d12...</td>\n",
       "      <td>stage1</td>\n",
       "      <td>data/test_stage1/bdc789019cee8ddfae20d5f769299...</td>\n",
       "      <td>(520, 696, 4)</td>\n",
       "    </tr>\n",
       "    <tr>\n",
       "      <th>51</th>\n",
       "      <td>c8e79ff4ac55f4b772057de28e539727b7f4f2a3de73bf...</td>\n",
       "      <td>stage1</td>\n",
       "      <td>data/test_stage1/c8e79ff4ac55f4b772057de28e539...</td>\n",
       "      <td>(524, 348, 3)</td>\n",
       "    </tr>\n",
       "    <tr>\n",
       "      <th>52</th>\n",
       "      <td>ca20076870e8fb604e61802605a9ac45419c82dd3e2340...</td>\n",
       "      <td>stage1</td>\n",
       "      <td>data/test_stage1/ca20076870e8fb604e61802605a9a...</td>\n",
       "      <td>(519, 161, 3)</td>\n",
       "    </tr>\n",
       "    <tr>\n",
       "      <th>53</th>\n",
       "      <td>d616d323a9eeb9da1b66f8d5df671d63c092c9919cb2c0...</td>\n",
       "      <td>stage1</td>\n",
       "      <td>data/test_stage1/d616d323a9eeb9da1b66f8d5df671...</td>\n",
       "      <td>(519, 162, 3)</td>\n",
       "    </tr>\n",
       "    <tr>\n",
       "      <th>54</th>\n",
       "      <td>d6eb7ce7723e2f6dc13b90b41a29ded27dbd815bad633f...</td>\n",
       "      <td>stage1</td>\n",
       "      <td>data/test_stage1/d6eb7ce7723e2f6dc13b90b41a29d...</td>\n",
       "      <td>(520, 348, 3)</td>\n",
       "    </tr>\n",
       "    <tr>\n",
       "      <th>55</th>\n",
       "      <td>d8d4bf68a76e4e4c5f21de7ac613451f7115a04db68615...</td>\n",
       "      <td>stage1</td>\n",
       "      <td>data/test_stage1/d8d4bf68a76e4e4c5f21de7ac6134...</td>\n",
       "      <td>(256, 256, 4)</td>\n",
       "    </tr>\n",
       "    <tr>\n",
       "      <th>56</th>\n",
       "      <td>da6c593410340b19bb212b9f6d274f95b08c0fc8f2570c...</td>\n",
       "      <td>stage1</td>\n",
       "      <td>data/test_stage1/da6c593410340b19bb212b9f6d274...</td>\n",
       "      <td>(512, 680, 3)</td>\n",
       "    </tr>\n",
       "    <tr>\n",
       "      <th>57</th>\n",
       "      <td>dab46d798d29aff2e99c23f47ed3064f5cafb1644629b0...</td>\n",
       "      <td>stage1</td>\n",
       "      <td>data/test_stage1/dab46d798d29aff2e99c23f47ed30...</td>\n",
       "      <td>(256, 256, 4)</td>\n",
       "    </tr>\n",
       "    <tr>\n",
       "      <th>58</th>\n",
       "      <td>df40099c6306ca1f47fcc8a62e2fa39486d4e223177afd...</td>\n",
       "      <td>stage1</td>\n",
       "      <td>data/test_stage1/df40099c6306ca1f47fcc8a62e2fa...</td>\n",
       "      <td>(260, 347, 4)</td>\n",
       "    </tr>\n",
       "    <tr>\n",
       "      <th>59</th>\n",
       "      <td>e17b7aedd251a016c01ef9158e6e4aa940d9f1b35942d8...</td>\n",
       "      <td>stage1</td>\n",
       "      <td>data/test_stage1/e17b7aedd251a016c01ef9158e6e4...</td>\n",
       "      <td>(256, 256, 4)</td>\n",
       "    </tr>\n",
       "    <tr>\n",
       "      <th>60</th>\n",
       "      <td>eea70a7948d25a9a791dbcb39228af4ea4049fe5ebdee9...</td>\n",
       "      <td>stage1</td>\n",
       "      <td>data/test_stage1/eea70a7948d25a9a791dbcb39228a...</td>\n",
       "      <td>(519, 253, 3)</td>\n",
       "    </tr>\n",
       "    <tr>\n",
       "      <th>61</th>\n",
       "      <td>f0d0ab13ff53adc3c4d57e95a5f83d80b06f2cbc0bf002...</td>\n",
       "      <td>stage1</td>\n",
       "      <td>data/test_stage1/f0d0ab13ff53adc3c4d57e95a5f83...</td>\n",
       "      <td>(520, 696, 4)</td>\n",
       "    </tr>\n",
       "    <tr>\n",
       "      <th>62</th>\n",
       "      <td>f5effed21f671bbf4551ecebb7fe95f3be1cf09c16a60a...</td>\n",
       "      <td>stage1</td>\n",
       "      <td>data/test_stage1/f5effed21f671bbf4551ecebb7fe9...</td>\n",
       "      <td>(512, 680, 3)</td>\n",
       "    </tr>\n",
       "    <tr>\n",
       "      <th>63</th>\n",
       "      <td>fac507fa4d1649e8b24c195d990f1fc3ca3633d917839e...</td>\n",
       "      <td>stage1</td>\n",
       "      <td>data/test_stage1/fac507fa4d1649e8b24c195d990f1...</td>\n",
       "      <td>(256, 256, 4)</td>\n",
       "    </tr>\n",
       "    <tr>\n",
       "      <th>64</th>\n",
       "      <td>fe9adb627a6f45747c5a8223b671774791ededf9364f65...</td>\n",
       "      <td>stage1</td>\n",
       "      <td>data/test_stage1/fe9adb627a6f45747c5a8223b6717...</td>\n",
       "      <td>(256, 256, 4)</td>\n",
       "    </tr>\n",
       "  </tbody>\n",
       "</table>\n",
       "<p>65 rows × 4 columns</p>\n",
       "</div>"
      ],
      "text/plain": [
       "                                             Image_ID Image_STAGE  \\\n",
       "0   0114f484a16c152baa2d82fdd43740880a762c93f436c8...      stage1   \n",
       "1   0999dab07b11bc85fb8464fc36c947fbd8b5d6ec498173...      stage1   \n",
       "2   0a849e0eb15faa8a6d7329c3dd66aabe9a294cccb52ed3...      stage1   \n",
       "3   0e132f71c8b4875c3c2dd7a22997468a3e842b46aa9bd4...      stage1   \n",
       "4   0ed3555a4bd48046d3b63d8baf03a5aa97e523aa483aaa...      stage1   \n",
       "5   0f1f896d9ae5a04752d3239c690402c022db4d72c0d2c0...      stage1   \n",
       "6   1747f62148a919c8feb6d607faeebdf504b5e2ad42b6b1...      stage1   \n",
       "7   17b9bf4356db24967c4677b8376ac38f826de73a88b93a...      stage1   \n",
       "8   1879f4f4f05e2bada0ffeb46c128b8df7a79b14c84f38c...      stage1   \n",
       "9   191b2b2205f2f5cc9da04702c5d422bc249faf8bca1107...      stage1   \n",
       "10  1962d0c5faf3e85cda80e0578e0cb7aca50826d781620e...      stage1   \n",
       "11  1cdbfee1951356e7b0a215073828695fe1ead5f8b1add1...      stage1   \n",
       "12  1d9eacb3161f1e2b45550389ecf7c535c7199c6b44b1c6...      stage1   \n",
       "13  1ef68e93964c2d9230100c1347c328f6385a7bc027879d...      stage1   \n",
       "14  259b35151d4a7a5ffdd7ab7f171b142db8cfe40beeee67...      stage1   \n",
       "15  295682d9eb5acb5c1976a460c085734bfaf38482b0a3f0...      stage1   \n",
       "16  31f1fbe85b8899258ea5bcf5f93f7ac8238660c386aeab...      stage1   \n",
       "17  336d3e4105766f8ad328a7ee9571e743f376f8cbcf6a96...      stage1   \n",
       "18  38f5cfb55fc8b048e82a5c895b25fefae7a70c71ab9990...      stage1   \n",
       "19  3c4c675825f7509877bc10497f498c9a2e3433bf922bd8...      stage1   \n",
       "20  432f367a4c5b5674de2e2977744d10289a064e5704b21a...      stage1   \n",
       "21  43a71aeb641faa18742cb826772a8566c6c947d7050f9a...      stage1   \n",
       "22  44afae184c89e6ba55985b4d341acc1ae1e8b6ef963120...      stage1   \n",
       "23  4727d94c6a57ed484270fdd8bbc6e3d5f2f15d5476794a...      stage1   \n",
       "24  472b1c5ff988dadc209faea92499bc07f305208dbda29d...      stage1   \n",
       "25  4be73d68f433869188fe5e7f09c7f681ed51003da6aa5d...      stage1   \n",
       "26  4f949bd8d914bbfa06f40d6a0e2b5b75c38bf53dbcbafc...      stage1   \n",
       "27  505bc0a3928d8aef5ce441c5a611fdd32e1e8eccdc15cc...      stage1   \n",
       "28  519dc0d672d1c295fc69b629af8721ccb1a1f136d19766...      stage1   \n",
       "29  51c70bb8a299943b27f8b354571272692d8f2705036a1a...      stage1   \n",
       "..                                                ...         ...   \n",
       "35  697a05c6fe4a07c601d46da80885645ad574ea19b47ee7...      stage1   \n",
       "36  699f2992cd71e2e28cf45f81347ff22e76b37541ce8808...      stage1   \n",
       "37  78a981bd27ba0c65a9169548665a17bda9f49050d0d389...      stage1   \n",
       "38  7bdb668e6127b7eafc837a883f0648002bd063c736f55a...      stage1   \n",
       "39  7f4cbe0b36b5d09466476a7d4e01f4f976c67872d549f4...      stage1   \n",
       "40  8922a6ac8fd0258ec27738ca101867169b20d90a60fc84...      stage1   \n",
       "41  8b59819fbc92eefe45b1db95c0cc3a467ddcfc755684c7...      stage1   \n",
       "42  912a679e4b9b1d1a75170254fd675b8c24b664d80ad7ea...      stage1   \n",
       "43  9ab2d381f90b485a68b82bc07f94397a0373e3215ad209...      stage1   \n",
       "44  9f17aea854db13015d19b34cb2022cfdeda44133323fcd...      stage1   \n",
       "45  a4816cc1fb76cb3c5e481186833fc0ae9cf426a1406a26...      stage1   \n",
       "46  a984e7fb886aa02e29d112766d3ce26a4f78eac540ce7b...      stage1   \n",
       "47  ab298b962a63e4be9582513aaa84a5e270adba5fd2b16a...      stage1   \n",
       "48  ade080c6618cbbb0a25680cf847f312b5e19b22bfe1caf...      stage1   \n",
       "49  b83d1d77935b6cfd44105b54600ffc4b6bd82de57dec65...      stage1   \n",
       "50  bdc789019cee8ddfae20d5f769299993b4b330b2d38d12...      stage1   \n",
       "51  c8e79ff4ac55f4b772057de28e539727b7f4f2a3de73bf...      stage1   \n",
       "52  ca20076870e8fb604e61802605a9ac45419c82dd3e2340...      stage1   \n",
       "53  d616d323a9eeb9da1b66f8d5df671d63c092c9919cb2c0...      stage1   \n",
       "54  d6eb7ce7723e2f6dc13b90b41a29ded27dbd815bad633f...      stage1   \n",
       "55  d8d4bf68a76e4e4c5f21de7ac613451f7115a04db68615...      stage1   \n",
       "56  da6c593410340b19bb212b9f6d274f95b08c0fc8f2570c...      stage1   \n",
       "57  dab46d798d29aff2e99c23f47ed3064f5cafb1644629b0...      stage1   \n",
       "58  df40099c6306ca1f47fcc8a62e2fa39486d4e223177afd...      stage1   \n",
       "59  e17b7aedd251a016c01ef9158e6e4aa940d9f1b35942d8...      stage1   \n",
       "60  eea70a7948d25a9a791dbcb39228af4ea4049fe5ebdee9...      stage1   \n",
       "61  f0d0ab13ff53adc3c4d57e95a5f83d80b06f2cbc0bf002...      stage1   \n",
       "62  f5effed21f671bbf4551ecebb7fe95f3be1cf09c16a60a...      stage1   \n",
       "63  fac507fa4d1649e8b24c195d990f1fc3ca3633d917839e...      stage1   \n",
       "64  fe9adb627a6f45747c5a8223b671774791ededf9364f65...      stage1   \n",
       "\n",
       "                                           image_path          shape  \n",
       "0   data/test_stage1/0114f484a16c152baa2d82fdd4374...  (256, 256, 4)  \n",
       "1   data/test_stage1/0999dab07b11bc85fb8464fc36c94...  (519, 253, 3)  \n",
       "2   data/test_stage1/0a849e0eb15faa8a6d7329c3dd66a...  (256, 256, 3)  \n",
       "3   data/test_stage1/0e132f71c8b4875c3c2dd7a229974...  (256, 256, 4)  \n",
       "4   data/test_stage1/0ed3555a4bd48046d3b63d8baf03a...  (256, 256, 4)  \n",
       "5   data/test_stage1/0f1f896d9ae5a04752d3239c69040...  (512, 680, 3)  \n",
       "6   data/test_stage1/1747f62148a919c8feb6d607faeeb...  (512, 640, 4)  \n",
       "7   data/test_stage1/17b9bf4356db24967c4677b8376ac...  (512, 680, 3)  \n",
       "8   data/test_stage1/1879f4f4f05e2bada0ffeb46c128b...  (512, 640, 4)  \n",
       "9   data/test_stage1/191b2b2205f2f5cc9da04702c5d42...  (256, 256, 4)  \n",
       "10  data/test_stage1/1962d0c5faf3e85cda80e0578e0cb...  (519, 162, 3)  \n",
       "11  data/test_stage1/1cdbfee1951356e7b0a2150738286...  (512, 640, 4)  \n",
       "12  data/test_stage1/1d9eacb3161f1e2b45550389ecf7c...  (524, 348, 3)  \n",
       "13  data/test_stage1/1ef68e93964c2d9230100c1347c32...  (256, 256, 4)  \n",
       "14  data/test_stage1/259b35151d4a7a5ffdd7ab7f171b1...  (512, 680, 3)  \n",
       "15  data/test_stage1/295682d9eb5acb5c1976a460c0857...  (256, 256, 4)  \n",
       "16  data/test_stage1/31f1fbe85b8899258ea5bcf5f93f7...  (256, 256, 4)  \n",
       "17  data/test_stage1/336d3e4105766f8ad328a7ee9571e...  (519, 253, 3)  \n",
       "18  data/test_stage1/38f5cfb55fc8b048e82a5c895b25f...  (256, 256, 4)  \n",
       "19  data/test_stage1/3c4c675825f7509877bc10497f498...  (524, 348, 3)  \n",
       "20  data/test_stage1/432f367a4c5b5674de2e2977744d1...  (520, 348, 3)  \n",
       "21  data/test_stage1/43a71aeb641faa18742cb826772a8...  (260, 347, 4)  \n",
       "22  data/test_stage1/44afae184c89e6ba55985b4d341ac...  (512, 680, 3)  \n",
       "23  data/test_stage1/4727d94c6a57ed484270fdd8bbc6e...  (256, 256, 4)  \n",
       "24  data/test_stage1/472b1c5ff988dadc209faea92499b...  (512, 680, 3)  \n",
       "25  data/test_stage1/4be73d68f433869188fe5e7f09c7f...  (256, 256, 3)  \n",
       "26  data/test_stage1/4f949bd8d914bbfa06f40d6a0e2b5...  (390, 239, 4)  \n",
       "27  data/test_stage1/505bc0a3928d8aef5ce441c5a611f...  (512, 640, 4)  \n",
       "28  data/test_stage1/519dc0d672d1c295fc69b629af872...  (256, 256, 4)  \n",
       "29  data/test_stage1/51c70bb8a299943b27f8b35457127...  (256, 256, 4)  \n",
       "..                                                ...            ...  \n",
       "35  data/test_stage1/697a05c6fe4a07c601d46da808856...  (256, 256, 3)  \n",
       "36  data/test_stage1/699f2992cd71e2e28cf45f81347ff...  (260, 347, 4)  \n",
       "37  data/test_stage1/78a981bd27ba0c65a9169548665a1...  (520, 348, 3)  \n",
       "38  data/test_stage1/7bdb668e6127b7eafc837a883f064...  (512, 640, 4)  \n",
       "39  data/test_stage1/7f4cbe0b36b5d09466476a7d4e01f...  (256, 256, 3)  \n",
       "40  data/test_stage1/8922a6ac8fd0258ec27738ca10186...  (512, 640, 4)  \n",
       "41  data/test_stage1/8b59819fbc92eefe45b1db95c0cc3...  (520, 696, 4)  \n",
       "42  data/test_stage1/912a679e4b9b1d1a75170254fd675...  (256, 256, 4)  \n",
       "43  data/test_stage1/9ab2d381f90b485a68b82bc07f943...  (512, 640, 4)  \n",
       "44  data/test_stage1/9f17aea854db13015d19b34cb2022...  (512, 680, 3)  \n",
       "45  data/test_stage1/a4816cc1fb76cb3c5e481186833fc...  (519, 253, 3)  \n",
       "46  data/test_stage1/a984e7fb886aa02e29d112766d3ce...  (519, 161, 3)  \n",
       "47  data/test_stage1/ab298b962a63e4be9582513aaa84a...  (256, 256, 4)  \n",
       "48  data/test_stage1/ade080c6618cbbb0a25680cf847f3...  (520, 696, 4)  \n",
       "49  data/test_stage1/b83d1d77935b6cfd44105b54600ff...  (524, 348, 3)  \n",
       "50  data/test_stage1/bdc789019cee8ddfae20d5f769299...  (520, 696, 4)  \n",
       "51  data/test_stage1/c8e79ff4ac55f4b772057de28e539...  (524, 348, 3)  \n",
       "52  data/test_stage1/ca20076870e8fb604e61802605a9a...  (519, 161, 3)  \n",
       "53  data/test_stage1/d616d323a9eeb9da1b66f8d5df671...  (519, 162, 3)  \n",
       "54  data/test_stage1/d6eb7ce7723e2f6dc13b90b41a29d...  (520, 348, 3)  \n",
       "55  data/test_stage1/d8d4bf68a76e4e4c5f21de7ac6134...  (256, 256, 4)  \n",
       "56  data/test_stage1/da6c593410340b19bb212b9f6d274...  (512, 680, 3)  \n",
       "57  data/test_stage1/dab46d798d29aff2e99c23f47ed30...  (256, 256, 4)  \n",
       "58  data/test_stage1/df40099c6306ca1f47fcc8a62e2fa...  (260, 347, 4)  \n",
       "59  data/test_stage1/e17b7aedd251a016c01ef9158e6e4...  (256, 256, 4)  \n",
       "60  data/test_stage1/eea70a7948d25a9a791dbcb39228a...  (519, 253, 3)  \n",
       "61  data/test_stage1/f0d0ab13ff53adc3c4d57e95a5f83...  (520, 696, 4)  \n",
       "62  data/test_stage1/f5effed21f671bbf4551ecebb7fe9...  (512, 680, 3)  \n",
       "63  data/test_stage1/fac507fa4d1649e8b24c195d990f1...  (256, 256, 4)  \n",
       "64  data/test_stage1/fe9adb627a6f45747c5a8223b6717...  (256, 256, 4)  \n",
       "\n",
       "[65 rows x 4 columns]"
      ]
     },
     "execution_count": 65,
     "metadata": {},
     "output_type": "execute_result"
    }
   ],
   "source": [
    "test_img_df"
   ]
  },
  {
   "cell_type": "code",
   "execution_count": null,
   "metadata": {
    "collapsed": true
   },
   "outputs": [],
   "source": []
  },
  {
   "cell_type": "code",
   "execution_count": null,
   "metadata": {
    "collapsed": true
   },
   "outputs": [],
   "source": []
  },
  {
   "cell_type": "code",
   "execution_count": null,
   "metadata": {
    "collapsed": true
   },
   "outputs": [],
   "source": []
  },
  {
   "cell_type": "code",
   "execution_count": null,
   "metadata": {
    "collapsed": true
   },
   "outputs": [],
   "source": []
  },
  {
   "cell_type": "code",
   "execution_count": null,
   "metadata": {
    "collapsed": true
   },
   "outputs": [],
   "source": []
  },
  {
   "cell_type": "code",
   "execution_count": null,
   "metadata": {
    "collapsed": true
   },
   "outputs": [],
   "source": []
  },
  {
   "cell_type": "code",
   "execution_count": 21,
   "metadata": {
    "collapsed": true
   },
   "outputs": [],
   "source": [
    "# Define IoU metric\n",
    "def mean_iou(y_true, y_pred):\n",
    "    prec = []\n",
    "    for t in np.arange(0.5, 1.0, 0.05):\n",
    "        y_pred_ = tf.to_int32(y_pred > t)\n",
    "        score, up_opt = tf.metrics.mean_iou(y_true, y_pred_, 2)\n",
    "        K.get_session().run(tf.local_variables_initializer())\n",
    "        with tf.control_dependencies([up_opt]):\n",
    "            score = tf.identity(score)\n",
    "        prec.append(score)\n",
    "    return K.mean(K.stack(prec), axis=0)"
   ]
  },
  {
   "cell_type": "code",
   "execution_count": null,
   "metadata": {
    "collapsed": true
   },
   "outputs": [],
   "source": []
  },
  {
   "cell_type": "code",
   "execution_count": 49,
   "metadata": {
    "collapsed": false,
    "scrolled": true
   },
   "outputs": [
    {
     "ename": "NameError",
     "evalue": "name 'Input' is not defined",
     "output_type": "error",
     "traceback": [
      "\u001b[0;31m---------------------------------------------------------------------------\u001b[0m",
      "\u001b[0;31mNameError\u001b[0m                                 Traceback (most recent call last)",
      "\u001b[0;32m<ipython-input-49-4e36efde2686>\u001b[0m in \u001b[0;36m<module>\u001b[0;34m()\u001b[0m\n\u001b[0;32m----> 1\u001b[0;31m \u001b[0minputs\u001b[0m \u001b[0;34m=\u001b[0m \u001b[0mInput\u001b[0m\u001b[0;34m(\u001b[0m\u001b[0;34m(\u001b[0m\u001b[0mimg_height\u001b[0m\u001b[0;34m,\u001b[0m \u001b[0mimg_width\u001b[0m\u001b[0;34m,\u001b[0m \u001b[0mimg_channels\u001b[0m\u001b[0;34m)\u001b[0m\u001b[0;34m)\u001b[0m\u001b[0;34m\u001b[0m\u001b[0m\n\u001b[0m\u001b[1;32m      2\u001b[0m \u001b[0;34m\u001b[0m\u001b[0m\n\u001b[1;32m      3\u001b[0m \u001b[0mc1\u001b[0m \u001b[0;34m=\u001b[0m \u001b[0mConv2D\u001b[0m\u001b[0;34m(\u001b[0m\u001b[0;36m16\u001b[0m\u001b[0;34m,\u001b[0m \u001b[0;34m(\u001b[0m\u001b[0;36m3\u001b[0m\u001b[0;34m,\u001b[0m \u001b[0;36m3\u001b[0m\u001b[0;34m)\u001b[0m\u001b[0;34m,\u001b[0m \u001b[0mactivation\u001b[0m\u001b[0;34m=\u001b[0m\u001b[0;34m'elu'\u001b[0m\u001b[0;34m,\u001b[0m \u001b[0mkernel_initializer\u001b[0m\u001b[0;34m=\u001b[0m\u001b[0;34m'he_normal'\u001b[0m\u001b[0;34m,\u001b[0m \u001b[0mpadding\u001b[0m\u001b[0;34m=\u001b[0m\u001b[0;34m'same'\u001b[0m\u001b[0;34m)\u001b[0m \u001b[0;34m(\u001b[0m\u001b[0minputs\u001b[0m\u001b[0;34m)\u001b[0m\u001b[0;34m\u001b[0m\u001b[0m\n\u001b[1;32m      4\u001b[0m \u001b[0mc1\u001b[0m \u001b[0;34m=\u001b[0m \u001b[0mDropout\u001b[0m\u001b[0;34m(\u001b[0m\u001b[0;36m0.1\u001b[0m\u001b[0;34m)\u001b[0m \u001b[0;34m(\u001b[0m\u001b[0mc1\u001b[0m\u001b[0;34m)\u001b[0m\u001b[0;34m\u001b[0m\u001b[0m\n\u001b[1;32m      5\u001b[0m \u001b[0mc1\u001b[0m \u001b[0;34m=\u001b[0m \u001b[0mConv2D\u001b[0m\u001b[0;34m(\u001b[0m\u001b[0;36m16\u001b[0m\u001b[0;34m,\u001b[0m \u001b[0;34m(\u001b[0m\u001b[0;36m3\u001b[0m\u001b[0;34m,\u001b[0m \u001b[0;36m3\u001b[0m\u001b[0;34m)\u001b[0m\u001b[0;34m,\u001b[0m \u001b[0mactivation\u001b[0m\u001b[0;34m=\u001b[0m\u001b[0;34m'elu'\u001b[0m\u001b[0;34m,\u001b[0m \u001b[0mkernel_initializer\u001b[0m\u001b[0;34m=\u001b[0m\u001b[0;34m'he_normal'\u001b[0m\u001b[0;34m,\u001b[0m \u001b[0mpadding\u001b[0m\u001b[0;34m=\u001b[0m\u001b[0;34m'same'\u001b[0m\u001b[0;34m)\u001b[0m \u001b[0;34m(\u001b[0m\u001b[0mc1\u001b[0m\u001b[0;34m)\u001b[0m\u001b[0;34m\u001b[0m\u001b[0m\n",
      "\u001b[0;31mNameError\u001b[0m: name 'Input' is not defined"
     ]
    }
   ],
   "source": [
    "inputs = Input((img_height, img_width, img_channels))\n",
    "\n",
    "c1 = Conv2D(16, (3, 3), activation='elu', kernel_initializer='he_normal', padding='same') (inputs)\n",
    "c1 = Dropout(0.1) (c1)\n",
    "c1 = Conv2D(16, (3, 3), activation='elu', kernel_initializer='he_normal', padding='same') (c1)\n",
    "p1 = MaxPooling2D((2, 2)) (c1)\n",
    "\n",
    "c2 = Conv2D(32, (3, 3), activation='elu', kernel_initializer='he_normal', padding='same') (p1)\n",
    "c2 = Dropout(0.1) (c2)\n",
    "c2 = Conv2D(32, (3, 3), activation='elu', kernel_initializer='he_normal', padding='same') (c2)\n",
    "p2 = MaxPooling2D((2, 2)) (c2)\n",
    "\n",
    "c3 = Conv2D(64, (3, 3), activation='elu', kernel_initializer='he_normal', padding='same') (p2)\n",
    "c3 = Dropout(0.2) (c3)\n",
    "c3 = Conv2D(64, (3, 3), activation='elu', kernel_initializer='he_normal', padding='same') (c3)\n",
    "p3 = MaxPooling2D((2, 2)) (c3)\n",
    "\n",
    "c4 = Conv2D(128, (3, 3), activation='elu', kernel_initializer='he_normal', padding='same') (p3)\n",
    "c4 = Dropout(0.2) (c4)\n",
    "c4 = Conv2D(128, (3, 3), activation='elu', kernel_initializer='he_normal', padding='same') (c4)\n",
    "p4 = MaxPooling2D(pool_size=(2, 2)) (c4)\n",
    "\n",
    "c5 = Conv2D(256, (3, 3), activation='elu', kernel_initializer='he_normal', padding='same') (p4)\n",
    "c5 = Dropout(0.3) (c5)\n",
    "c5 = Conv2D(256, (3, 3), activation='elu', kernel_initializer='he_normal', padding='same') (c5)\n",
    "\n",
    "u6 = Conv2DTranspose(128, (2, 2), strides=(2, 2), padding='same') (c5)\n",
    "u6 = concatenate([u6, c4])\n",
    "c6 = Conv2D(128, (3, 3), activation='elu', kernel_initializer='he_normal', padding='same') (u6)\n",
    "c6 = Dropout(0.2) (c6)\n",
    "c6 = Conv2D(128, (3, 3), activation='elu', kernel_initializer='he_normal', padding='same') (c6)\n",
    "\n",
    "u7 = Conv2DTranspose(64, (2, 2), strides=(2, 2), padding='same') (c6)\n",
    "u7 = concatenate([u7, c3])\n",
    "c7 = Conv2D(64, (3, 3), activation='elu', kernel_initializer='he_normal', padding='same') (u7)\n",
    "c7 = Dropout(0.2) (c7)\n",
    "c7 = Conv2D(64, (3, 3), activation='elu', kernel_initializer='he_normal', padding='same') (c7)\n",
    "\n",
    "u8 = Conv2DTranspose(32, (2, 2), strides=(2, 2), padding='same') (c7)\n",
    "u8 = concatenate([u8, c2])\n",
    "c8 = Conv2D(32, (3, 3), activation='elu', kernel_initializer='he_normal', padding='same') (u8)\n",
    "c8 = Dropout(0.1) (c8)\n",
    "c8 = Conv2D(32, (3, 3), activation='elu', kernel_initializer='he_normal', padding='same') (c8)\n",
    "\n",
    "u9 = Conv2DTranspose(16, (2, 2), strides=(2, 2), padding='same') (c8)\n",
    "u9 = concatenate([u9, c1], axis=3)\n",
    "c9 = Conv2D(16, (3, 3), activation='elu', kernel_initializer='he_normal', padding='same') (u9)\n",
    "c9 = Dropout(0.1) (c9)\n",
    "c9 = Conv2D(16, (3, 3), activation='elu', kernel_initializer='he_normal', padding='same') (c9)\n",
    "\n",
    "outputs = Conv2D(1, (1, 1), activation='sigmoid') (c9)\n",
    "\n",
    "model = Model(inputs=[inputs], outputs=[outputs])\n",
    "model.compile(optimizer='adam', loss='binary_crossentropy', metrics=[mean_iou])\n",
    "model.summary()"
   ]
  },
  {
   "cell_type": "code",
   "execution_count": null,
   "metadata": {
    "collapsed": true
   },
   "outputs": [],
   "source": []
  },
  {
   "cell_type": "code",
   "execution_count": 38,
   "metadata": {
    "collapsed": true
   },
   "outputs": [],
   "source": [
    "def train_gen():\n",
    "    while True:\n",
    "        for _, c_row in train_img_df.loc[:599, :].iterrows():\n",
    "            yield np.expand_dims(c_row['images'],0), np.expand_dims(np.expand_dims(c_row['masks'],-1),0)\n",
    "            \n",
    "def val_gen():\n",
    "    while True:\n",
    "        for _, c_row in train_img_df.loc[600:, :].iterrows():\n",
    "            yield np.expand_dims(c_row['images'],0), np.expand_dims(np.expand_dims(c_row['masks'],-1),0)"
   ]
  },
  {
   "cell_type": "code",
   "execution_count": 39,
   "metadata": {
    "collapsed": true
   },
   "outputs": [],
   "source": [
    "earlystopper = EarlyStopping(patience=5, verbose=1)\n",
    "checkpointer = ModelCheckpoint('model-dsbowl2018-1.h5', verbose=1, save_best_only=True)"
   ]
  },
  {
   "cell_type": "code",
   "execution_count": 49,
   "metadata": {
    "collapsed": false,
    "scrolled": true
   },
   "outputs": [
    {
     "name": "stdout",
     "output_type": "stream",
     "text": [
      "Epoch 1/50\n",
      "600/600 [==============================] - 21s - loss: 0.1266 - mean_iou: 0.6706    \n",
      "Epoch 2/50\n",
      "600/600 [==============================] - 21s - loss: 0.1248 - mean_iou: 0.6782    \n",
      "Epoch 3/50\n",
      "600/600 [==============================] - 21s - loss: 0.1197 - mean_iou: 0.6845    \n",
      "Epoch 4/50\n",
      "600/600 [==============================] - 21s - loss: 0.1179 - mean_iou: 0.6899    \n",
      "Epoch 5/50\n",
      "600/600 [==============================] - 21s - loss: 0.1151 - mean_iou: 0.6949    \n",
      "Epoch 6/50\n",
      "600/600 [==============================] - 22s - loss: 0.1145 - mean_iou: 0.6993    \n",
      "Epoch 7/50\n",
      "600/600 [==============================] - 21s - loss: 0.1131 - mean_iou: 0.7033    \n",
      "Epoch 8/50\n",
      "600/600 [==============================] - 21s - loss: 0.1120 - mean_iou: 0.7069    \n",
      "Epoch 9/50\n",
      "600/600 [==============================] - 21s - loss: 0.1111 - mean_iou: 0.7102    \n",
      "Epoch 10/50\n",
      "600/600 [==============================] - 22s - loss: 0.1099 - mean_iou: 0.7133    \n",
      "Epoch 11/50\n",
      "600/600 [==============================] - 22s - loss: 0.1089 - mean_iou: 0.7161    \n",
      "Epoch 12/50\n",
      "600/600 [==============================] - 22s - loss: 0.1076 - mean_iou: 0.7187    \n",
      "Epoch 13/50\n",
      "600/600 [==============================] - 22s - loss: 0.1067 - mean_iou: 0.7212    \n",
      "Epoch 14/50\n",
      "600/600 [==============================] - 22s - loss: 0.1059 - mean_iou: 0.7234    \n",
      "Epoch 15/50\n",
      "600/600 [==============================] - 22s - loss: 0.1049 - mean_iou: 0.7256    \n",
      "Epoch 16/50\n",
      "600/600 [==============================] - 22s - loss: 0.1042 - mean_iou: 0.7276    \n",
      "Epoch 17/50\n",
      "600/600 [==============================] - 21s - loss: 0.1035 - mean_iou: 0.7295    \n",
      "Epoch 18/50\n",
      "600/600 [==============================] - 22s - loss: 0.1027 - mean_iou: 0.7313    \n",
      "Epoch 19/50\n",
      "600/600 [==============================] - 22s - loss: 0.1020 - mean_iou: 0.7331    \n",
      "Epoch 20/50\n",
      "600/600 [==============================] - 22s - loss: 0.1016 - mean_iou: 0.7347    \n",
      "Epoch 21/50\n",
      "600/600 [==============================] - 22s - loss: 0.1009 - mean_iou: 0.7362    \n",
      "Epoch 22/50\n",
      "600/600 [==============================] - 22s - loss: 0.1000 - mean_iou: 0.7378    \n",
      "Epoch 23/50\n",
      "600/600 [==============================] - 21s - loss: 0.1000 - mean_iou: 0.7392    \n",
      "Epoch 24/50\n",
      "600/600 [==============================] - 21s - loss: 0.0993 - mean_iou: 0.7406    \n",
      "Epoch 25/50\n",
      "600/600 [==============================] - 22s - loss: 0.0986 - mean_iou: 0.7419    \n",
      "Epoch 26/50\n",
      "600/600 [==============================] - 21s - loss: 0.0981 - mean_iou: 0.7432    \n",
      "Epoch 27/50\n",
      "600/600 [==============================] - 22s - loss: 0.0973 - mean_iou: 0.7444    \n",
      "Epoch 28/50\n",
      "600/600 [==============================] - 21s - loss: 0.0975 - mean_iou: 0.7455    \n",
      "Epoch 29/50\n",
      "600/600 [==============================] - 22s - loss: 0.0975 - mean_iou: 0.7466    \n",
      "Epoch 30/50\n",
      "600/600 [==============================] - 21s - loss: 0.0960 - mean_iou: 0.7477    \n",
      "Epoch 31/50\n",
      "600/600 [==============================] - 21s - loss: 0.0958 - mean_iou: 0.7487    \n",
      "Epoch 32/50\n",
      "600/600 [==============================] - 21s - loss: 0.0959 - mean_iou: 0.7498    \n",
      "Epoch 33/50\n",
      "600/600 [==============================] - 22s - loss: 0.0954 - mean_iou: 0.7508    \n",
      "Epoch 34/50\n",
      "600/600 [==============================] - 22s - loss: 0.0953 - mean_iou: 0.7517    \n",
      "Epoch 35/50\n",
      "600/600 [==============================] - 21s - loss: 0.0948 - mean_iou: 0.7526    \n",
      "Epoch 36/50\n",
      "600/600 [==============================] - 21s - loss: 0.0940 - mean_iou: 0.7535    \n",
      "Epoch 37/50\n",
      "600/600 [==============================] - 22s - loss: 0.0937 - mean_iou: 0.7544    \n",
      "Epoch 38/50\n",
      "600/600 [==============================] - 21s - loss: 0.0951 - mean_iou: 0.7552    \n",
      "Epoch 39/50\n",
      "600/600 [==============================] - 22s - loss: 0.0929 - mean_iou: 0.7560    \n",
      "Epoch 40/50\n",
      "600/600 [==============================] - 22s - loss: 0.0929 - mean_iou: 0.7568    \n",
      "Epoch 41/50\n",
      "287/600 [=============>................] - ETA: 11s - loss: 0.0948 - mean_iou: 0.7574"
     ]
    },
    {
     "ename": "KeyboardInterrupt",
     "evalue": "",
     "output_type": "error",
     "traceback": [
      "\u001b[0;31m---------------------------------------------------------------------------\u001b[0m",
      "\u001b[0;31mKeyboardInterrupt\u001b[0m                         Traceback (most recent call last)",
      "\u001b[0;32m<ipython-input-49-b08a51b7e6ca>\u001b[0m in \u001b[0;36m<module>\u001b[0;34m()\u001b[0m\n\u001b[1;32m      1\u001b[0m model.fit_generator(train_gen(), #validation_data=val_gen, validation_steps=20,\n\u001b[0;32m----> 2\u001b[0;31m                     \u001b[0msteps_per_epoch\u001b[0m\u001b[0;34m=\u001b[0m\u001b[0;36m600\u001b[0m\u001b[0;34m,\u001b[0m \u001b[0mepochs\u001b[0m\u001b[0;34m=\u001b[0m\u001b[0;36m50\u001b[0m\u001b[0;34m,\u001b[0m\u001b[0;34m\u001b[0m\u001b[0m\n\u001b[0m\u001b[1;32m      3\u001b[0m                     \u001b[0;31m# callbacks=[earlystopper, checkpointer]\u001b[0m\u001b[0;34m\u001b[0m\u001b[0;34m\u001b[0m\u001b[0m\n\u001b[1;32m      4\u001b[0m                     )\n",
      "\u001b[0;32m/home/liushrui/install/anaconda3/lib/python3.5/site-packages/keras/legacy/interfaces.py\u001b[0m in \u001b[0;36mwrapper\u001b[0;34m(*args, **kwargs)\u001b[0m\n\u001b[1;32m     86\u001b[0m                 warnings.warn('Update your `' + object_name +\n\u001b[1;32m     87\u001b[0m                               '` call to the Keras 2 API: ' + signature, stacklevel=2)\n\u001b[0;32m---> 88\u001b[0;31m             \u001b[0;32mreturn\u001b[0m \u001b[0mfunc\u001b[0m\u001b[0;34m(\u001b[0m\u001b[0;34m*\u001b[0m\u001b[0margs\u001b[0m\u001b[0;34m,\u001b[0m \u001b[0;34m**\u001b[0m\u001b[0mkwargs\u001b[0m\u001b[0;34m)\u001b[0m\u001b[0;34m\u001b[0m\u001b[0m\n\u001b[0m\u001b[1;32m     89\u001b[0m         \u001b[0mwrapper\u001b[0m\u001b[0;34m.\u001b[0m\u001b[0m_legacy_support_signature\u001b[0m \u001b[0;34m=\u001b[0m \u001b[0minspect\u001b[0m\u001b[0;34m.\u001b[0m\u001b[0mgetargspec\u001b[0m\u001b[0;34m(\u001b[0m\u001b[0mfunc\u001b[0m\u001b[0;34m)\u001b[0m\u001b[0;34m\u001b[0m\u001b[0m\n\u001b[1;32m     90\u001b[0m         \u001b[0;32mreturn\u001b[0m \u001b[0mwrapper\u001b[0m\u001b[0;34m\u001b[0m\u001b[0m\n",
      "\u001b[0;32m/home/liushrui/install/anaconda3/lib/python3.5/site-packages/keras/engine/training.py\u001b[0m in \u001b[0;36mfit_generator\u001b[0;34m(self, generator, steps_per_epoch, epochs, verbose, callbacks, validation_data, validation_steps, class_weight, max_q_size, workers, pickle_safe, initial_epoch)\u001b[0m\n\u001b[1;32m   1875\u001b[0m                     outs = self.train_on_batch(x, y,\n\u001b[1;32m   1876\u001b[0m                                                \u001b[0msample_weight\u001b[0m\u001b[0;34m=\u001b[0m\u001b[0msample_weight\u001b[0m\u001b[0;34m,\u001b[0m\u001b[0;34m\u001b[0m\u001b[0m\n\u001b[0;32m-> 1877\u001b[0;31m                                                class_weight=class_weight)\n\u001b[0m\u001b[1;32m   1878\u001b[0m \u001b[0;34m\u001b[0m\u001b[0m\n\u001b[1;32m   1879\u001b[0m                     \u001b[0;32mif\u001b[0m \u001b[0;32mnot\u001b[0m \u001b[0misinstance\u001b[0m\u001b[0;34m(\u001b[0m\u001b[0mouts\u001b[0m\u001b[0;34m,\u001b[0m \u001b[0mlist\u001b[0m\u001b[0;34m)\u001b[0m\u001b[0;34m:\u001b[0m\u001b[0;34m\u001b[0m\u001b[0m\n",
      "\u001b[0;32m/home/liushrui/install/anaconda3/lib/python3.5/site-packages/keras/engine/training.py\u001b[0m in \u001b[0;36mtrain_on_batch\u001b[0;34m(self, x, y, sample_weight, class_weight)\u001b[0m\n\u001b[1;32m   1619\u001b[0m             \u001b[0mins\u001b[0m \u001b[0;34m=\u001b[0m \u001b[0mx\u001b[0m \u001b[0;34m+\u001b[0m \u001b[0my\u001b[0m \u001b[0;34m+\u001b[0m \u001b[0msample_weights\u001b[0m\u001b[0;34m\u001b[0m\u001b[0m\n\u001b[1;32m   1620\u001b[0m         \u001b[0mself\u001b[0m\u001b[0;34m.\u001b[0m\u001b[0m_make_train_function\u001b[0m\u001b[0;34m(\u001b[0m\u001b[0;34m)\u001b[0m\u001b[0;34m\u001b[0m\u001b[0m\n\u001b[0;32m-> 1621\u001b[0;31m         \u001b[0moutputs\u001b[0m \u001b[0;34m=\u001b[0m \u001b[0mself\u001b[0m\u001b[0;34m.\u001b[0m\u001b[0mtrain_function\u001b[0m\u001b[0;34m(\u001b[0m\u001b[0mins\u001b[0m\u001b[0;34m)\u001b[0m\u001b[0;34m\u001b[0m\u001b[0m\n\u001b[0m\u001b[1;32m   1622\u001b[0m         \u001b[0;32mif\u001b[0m \u001b[0mlen\u001b[0m\u001b[0;34m(\u001b[0m\u001b[0moutputs\u001b[0m\u001b[0;34m)\u001b[0m \u001b[0;34m==\u001b[0m \u001b[0;36m1\u001b[0m\u001b[0;34m:\u001b[0m\u001b[0;34m\u001b[0m\u001b[0m\n\u001b[1;32m   1623\u001b[0m             \u001b[0;32mreturn\u001b[0m \u001b[0moutputs\u001b[0m\u001b[0;34m[\u001b[0m\u001b[0;36m0\u001b[0m\u001b[0;34m]\u001b[0m\u001b[0;34m\u001b[0m\u001b[0m\n",
      "\u001b[0;32m/home/liushrui/install/anaconda3/lib/python3.5/site-packages/keras/backend/tensorflow_backend.py\u001b[0m in \u001b[0;36m__call__\u001b[0;34m(self, inputs)\u001b[0m\n\u001b[1;32m   2101\u001b[0m         \u001b[0msession\u001b[0m \u001b[0;34m=\u001b[0m \u001b[0mget_session\u001b[0m\u001b[0;34m(\u001b[0m\u001b[0;34m)\u001b[0m\u001b[0;34m\u001b[0m\u001b[0m\n\u001b[1;32m   2102\u001b[0m         updated = session.run(self.outputs + [self.updates_op],\n\u001b[0;32m-> 2103\u001b[0;31m                               feed_dict=feed_dict)\n\u001b[0m\u001b[1;32m   2104\u001b[0m         \u001b[0;32mreturn\u001b[0m \u001b[0mupdated\u001b[0m\u001b[0;34m[\u001b[0m\u001b[0;34m:\u001b[0m\u001b[0mlen\u001b[0m\u001b[0;34m(\u001b[0m\u001b[0mself\u001b[0m\u001b[0;34m.\u001b[0m\u001b[0moutputs\u001b[0m\u001b[0;34m)\u001b[0m\u001b[0;34m]\u001b[0m\u001b[0;34m\u001b[0m\u001b[0m\n\u001b[1;32m   2105\u001b[0m \u001b[0;34m\u001b[0m\u001b[0m\n",
      "\u001b[0;32m/home/liushrui/install/anaconda3/lib/python3.5/site-packages/tensorflow/python/client/session.py\u001b[0m in \u001b[0;36mrun\u001b[0;34m(self, fetches, feed_dict, options, run_metadata)\u001b[0m\n\u001b[1;32m    787\u001b[0m     \u001b[0;32mtry\u001b[0m\u001b[0;34m:\u001b[0m\u001b[0;34m\u001b[0m\u001b[0m\n\u001b[1;32m    788\u001b[0m       result = self._run(None, fetches, feed_dict, options_ptr,\n\u001b[0;32m--> 789\u001b[0;31m                          run_metadata_ptr)\n\u001b[0m\u001b[1;32m    790\u001b[0m       \u001b[0;32mif\u001b[0m \u001b[0mrun_metadata\u001b[0m\u001b[0;34m:\u001b[0m\u001b[0;34m\u001b[0m\u001b[0m\n\u001b[1;32m    791\u001b[0m         \u001b[0mproto_data\u001b[0m \u001b[0;34m=\u001b[0m \u001b[0mtf_session\u001b[0m\u001b[0;34m.\u001b[0m\u001b[0mTF_GetBuffer\u001b[0m\u001b[0;34m(\u001b[0m\u001b[0mrun_metadata_ptr\u001b[0m\u001b[0;34m)\u001b[0m\u001b[0;34m\u001b[0m\u001b[0m\n",
      "\u001b[0;32m/home/liushrui/install/anaconda3/lib/python3.5/site-packages/tensorflow/python/client/session.py\u001b[0m in \u001b[0;36m_run\u001b[0;34m(self, handle, fetches, feed_dict, options, run_metadata)\u001b[0m\n\u001b[1;32m    995\u001b[0m     \u001b[0;32mif\u001b[0m \u001b[0mfinal_fetches\u001b[0m \u001b[0;32mor\u001b[0m \u001b[0mfinal_targets\u001b[0m\u001b[0;34m:\u001b[0m\u001b[0;34m\u001b[0m\u001b[0m\n\u001b[1;32m    996\u001b[0m       results = self._do_run(handle, final_targets, final_fetches,\n\u001b[0;32m--> 997\u001b[0;31m                              feed_dict_string, options, run_metadata)\n\u001b[0m\u001b[1;32m    998\u001b[0m     \u001b[0;32melse\u001b[0m\u001b[0;34m:\u001b[0m\u001b[0;34m\u001b[0m\u001b[0m\n\u001b[1;32m    999\u001b[0m       \u001b[0mresults\u001b[0m \u001b[0;34m=\u001b[0m \u001b[0;34m[\u001b[0m\u001b[0;34m]\u001b[0m\u001b[0;34m\u001b[0m\u001b[0m\n",
      "\u001b[0;32m/home/liushrui/install/anaconda3/lib/python3.5/site-packages/tensorflow/python/client/session.py\u001b[0m in \u001b[0;36m_do_run\u001b[0;34m(self, handle, target_list, fetch_list, feed_dict, options, run_metadata)\u001b[0m\n\u001b[1;32m   1130\u001b[0m     \u001b[0;32mif\u001b[0m \u001b[0mhandle\u001b[0m \u001b[0;32mis\u001b[0m \u001b[0;32mNone\u001b[0m\u001b[0;34m:\u001b[0m\u001b[0;34m\u001b[0m\u001b[0m\n\u001b[1;32m   1131\u001b[0m       return self._do_call(_run_fn, self._session, feed_dict, fetch_list,\n\u001b[0;32m-> 1132\u001b[0;31m                            target_list, options, run_metadata)\n\u001b[0m\u001b[1;32m   1133\u001b[0m     \u001b[0;32melse\u001b[0m\u001b[0;34m:\u001b[0m\u001b[0;34m\u001b[0m\u001b[0m\n\u001b[1;32m   1134\u001b[0m       return self._do_call(_prun_fn, self._session, handle, feed_dict,\n",
      "\u001b[0;32m/home/liushrui/install/anaconda3/lib/python3.5/site-packages/tensorflow/python/client/session.py\u001b[0m in \u001b[0;36m_do_call\u001b[0;34m(self, fn, *args)\u001b[0m\n\u001b[1;32m   1137\u001b[0m   \u001b[0;32mdef\u001b[0m \u001b[0m_do_call\u001b[0m\u001b[0;34m(\u001b[0m\u001b[0mself\u001b[0m\u001b[0;34m,\u001b[0m \u001b[0mfn\u001b[0m\u001b[0;34m,\u001b[0m \u001b[0;34m*\u001b[0m\u001b[0margs\u001b[0m\u001b[0;34m)\u001b[0m\u001b[0;34m:\u001b[0m\u001b[0;34m\u001b[0m\u001b[0m\n\u001b[1;32m   1138\u001b[0m     \u001b[0;32mtry\u001b[0m\u001b[0;34m:\u001b[0m\u001b[0;34m\u001b[0m\u001b[0m\n\u001b[0;32m-> 1139\u001b[0;31m       \u001b[0;32mreturn\u001b[0m \u001b[0mfn\u001b[0m\u001b[0;34m(\u001b[0m\u001b[0;34m*\u001b[0m\u001b[0margs\u001b[0m\u001b[0;34m)\u001b[0m\u001b[0;34m\u001b[0m\u001b[0m\n\u001b[0m\u001b[1;32m   1140\u001b[0m     \u001b[0;32mexcept\u001b[0m \u001b[0merrors\u001b[0m\u001b[0;34m.\u001b[0m\u001b[0mOpError\u001b[0m \u001b[0;32mas\u001b[0m \u001b[0me\u001b[0m\u001b[0;34m:\u001b[0m\u001b[0;34m\u001b[0m\u001b[0m\n\u001b[1;32m   1141\u001b[0m       \u001b[0mmessage\u001b[0m \u001b[0;34m=\u001b[0m \u001b[0mcompat\u001b[0m\u001b[0;34m.\u001b[0m\u001b[0mas_text\u001b[0m\u001b[0;34m(\u001b[0m\u001b[0me\u001b[0m\u001b[0;34m.\u001b[0m\u001b[0mmessage\u001b[0m\u001b[0;34m)\u001b[0m\u001b[0;34m\u001b[0m\u001b[0m\n",
      "\u001b[0;32m/home/liushrui/install/anaconda3/lib/python3.5/site-packages/tensorflow/python/client/session.py\u001b[0m in \u001b[0;36m_run_fn\u001b[0;34m(session, feed_dict, fetch_list, target_list, options, run_metadata)\u001b[0m\n\u001b[1;32m   1119\u001b[0m         return tf_session.TF_Run(session, options,\n\u001b[1;32m   1120\u001b[0m                                  \u001b[0mfeed_dict\u001b[0m\u001b[0;34m,\u001b[0m \u001b[0mfetch_list\u001b[0m\u001b[0;34m,\u001b[0m \u001b[0mtarget_list\u001b[0m\u001b[0;34m,\u001b[0m\u001b[0;34m\u001b[0m\u001b[0m\n\u001b[0;32m-> 1121\u001b[0;31m                                  status, run_metadata)\n\u001b[0m\u001b[1;32m   1122\u001b[0m \u001b[0;34m\u001b[0m\u001b[0m\n\u001b[1;32m   1123\u001b[0m     \u001b[0;32mdef\u001b[0m \u001b[0m_prun_fn\u001b[0m\u001b[0;34m(\u001b[0m\u001b[0msession\u001b[0m\u001b[0;34m,\u001b[0m \u001b[0mhandle\u001b[0m\u001b[0;34m,\u001b[0m \u001b[0mfeed_dict\u001b[0m\u001b[0;34m,\u001b[0m \u001b[0mfetch_list\u001b[0m\u001b[0;34m)\u001b[0m\u001b[0;34m:\u001b[0m\u001b[0;34m\u001b[0m\u001b[0m\n",
      "\u001b[0;31mKeyboardInterrupt\u001b[0m: "
     ]
    }
   ],
   "source": [
    "model.fit_generator(train_gen(), #validation_data=val_gen, validation_steps=20,\n",
    "                    steps_per_epoch=600, epochs=50, \n",
    "                    # callbacks=[earlystopper, checkpointer]\n",
    "                    )"
   ]
  },
  {
   "cell_type": "code",
   "execution_count": null,
   "metadata": {
    "collapsed": true
   },
   "outputs": [],
   "source": []
  },
  {
   "cell_type": "code",
   "execution_count": null,
   "metadata": {
    "collapsed": true
   },
   "outputs": [],
   "source": []
  },
  {
   "cell_type": "code",
   "execution_count": 66,
   "metadata": {
    "collapsed": true
   },
   "outputs": [],
   "source": [
    "smooth = 1.\n",
    "\n",
    "def dice_coef(y_true, y_pred):\n",
    "    y_true_f = K.flatten(y_true)\n",
    "    y_pred_f = K.flatten(y_pred)\n",
    "    intersection = K.sum(y_true_f * y_pred_f)\n",
    "    return (2. * intersection + smooth) / (K.sum(y_true_f) + K.sum(y_pred_f) + smooth)\n",
    "\n",
    "def dice_coef_loss(y_true, y_pred):\n",
    "    return -dice_coef(y_true, y_pred)"
   ]
  },
  {
   "cell_type": "code",
   "execution_count": 67,
   "metadata": {
    "collapsed": false,
    "scrolled": true
   },
   "outputs": [
    {
     "name": "stdout",
     "output_type": "stream",
     "text": [
      "_________________________________________________________________\n",
      "Layer (type)                 Output Shape              Param #   \n",
      "=================================================================\n",
      "input_5 (InputLayer)         (None, 256, 256, 3)       0         \n",
      "_________________________________________________________________\n",
      "conv2d_23 (Conv2D)           (None, 256, 256, 16)      448       \n",
      "_________________________________________________________________\n",
      "dropout_10 (Dropout)         (None, 256, 256, 16)      0         \n",
      "_________________________________________________________________\n",
      "conv2d_24 (Conv2D)           (None, 256, 256, 16)      2320      \n",
      "_________________________________________________________________\n",
      "max_pooling2d_5 (MaxPooling2 (None, 128, 128, 16)      0         \n",
      "_________________________________________________________________\n",
      "conv2d_25 (Conv2D)           (None, 128, 128, 32)      4640      \n",
      "_________________________________________________________________\n",
      "dropout_11 (Dropout)         (None, 128, 128, 32)      0         \n",
      "_________________________________________________________________\n",
      "conv2d_26 (Conv2D)           (None, 128, 128, 32)      9248      \n",
      "_________________________________________________________________\n",
      "max_pooling2d_6 (MaxPooling2 (None, 64, 64, 32)        0         \n",
      "_________________________________________________________________\n",
      "conv2d_27 (Conv2D)           (None, 64, 64, 64)        18496     \n",
      "_________________________________________________________________\n",
      "dropout_12 (Dropout)         (None, 64, 64, 64)        0         \n",
      "_________________________________________________________________\n",
      "conv2d_28 (Conv2D)           (None, 64, 64, 64)        36928     \n",
      "_________________________________________________________________\n",
      "max_pooling2d_7 (MaxPooling2 (None, 32, 32, 64)        0         \n",
      "_________________________________________________________________\n",
      "conv2d_29 (Conv2D)           (None, 32, 32, 128)       73856     \n",
      "_________________________________________________________________\n",
      "dropout_13 (Dropout)         (None, 32, 32, 128)       0         \n",
      "_________________________________________________________________\n",
      "conv2d_30 (Conv2D)           (None, 32, 32, 128)       147584    \n",
      "_________________________________________________________________\n",
      "max_pooling2d_8 (MaxPooling2 (None, 16, 16, 128)       0         \n",
      "_________________________________________________________________\n",
      "conv2d_31 (Conv2D)           (None, 16, 16, 256)       295168    \n",
      "_________________________________________________________________\n",
      "dropout_14 (Dropout)         (None, 16, 16, 256)       0         \n",
      "_________________________________________________________________\n",
      "conv2d_32 (Conv2D)           (None, 16, 16, 256)       590080    \n",
      "_________________________________________________________________\n",
      "conv2d_transpose_5 (Conv2DTr (None, 32, 32, 128)       131200    \n",
      "_________________________________________________________________\n",
      "concatenate_5 (Concatenate)  (None, 32, 32, 256)       0         \n",
      "_________________________________________________________________\n",
      "conv2d_33 (Conv2D)           (None, 32, 32, 128)       295040    \n",
      "_________________________________________________________________\n",
      "dropout_15 (Dropout)         (None, 32, 32, 128)       0         \n",
      "_________________________________________________________________\n",
      "conv2d_34 (Conv2D)           (None, 32, 32, 128)       147584    \n",
      "_________________________________________________________________\n",
      "conv2d_transpose_6 (Conv2DTr (None, 64, 64, 64)        32832     \n",
      "_________________________________________________________________\n",
      "concatenate_6 (Concatenate)  (None, 64, 64, 128)       0         \n",
      "_________________________________________________________________\n",
      "conv2d_35 (Conv2D)           (None, 64, 64, 64)        73792     \n",
      "_________________________________________________________________\n",
      "dropout_16 (Dropout)         (None, 64, 64, 64)        0         \n",
      "_________________________________________________________________\n",
      "conv2d_36 (Conv2D)           (None, 64, 64, 64)        36928     \n",
      "_________________________________________________________________\n",
      "conv2d_transpose_7 (Conv2DTr (None, 128, 128, 32)      8224      \n",
      "_________________________________________________________________\n",
      "concatenate_7 (Concatenate)  (None, 128, 128, 64)      0         \n",
      "_________________________________________________________________\n",
      "conv2d_37 (Conv2D)           (None, 128, 128, 32)      18464     \n",
      "_________________________________________________________________\n",
      "dropout_17 (Dropout)         (None, 128, 128, 32)      0         \n",
      "_________________________________________________________________\n",
      "conv2d_38 (Conv2D)           (None, 128, 128, 32)      9248      \n",
      "_________________________________________________________________\n",
      "conv2d_transpose_8 (Conv2DTr (None, 256, 256, 16)      2064      \n",
      "_________________________________________________________________\n",
      "concatenate_8 (Concatenate)  (None, 256, 256, 32)      0         \n",
      "_________________________________________________________________\n",
      "conv2d_39 (Conv2D)           (None, 256, 256, 16)      4624      \n",
      "_________________________________________________________________\n",
      "dropout_18 (Dropout)         (None, 256, 256, 16)      0         \n",
      "_________________________________________________________________\n",
      "conv2d_40 (Conv2D)           (None, 256, 256, 16)      2320      \n",
      "_________________________________________________________________\n",
      "conv2d_41 (Conv2D)           (None, 256, 256, 1)       17        \n",
      "=================================================================\n",
      "Total params: 1,941,105\n",
      "Trainable params: 1,941,105\n",
      "Non-trainable params: 0\n",
      "_________________________________________________________________\n"
     ]
    }
   ],
   "source": [
    "model = Model(inputs=[inputs], outputs=[outputs])\n",
    "model.compile(optimizer='adam', loss=dice_coef_loss, metrics=[mean_iou])\n",
    "model.summary()"
   ]
  },
  {
   "cell_type": "code",
   "execution_count": 68,
   "metadata": {
    "collapsed": true
   },
   "outputs": [
    {
     "name": "stdout",
     "output_type": "stream",
     "text": [
      "Epoch 1/50\n",
      "600/600 [==============================] - 20s - loss: -0.8344 - mean_iou: 0.8307    \n",
      "Epoch 2/50\n",
      "600/600 [==============================] - 20s - loss: -0.8437 - mean_iou: 0.8400    \n",
      "Epoch 3/50\n",
      "600/600 [==============================] - 20s - loss: -0.8469 - mean_iou: 0.8418    \n",
      "Epoch 4/50\n",
      "600/600 [==============================] - 20s - loss: -0.8487 - mean_iou: 0.8429    \n",
      "Epoch 5/50\n",
      "600/600 [==============================] - 20s - loss: -0.8502 - mean_iou: 0.8437    \n",
      "Epoch 6/50\n",
      "600/600 [==============================] - 20s - loss: -0.8512 - mean_iou: 0.8443    \n",
      "Epoch 7/50\n",
      "600/600 [==============================] - 20s - loss: -0.8519 - mean_iou: 0.8448    \n",
      "Epoch 8/50\n",
      "600/600 [==============================] - 20s - loss: -0.8528 - mean_iou: 0.8452    \n",
      "Epoch 9/50\n",
      "600/600 [==============================] - 20s - loss: -0.8533 - mean_iou: 0.8456    \n",
      "Epoch 10/50\n",
      "600/600 [==============================] - 20s - loss: -0.8541 - mean_iou: 0.8459    \n",
      "Epoch 11/50\n",
      "600/600 [==============================] - 20s - loss: -0.8544 - mean_iou: 0.8462    \n",
      "Epoch 12/50\n",
      "600/600 [==============================] - 20s - loss: -0.8547 - mean_iou: 0.8465    \n",
      "Epoch 13/50\n",
      "600/600 [==============================] - 20s - loss: -0.8553 - mean_iou: 0.8468    \n",
      "Epoch 14/50\n",
      "600/600 [==============================] - 20s - loss: -0.8556 - mean_iou: 0.8470    \n",
      "Epoch 15/50\n",
      "600/600 [==============================] - 20s - loss: -0.8558 - mean_iou: 0.8472    \n",
      "Epoch 16/50\n",
      "600/600 [==============================] - 20s - loss: -0.8565 - mean_iou: 0.8474    \n",
      "Epoch 17/50\n",
      "600/600 [==============================] - 20s - loss: -0.8565 - mean_iou: 0.8476    \n",
      "Epoch 18/50\n",
      "600/600 [==============================] - 20s - loss: -0.8570 - mean_iou: 0.8478    \n",
      "Epoch 19/50\n",
      "600/600 [==============================] - 20s - loss: -0.8573 - mean_iou: 0.8480    \n",
      "Epoch 20/50\n",
      "600/600 [==============================] - 20s - loss: -0.8575 - mean_iou: 0.8482    \n",
      "Epoch 21/50\n",
      "600/600 [==============================] - 20s - loss: -0.8578 - mean_iou: 0.8484    \n",
      "Epoch 22/50\n",
      "600/600 [==============================] - 20s - loss: -0.8580 - mean_iou: 0.8485    \n",
      "Epoch 23/50\n",
      "600/600 [==============================] - 20s - loss: -0.8584 - mean_iou: 0.8487    \n",
      "Epoch 24/50\n",
      "600/600 [==============================] - 20s - loss: -0.8586 - mean_iou: 0.8489    \n",
      "Epoch 25/50\n",
      "600/600 [==============================] - 20s - loss: -0.8587 - mean_iou: 0.8490    \n",
      "Epoch 26/50\n",
      "600/600 [==============================] - 20s - loss: -0.8589 - mean_iou: 0.8491    \n",
      "Epoch 27/50\n",
      "600/600 [==============================] - 20s - loss: -0.8590 - mean_iou: 0.8493    \n",
      "Epoch 28/50\n",
      "600/600 [==============================] - 20s - loss: -0.8593 - mean_iou: 0.8494    \n",
      "Epoch 29/50\n",
      "600/600 [==============================] - 20s - loss: -0.8593 - mean_iou: 0.8496    \n",
      "Epoch 30/50\n",
      "600/600 [==============================] - 20s - loss: -0.8593 - mean_iou: 0.8497    \n",
      "Epoch 31/50\n",
      "600/600 [==============================] - 20s - loss: -0.8603 - mean_iou: 0.8498    \n",
      "Epoch 32/50\n",
      "600/600 [==============================] - 20s - loss: -0.8602 - mean_iou: 0.8499    \n",
      "Epoch 33/50\n",
      "600/600 [==============================] - 20s - loss: -0.8604 - mean_iou: 0.8500    \n",
      "Epoch 34/50\n",
      "600/600 [==============================] - 20s - loss: -0.8601 - mean_iou: 0.8502    \n",
      "Epoch 35/50\n",
      "600/600 [==============================] - 20s - loss: -0.8607 - mean_iou: 0.8503    \n",
      "Epoch 36/50\n",
      "491/600 [=======================>......] - ETA: 3s - loss: -0.8594 - mean_iou: 0.8503"
     ]
    },
    {
     "ename": "KeyboardInterrupt",
     "evalue": "",
     "output_type": "error",
     "traceback": [
      "\u001b[0;31m---------------------------------------------------------------------------\u001b[0m",
      "\u001b[0;31mKeyboardInterrupt\u001b[0m                         Traceback (most recent call last)",
      "\u001b[0;32m<ipython-input-68-b08a51b7e6ca>\u001b[0m in \u001b[0;36m<module>\u001b[0;34m()\u001b[0m\n\u001b[1;32m      1\u001b[0m model.fit_generator(train_gen(), #validation_data=val_gen, validation_steps=20,\n\u001b[0;32m----> 2\u001b[0;31m                     \u001b[0msteps_per_epoch\u001b[0m\u001b[0;34m=\u001b[0m\u001b[0;36m600\u001b[0m\u001b[0;34m,\u001b[0m \u001b[0mepochs\u001b[0m\u001b[0;34m=\u001b[0m\u001b[0;36m50\u001b[0m\u001b[0;34m,\u001b[0m\u001b[0;34m\u001b[0m\u001b[0m\n\u001b[0m\u001b[1;32m      3\u001b[0m                     \u001b[0;31m# callbacks=[earlystopper, checkpointer]\u001b[0m\u001b[0;34m\u001b[0m\u001b[0;34m\u001b[0m\u001b[0m\n\u001b[1;32m      4\u001b[0m                     )\n",
      "\u001b[0;32m/home/liushrui/install/anaconda3/lib/python3.5/site-packages/keras/legacy/interfaces.py\u001b[0m in \u001b[0;36mwrapper\u001b[0;34m(*args, **kwargs)\u001b[0m\n\u001b[1;32m     86\u001b[0m                     \u001b[0;32mif\u001b[0m \u001b[0mi\u001b[0m \u001b[0;34m<\u001b[0m \u001b[0mlen\u001b[0m\u001b[0;34m(\u001b[0m\u001b[0mkwargs\u001b[0m\u001b[0;34m)\u001b[0m \u001b[0;34m-\u001b[0m \u001b[0;36m1\u001b[0m\u001b[0;34m:\u001b[0m\u001b[0;34m\u001b[0m\u001b[0m\n\u001b[1;32m     87\u001b[0m                         \u001b[0msignature\u001b[0m \u001b[0;34m+=\u001b[0m \u001b[0;34m', '\u001b[0m\u001b[0;34m\u001b[0m\u001b[0m\n\u001b[0;32m---> 88\u001b[0;31m                 \u001b[0msignature\u001b[0m \u001b[0;34m+=\u001b[0m \u001b[0;34m')`'\u001b[0m\u001b[0;34m\u001b[0m\u001b[0m\n\u001b[0m\u001b[1;32m     89\u001b[0m                 warnings.warn('Update your `' + object_name +\n\u001b[1;32m     90\u001b[0m                               '` call to the Keras 2 API: ' + signature, stacklevel=2)\n",
      "\u001b[0;32m/home/liushrui/install/anaconda3/lib/python3.5/site-packages/keras/engine/training.py\u001b[0m in \u001b[0;36mfit_generator\u001b[0;34m(self, generator, steps_per_epoch, epochs, verbose, callbacks, validation_data, validation_steps, class_weight, max_q_size, workers, pickle_safe, initial_epoch)\u001b[0m\n\u001b[1;32m   1875\u001b[0m             \u001b[0mx\u001b[0m\u001b[0;34m,\u001b[0m \u001b[0my\u001b[0m\u001b[0;34m,\u001b[0m\u001b[0;34m\u001b[0m\u001b[0m\n\u001b[1;32m   1876\u001b[0m             \u001b[0msample_weight\u001b[0m\u001b[0;34m=\u001b[0m\u001b[0msample_weight\u001b[0m\u001b[0;34m,\u001b[0m\u001b[0;34m\u001b[0m\u001b[0m\n\u001b[0;32m-> 1877\u001b[0;31m             class_weight=class_weight)\n\u001b[0m\u001b[1;32m   1878\u001b[0m         \u001b[0;32mif\u001b[0m \u001b[0mself\u001b[0m\u001b[0;34m.\u001b[0m\u001b[0muses_learning_phase\u001b[0m \u001b[0;32mand\u001b[0m \u001b[0;32mnot\u001b[0m \u001b[0misinstance\u001b[0m\u001b[0;34m(\u001b[0m\u001b[0mK\u001b[0m\u001b[0;34m.\u001b[0m\u001b[0mlearning_phase\u001b[0m\u001b[0;34m(\u001b[0m\u001b[0;34m)\u001b[0m\u001b[0;34m,\u001b[0m \u001b[0mint\u001b[0m\u001b[0;34m)\u001b[0m\u001b[0;34m:\u001b[0m\u001b[0;34m\u001b[0m\u001b[0m\n\u001b[1;32m   1879\u001b[0m             \u001b[0mins\u001b[0m \u001b[0;34m=\u001b[0m \u001b[0mx\u001b[0m \u001b[0;34m+\u001b[0m \u001b[0my\u001b[0m \u001b[0;34m+\u001b[0m \u001b[0msample_weights\u001b[0m \u001b[0;34m+\u001b[0m \u001b[0;34m[\u001b[0m\u001b[0;36m1.\u001b[0m\u001b[0;34m]\u001b[0m\u001b[0;34m\u001b[0m\u001b[0m\n",
      "\u001b[0;32m/home/liushrui/install/anaconda3/lib/python3.5/site-packages/keras/engine/training.py\u001b[0m in \u001b[0;36mtrain_on_batch\u001b[0;34m(self, x, y, sample_weight, class_weight)\u001b[0m\n\u001b[1;32m   1619\u001b[0m         \u001b[0;32mif\u001b[0m \u001b[0mkwargs\u001b[0m\u001b[0;34m:\u001b[0m\u001b[0;34m\u001b[0m\u001b[0m\n\u001b[1;32m   1620\u001b[0m             \u001b[0;32mraise\u001b[0m \u001b[0mTypeError\u001b[0m\u001b[0;34m(\u001b[0m\u001b[0;34m'Unrecognized keyword arguments: '\u001b[0m \u001b[0;34m+\u001b[0m \u001b[0mstr\u001b[0m\u001b[0;34m(\u001b[0m\u001b[0mkwargs\u001b[0m\u001b[0;34m)\u001b[0m\u001b[0;34m)\u001b[0m\u001b[0;34m\u001b[0m\u001b[0m\n\u001b[0;32m-> 1621\u001b[0;31m         \u001b[0;32mif\u001b[0m \u001b[0mx\u001b[0m \u001b[0;32mis\u001b[0m \u001b[0;32mNone\u001b[0m \u001b[0;32mand\u001b[0m \u001b[0my\u001b[0m \u001b[0;32mis\u001b[0m \u001b[0;32mNone\u001b[0m \u001b[0;32mand\u001b[0m \u001b[0msteps_per_epoch\u001b[0m \u001b[0;32mis\u001b[0m \u001b[0;32mNone\u001b[0m\u001b[0;34m:\u001b[0m\u001b[0;34m\u001b[0m\u001b[0m\n\u001b[0m\u001b[1;32m   1622\u001b[0m             raise ValueError('If fitting from data tensors, '\n\u001b[1;32m   1623\u001b[0m                              \u001b[0;34m'you should specify the `steps_per_epoch` '\u001b[0m\u001b[0;34m\u001b[0m\u001b[0m\n",
      "\u001b[0;32m/home/liushrui/install/anaconda3/lib/python3.5/site-packages/keras/backend/tensorflow_backend.py\u001b[0m in \u001b[0;36m__call__\u001b[0;34m(self, inputs)\u001b[0m\n\u001b[1;32m   2101\u001b[0m     \"\"\"Flatten a tensor.\n\u001b[1;32m   2102\u001b[0m \u001b[0;34m\u001b[0m\u001b[0m\n\u001b[0;32m-> 2103\u001b[0;31m     \u001b[0;31m# Arguments\u001b[0m\u001b[0;34m\u001b[0m\u001b[0;34m\u001b[0m\u001b[0m\n\u001b[0m\u001b[1;32m   2104\u001b[0m         \u001b[0mx\u001b[0m\u001b[0;34m:\u001b[0m \u001b[0mA\u001b[0m \u001b[0mtensor\u001b[0m \u001b[0;32mor\u001b[0m \u001b[0mvariable\u001b[0m\u001b[0;34m.\u001b[0m\u001b[0;34m\u001b[0m\u001b[0m\n\u001b[1;32m   2105\u001b[0m \u001b[0;34m\u001b[0m\u001b[0m\n",
      "\u001b[0;32m/home/liushrui/install/anaconda3/lib/python3.5/site-packages/tensorflow/python/client/session.py\u001b[0m in \u001b[0;36mrun\u001b[0;34m(self, fetches, feed_dict, options, run_metadata)\u001b[0m\n\u001b[1;32m    787\u001b[0m     \u001b[0;32mtry\u001b[0m\u001b[0;34m:\u001b[0m\u001b[0;34m\u001b[0m\u001b[0m\n\u001b[1;32m    788\u001b[0m       result = self._run(None, fetches, feed_dict, options_ptr,\n\u001b[0;32m--> 789\u001b[0;31m                          run_metadata_ptr)\n\u001b[0m\u001b[1;32m    790\u001b[0m       \u001b[0;32mif\u001b[0m \u001b[0mrun_metadata\u001b[0m\u001b[0;34m:\u001b[0m\u001b[0;34m\u001b[0m\u001b[0m\n\u001b[1;32m    791\u001b[0m         \u001b[0mproto_data\u001b[0m \u001b[0;34m=\u001b[0m \u001b[0mtf_session\u001b[0m\u001b[0;34m.\u001b[0m\u001b[0mTF_GetBuffer\u001b[0m\u001b[0;34m(\u001b[0m\u001b[0mrun_metadata_ptr\u001b[0m\u001b[0;34m)\u001b[0m\u001b[0;34m\u001b[0m\u001b[0m\n",
      "\u001b[0;32m/home/liushrui/install/anaconda3/lib/python3.5/site-packages/tensorflow/python/client/session.py\u001b[0m in \u001b[0;36m_run\u001b[0;34m(self, handle, fetches, feed_dict, options, run_metadata)\u001b[0m\n\u001b[1;32m    995\u001b[0m     \u001b[0;32mif\u001b[0m \u001b[0mfinal_fetches\u001b[0m \u001b[0;32mor\u001b[0m \u001b[0mfinal_targets\u001b[0m\u001b[0;34m:\u001b[0m\u001b[0;34m\u001b[0m\u001b[0m\n\u001b[1;32m    996\u001b[0m       results = self._do_run(handle, final_targets, final_fetches,\n\u001b[0;32m--> 997\u001b[0;31m                              feed_dict_string, options, run_metadata)\n\u001b[0m\u001b[1;32m    998\u001b[0m     \u001b[0;32melse\u001b[0m\u001b[0;34m:\u001b[0m\u001b[0;34m\u001b[0m\u001b[0m\n\u001b[1;32m    999\u001b[0m       \u001b[0mresults\u001b[0m \u001b[0;34m=\u001b[0m \u001b[0;34m[\u001b[0m\u001b[0;34m]\u001b[0m\u001b[0;34m\u001b[0m\u001b[0m\n",
      "\u001b[0;32m/home/liushrui/install/anaconda3/lib/python3.5/site-packages/tensorflow/python/client/session.py\u001b[0m in \u001b[0;36m_do_run\u001b[0;34m(self, handle, target_list, fetch_list, feed_dict, options, run_metadata)\u001b[0m\n\u001b[1;32m   1130\u001b[0m     \u001b[0;32mif\u001b[0m \u001b[0mhandle\u001b[0m \u001b[0;32mis\u001b[0m \u001b[0;32mNone\u001b[0m\u001b[0;34m:\u001b[0m\u001b[0;34m\u001b[0m\u001b[0m\n\u001b[1;32m   1131\u001b[0m       return self._do_call(_run_fn, self._session, feed_dict, fetch_list,\n\u001b[0;32m-> 1132\u001b[0;31m                            target_list, options, run_metadata)\n\u001b[0m\u001b[1;32m   1133\u001b[0m     \u001b[0;32melse\u001b[0m\u001b[0;34m:\u001b[0m\u001b[0;34m\u001b[0m\u001b[0m\n\u001b[1;32m   1134\u001b[0m       return self._do_call(_prun_fn, self._session, handle, feed_dict,\n",
      "\u001b[0;32m/home/liushrui/install/anaconda3/lib/python3.5/site-packages/tensorflow/python/client/session.py\u001b[0m in \u001b[0;36m_do_call\u001b[0;34m(self, fn, *args)\u001b[0m\n\u001b[1;32m   1137\u001b[0m   \u001b[0;32mdef\u001b[0m \u001b[0m_do_call\u001b[0m\u001b[0;34m(\u001b[0m\u001b[0mself\u001b[0m\u001b[0;34m,\u001b[0m \u001b[0mfn\u001b[0m\u001b[0;34m,\u001b[0m \u001b[0;34m*\u001b[0m\u001b[0margs\u001b[0m\u001b[0;34m)\u001b[0m\u001b[0;34m:\u001b[0m\u001b[0;34m\u001b[0m\u001b[0m\n\u001b[1;32m   1138\u001b[0m     \u001b[0;32mtry\u001b[0m\u001b[0;34m:\u001b[0m\u001b[0;34m\u001b[0m\u001b[0m\n\u001b[0;32m-> 1139\u001b[0;31m       \u001b[0;32mreturn\u001b[0m \u001b[0mfn\u001b[0m\u001b[0;34m(\u001b[0m\u001b[0;34m*\u001b[0m\u001b[0margs\u001b[0m\u001b[0;34m)\u001b[0m\u001b[0;34m\u001b[0m\u001b[0m\n\u001b[0m\u001b[1;32m   1140\u001b[0m     \u001b[0;32mexcept\u001b[0m \u001b[0merrors\u001b[0m\u001b[0;34m.\u001b[0m\u001b[0mOpError\u001b[0m \u001b[0;32mas\u001b[0m \u001b[0me\u001b[0m\u001b[0;34m:\u001b[0m\u001b[0;34m\u001b[0m\u001b[0m\n\u001b[1;32m   1141\u001b[0m       \u001b[0mmessage\u001b[0m \u001b[0;34m=\u001b[0m \u001b[0mcompat\u001b[0m\u001b[0;34m.\u001b[0m\u001b[0mas_text\u001b[0m\u001b[0;34m(\u001b[0m\u001b[0me\u001b[0m\u001b[0;34m.\u001b[0m\u001b[0mmessage\u001b[0m\u001b[0;34m)\u001b[0m\u001b[0;34m\u001b[0m\u001b[0m\n",
      "\u001b[0;32m/home/liushrui/install/anaconda3/lib/python3.5/site-packages/tensorflow/python/client/session.py\u001b[0m in \u001b[0;36m_run_fn\u001b[0;34m(session, feed_dict, fetch_list, target_list, options, run_metadata)\u001b[0m\n\u001b[1;32m   1119\u001b[0m         return tf_session.TF_Run(session, options,\n\u001b[1;32m   1120\u001b[0m                                  \u001b[0mfeed_dict\u001b[0m\u001b[0;34m,\u001b[0m \u001b[0mfetch_list\u001b[0m\u001b[0;34m,\u001b[0m \u001b[0mtarget_list\u001b[0m\u001b[0;34m,\u001b[0m\u001b[0;34m\u001b[0m\u001b[0m\n\u001b[0;32m-> 1121\u001b[0;31m                                  status, run_metadata)\n\u001b[0m\u001b[1;32m   1122\u001b[0m \u001b[0;34m\u001b[0m\u001b[0m\n\u001b[1;32m   1123\u001b[0m     \u001b[0;32mdef\u001b[0m \u001b[0m_prun_fn\u001b[0m\u001b[0;34m(\u001b[0m\u001b[0msession\u001b[0m\u001b[0;34m,\u001b[0m \u001b[0mhandle\u001b[0m\u001b[0;34m,\u001b[0m \u001b[0mfeed_dict\u001b[0m\u001b[0;34m,\u001b[0m \u001b[0mfetch_list\u001b[0m\u001b[0;34m)\u001b[0m\u001b[0;34m:\u001b[0m\u001b[0;34m\u001b[0m\u001b[0m\n",
      "\u001b[0;31mKeyboardInterrupt\u001b[0m: "
     ]
    }
   ],
   "source": [
    "model.fit_generator(train_gen(), #validation_data=val_gen, validation_steps=20,\n",
    "                    steps_per_epoch=600, epochs=50, \n",
    "                    # callbacks=[earlystopper, checkpointer]\n",
    "                    )"
   ]
  },
  {
   "cell_type": "code",
   "execution_count": null,
   "metadata": {
    "collapsed": true
   },
   "outputs": [],
   "source": []
  },
  {
   "cell_type": "code",
   "execution_count": null,
   "metadata": {
    "collapsed": true
   },
   "outputs": [],
   "source": []
  },
  {
   "cell_type": "code",
   "execution_count": null,
   "metadata": {
    "collapsed": true
   },
   "outputs": [],
   "source": [
    "model = load_model('model-dsbowl2018-1.h5', custom_objects={'mean_iou': mean_iou})\n",
    "preds_train = model.predict(X_train[:int(X_train.shape[0]*0.9)], verbose=1)\n",
    "preds_val = model.predict(X_train[int(X_train.shape[0]*0.9):], verbose=1)\n",
    "preds_test = model.predict(X_test, verbose=1)\n",
    "\n",
    "# Threshold predictions\n",
    "preds_train_t = (preds_train > 0.5).astype(np.uint8)\n",
    "preds_val_t = (preds_val > 0.5).astype(np.uint8)\n",
    "preds_test_t = (preds_test > 0.5).astype(np.uint8)\n",
    "\n",
    "# Create list of upsampled test masks\n",
    "preds_test_upsampled = []\n",
    "for i in range(len(preds_test)):\n",
    "    preds_test_upsampled.append(resize(np.squeeze(preds_test[i]), \n",
    "                                       (sizes_test[i][0], sizes_test[i][1]), \n",
    "                                       mode='constant', preserve_range=True))"
   ]
  },
  {
   "cell_type": "code",
   "execution_count": null,
   "metadata": {
    "collapsed": true
   },
   "outputs": [],
   "source": []
  },
  {
   "cell_type": "code",
   "execution_count": null,
   "metadata": {
    "collapsed": true
   },
   "outputs": [],
   "source": []
  },
  {
   "cell_type": "code",
   "execution_count": 137,
   "metadata": {
    "collapsed": false,
    "scrolled": true
   },
   "outputs": [
    {
     "name": "stdout",
     "output_type": "stream",
     "text": [
      "Epoch 1/10\n",
      "670/670 [==============================] - 41s - loss: -0.7410 - dice_coef: 0.7410 - acc: 0.9033 - mean_squared_error: 0.0932    \n",
      "Epoch 2/10\n",
      "670/670 [==============================] - 36s - loss: -0.7960 - dice_coef: 0.7960 - acc: 0.9288 - mean_squared_error: 0.0701    \n",
      "Epoch 3/10\n",
      "670/670 [==============================] - 38s - loss: -0.8016 - dice_coef: 0.8016 - acc: 0.9307 - mean_squared_error: 0.0687    \n",
      "Epoch 4/10\n",
      "670/670 [==============================] - 37s - loss: -0.8037 - dice_coef: 0.8037 - acc: 0.9310 - mean_squared_error: 0.0687    \n",
      "Epoch 5/10\n",
      "670/670 [==============================] - 38s - loss: -0.7979 - dice_coef: 0.7979 - acc: 0.9305 - mean_squared_error: 0.0693    \n",
      "Epoch 6/10\n",
      "670/670 [==============================] - 38s - loss: -0.7980 - dice_coef: 0.7980 - acc: 0.9253 - mean_squared_error: 0.0745    \n",
      "Epoch 7/10\n",
      "670/670 [==============================] - 38s - loss: -0.7977 - dice_coef: 0.7977 - acc: 0.9278 - mean_squared_error: 0.0721    \n",
      "Epoch 8/10\n",
      "670/670 [==============================] - 38s - loss: -0.7970 - dice_coef: 0.7970 - acc: 0.9285 - mean_squared_error: 0.0714    \n",
      "Epoch 9/10\n",
      "670/670 [==============================] - 38s - loss: -0.7956 - dice_coef: 0.7956 - acc: 0.9277 - mean_squared_error: 0.0723    \n",
      "Epoch 10/10\n",
      "670/670 [==============================] - 38s - loss: -0.7844 - dice_coef: 0.7844 - acc: 0.9272 - mean_squared_error: 0.0728    \n"
     ]
    },
    {
     "data": {
      "text/plain": [
       "<keras.callbacks.History at 0x7f2d68f8cd68>"
      ]
     },
     "execution_count": 137,
     "metadata": {},
     "output_type": "execute_result"
    }
   ],
   "source": [
    "simple_cnn.fit_generator(simple_gen(), \n",
    "                         steps_per_epoch=train_img_df.shape[0],\n",
    "                        epochs = 10)"
   ]
  },
  {
   "cell_type": "code",
   "execution_count": null,
   "metadata": {
    "collapsed": true
   },
   "outputs": [],
   "source": []
  },
  {
   "cell_type": "code",
   "execution_count": 136,
   "metadata": {
    "collapsed": false
   },
   "outputs": [
    {
     "name": "stdout",
     "output_type": "stream",
     "text": [
      "CPU times: user 0 ns, sys: 0 ns, total: 0 ns\n",
      "Wall time: 41.5 µs\n"
     ]
    }
   ],
   "source": [
    "%%time\n",
    "IMG_CHANNELS = 3\n",
    "def read_and_stack(in_img_list):\n",
    "    return np.sum(np.stack([resize(imread(c_img), (img_height, img_width)) for c_img in in_img_list], 0), 0) # /255.0\n",
    "\n",
    "def read_and_save_shape(in_img):\n",
    "    return imread(in_img[0]).shape[:2] # /255.0\n"
   ]
  },
  {
   "cell_type": "code",
   "execution_count": null,
   "metadata": {
    "collapsed": true
   },
   "outputs": [],
   "source": []
  },
  {
   "cell_type": "code",
   "execution_count": 137,
   "metadata": {
    "collapsed": false
   },
   "outputs": [
    {
     "name": "stderr",
     "output_type": "stream",
     "text": [
      "/home/liushrui/install/anaconda3/lib/python3.5/site-packages/skimage/transform/_warps.py:84: UserWarning: The default mode, 'constant', will be changed to 'reflect' in skimage 0.15.\n",
      "  warn(\"The default mode, 'constant', will be changed to 'reflect' in \"\n"
     ]
    },
    {
     "name": "stdout",
     "output_type": "stream",
     "text": [
      "65 images to process\n",
      "CPU times: user 1.76 s, sys: 416 ms, total: 2.18 s\n",
      "Wall time: 2.1 s\n"
     ]
    }
   ],
   "source": [
    "%%time\n",
    "test_df = path_df.query('Image_GROUP==\"test\"')\n",
    "test_rows = []\n",
    "group_cols = ['Image_STAGE', 'Image_ID']\n",
    "for n_group, n_rows in test_df.groupby(group_cols):\n",
    "    c_row = {col_name: col_value for col_name, col_value in zip(group_cols, n_group)}\n",
    "    c_row['images'] = n_rows.query('Image_TYPE == \"images\"').index.values.tolist()\n",
    "    test_rows += [c_row]\n",
    "test_img_df = pd.DataFrame(test_rows)    \n",
    "\n",
    "test_img_df['shape'] = test_img_df['images'].map(read_and_save_shape)\n",
    "test_img_df['images'] = test_img_df['images'].map(read_and_stack).map(lambda x: x[:,:,:IMG_CHANNELS])\n",
    "\n",
    "print(test_img_df.shape[0], 'images to process')"
   ]
  },
  {
   "cell_type": "code",
   "execution_count": 138,
   "metadata": {
    "collapsed": false
   },
   "outputs": [
    {
     "data": {
      "text/html": [
       "<div>\n",
       "<style>\n",
       "    .dataframe thead tr:only-child th {\n",
       "        text-align: right;\n",
       "    }\n",
       "\n",
       "    .dataframe thead th {\n",
       "        text-align: left;\n",
       "    }\n",
       "\n",
       "    .dataframe tbody tr th {\n",
       "        vertical-align: top;\n",
       "    }\n",
       "</style>\n",
       "<table border=\"1\" class=\"dataframe\">\n",
       "  <thead>\n",
       "    <tr style=\"text-align: right;\">\n",
       "      <th></th>\n",
       "      <th>Image_ID</th>\n",
       "      <th>Image_STAGE</th>\n",
       "      <th>images</th>\n",
       "      <th>shape</th>\n",
       "    </tr>\n",
       "  </thead>\n",
       "  <tbody>\n",
       "    <tr>\n",
       "      <th>0</th>\n",
       "      <td>0114f484a16c152baa2d82fdd43740880a762c93f436c8...</td>\n",
       "      <td>stage1</td>\n",
       "      <td>[[[0.0117647058824, 0.0117647058824, 0.0117647...</td>\n",
       "      <td>(256, 256)</td>\n",
       "    </tr>\n",
       "    <tr>\n",
       "      <th>1</th>\n",
       "      <td>0999dab07b11bc85fb8464fc36c947fbd8b5d6ec498173...</td>\n",
       "      <td>stage1</td>\n",
       "      <td>[[[0.0759692173378, 0.0759692173378, 0.0759692...</td>\n",
       "      <td>(519, 253)</td>\n",
       "    </tr>\n",
       "    <tr>\n",
       "      <th>2</th>\n",
       "      <td>0a849e0eb15faa8a6d7329c3dd66aabe9a294cccb52ed3...</td>\n",
       "      <td>stage1</td>\n",
       "      <td>[[[0.0705882352941, 0.0705882352941, 0.0705882...</td>\n",
       "      <td>(256, 256)</td>\n",
       "    </tr>\n",
       "    <tr>\n",
       "      <th>3</th>\n",
       "      <td>0e132f71c8b4875c3c2dd7a22997468a3e842b46aa9bd4...</td>\n",
       "      <td>stage1</td>\n",
       "      <td>[[[0.0509803921569, 0.0509803921569, 0.0509803...</td>\n",
       "      <td>(256, 256)</td>\n",
       "    </tr>\n",
       "    <tr>\n",
       "      <th>4</th>\n",
       "      <td>0ed3555a4bd48046d3b63d8baf03a5aa97e523aa483aaa...</td>\n",
       "      <td>stage1</td>\n",
       "      <td>[[[0.0549019607843, 0.0549019607843, 0.0549019...</td>\n",
       "      <td>(256, 256)</td>\n",
       "    </tr>\n",
       "  </tbody>\n",
       "</table>\n",
       "</div>"
      ],
      "text/plain": [
       "                                            Image_ID Image_STAGE  \\\n",
       "0  0114f484a16c152baa2d82fdd43740880a762c93f436c8...      stage1   \n",
       "1  0999dab07b11bc85fb8464fc36c947fbd8b5d6ec498173...      stage1   \n",
       "2  0a849e0eb15faa8a6d7329c3dd66aabe9a294cccb52ed3...      stage1   \n",
       "3  0e132f71c8b4875c3c2dd7a22997468a3e842b46aa9bd4...      stage1   \n",
       "4  0ed3555a4bd48046d3b63d8baf03a5aa97e523aa483aaa...      stage1   \n",
       "\n",
       "                                              images       shape  \n",
       "0  [[[0.0117647058824, 0.0117647058824, 0.0117647...  (256, 256)  \n",
       "1  [[[0.0759692173378, 0.0759692173378, 0.0759692...  (519, 253)  \n",
       "2  [[[0.0705882352941, 0.0705882352941, 0.0705882...  (256, 256)  \n",
       "3  [[[0.0509803921569, 0.0509803921569, 0.0509803...  (256, 256)  \n",
       "4  [[[0.0549019607843, 0.0549019607843, 0.0549019...  (256, 256)  "
      ]
     },
     "execution_count": 138,
     "metadata": {},
     "output_type": "execute_result"
    }
   ],
   "source": [
    "test_img_df.head(5)"
   ]
  },
  {
   "cell_type": "code",
   "execution_count": null,
   "metadata": {
    "collapsed": true
   },
   "outputs": [],
   "source": []
  },
  {
   "cell_type": "code",
   "execution_count": 141,
   "metadata": {
    "collapsed": false
   },
   "outputs": [
    {
     "name": "stdout",
     "output_type": "stream",
     "text": [
      "CPU times: user 532 ms, sys: 44 ms, total: 576 ms\n",
      "Wall time: 444 ms\n"
     ]
    }
   ],
   "source": [
    "%%time\n",
    "test_img_df['masks'] = test_img_df['images'].map(lambda x: model.predict(np.expand_dims(x, 0))[0, :, :, 0])"
   ]
  },
  {
   "cell_type": "code",
   "execution_count": 146,
   "metadata": {
    "collapsed": false,
    "scrolled": true
   },
   "outputs": [
    {
     "name": "stderr",
     "output_type": "stream",
     "text": [
      "/home/liushrui/install/anaconda3/lib/python3.5/site-packages/skimage/transform/_warps.py:84: UserWarning: The default mode, 'constant', will be changed to 'reflect' in skimage 0.15.\n",
      "  warn(\"The default mode, 'constant', will be changed to 'reflect' in \"\n"
     ]
    },
    {
     "name": "stdout",
     "output_type": "stream",
     "text": [
      "41\n"
     ]
    }
   ],
   "source": [
    "count = 0\n",
    "for _ in range(test_img_df.shape[0]):\n",
    "    if test_img_df.loc[_, 'shape'] == (256, 256):\n",
    "        pass\n",
    "    else:\n",
    "        # print(_)\n",
    "        count += 1\n",
    "        test_img_df.loc[_, 'masks'] = resize(test_img_df.loc[_, 'masks'], test_img_df.loc[_, 'shape'])\n",
    "        \n",
    "print(count)"
   ]
  },
  {
   "cell_type": "code",
   "execution_count": null,
   "metadata": {
    "collapsed": true
   },
   "outputs": [],
   "source": []
  },
  {
   "cell_type": "code",
   "execution_count": null,
   "metadata": {
    "collapsed": true
   },
   "outputs": [],
   "source": []
  },
  {
   "cell_type": "code",
   "execution_count": 149,
   "metadata": {
    "collapsed": false,
    "scrolled": true
   },
   "outputs": [
    {
     "data": {
      "image/png": "[encoded data removed]",
      "text/plain": [
       "<matplotlib.figure.Figure at 0x7f33c15d6470>"
      ]
     },
     "metadata": {},
     "output_type": "display_data"
    }
   ],
   "source": [
    "n_img = 3\n",
    "from skimage.morphology import closing, opening, disk\n",
    "\n",
    "def clean_img(x):\n",
    "    return opening(closing(x, disk(1)), disk(3))\n",
    "\n",
    "fig, m_axs = plt.subplots(3, n_img, figsize = (12, 6))\n",
    "for (_, d_row), (c_im, c_lab, c_clean) in zip(test_img_df.sample(n_img).iterrows(), \n",
    "                                     m_axs):\n",
    "    c_im.imshow(d_row['images'])\n",
    "    c_im.axis('off')\n",
    "    c_im.set_title('Microscope')\n",
    "    \n",
    "    c_lab.imshow(d_row['masks'])\n",
    "    c_lab.axis('off')\n",
    "    c_lab.set_title('Predicted')\n",
    "    \n",
    "    c_clean.imshow(clean_img(d_row['masks']))\n",
    "    c_clean.axis('off')\n",
    "    c_clean.set_title('Clean')"
   ]
  },
  {
   "cell_type": "code",
   "execution_count": null,
   "metadata": {
    "collapsed": true
   },
   "outputs": [],
   "source": []
  },
  {
   "cell_type": "code",
   "execution_count": 54,
   "metadata": {
    "collapsed": false
   },
   "outputs": [
    {
     "data": {
      "text/html": [
       "<div>\n",
       "<style>\n",
       "    .dataframe thead tr:only-child th {\n",
       "        text-align: right;\n",
       "    }\n",
       "\n",
       "    .dataframe thead th {\n",
       "        text-align: left;\n",
       "    }\n",
       "\n",
       "    .dataframe tbody tr th {\n",
       "        vertical-align: top;\n",
       "    }\n",
       "</style>\n",
       "<table border=\"1\" class=\"dataframe\">\n",
       "  <thead>\n",
       "    <tr style=\"text-align: right;\">\n",
       "      <th></th>\n",
       "      <th>ImageId</th>\n",
       "      <th>EncodedPixels</th>\n",
       "    </tr>\n",
       "  </thead>\n",
       "  <tbody>\n",
       "    <tr>\n",
       "      <th>353</th>\n",
       "      <td>03b9306f44e9b8951461623dcbd615550cdcf36ea93b20...</td>\n",
       "      <td>[106895, 2, 107242, 22, 107600, 26, 107957, 35...</td>\n",
       "    </tr>\n",
       "    <tr>\n",
       "      <th>21460</th>\n",
       "      <td>b3b1626f8ad156acb2963d1faa6a368f9378a266c3b90d...</td>\n",
       "      <td>[92249, 12, 92607, 18, 92962, 24, 93321, 31, 9...</td>\n",
       "    </tr>\n",
       "    <tr>\n",
       "      <th>5446</th>\n",
       "      <td>2b50b1e3fa5c5aa39bc84ebfaea9961b7199c4d2488ae0...</td>\n",
       "      <td>[1843, 6, 2097, 10, 2352, 12, 2607, 14, 2862, ...</td>\n",
       "    </tr>\n",
       "  </tbody>\n",
       "</table>\n",
       "</div>"
      ],
      "text/plain": [
       "                                                 ImageId  \\\n",
       "353    03b9306f44e9b8951461623dcbd615550cdcf36ea93b20...   \n",
       "21460  b3b1626f8ad156acb2963d1faa6a368f9378a266c3b90d...   \n",
       "5446   2b50b1e3fa5c5aa39bc84ebfaea9961b7199c4d2488ae0...   \n",
       "\n",
       "                                           EncodedPixels  \n",
       "353    [106895, 2, 107242, 22, 107600, 26, 107957, 35...  \n",
       "21460  [92249, 12, 92607, 18, 92962, 24, 93321, 31, 9...  \n",
       "5446   [1843, 6, 2097, 10, 2352, 12, 2607, 14, 2862, ...  "
      ]
     },
     "execution_count": 54,
     "metadata": {},
     "output_type": "execute_result"
    }
   ],
   "source": [
    "train_labels = pd.read_csv('data/train_stage1_labels/stage1_train_labels.csv')\n",
    "train_labels['EncodedPixels'] = train_labels['EncodedPixels'].map(lambda ep: [int(x) for x in ep.split(' ')])\n",
    "train_labels.sample(3)"
   ]
  },
  {
   "cell_type": "code",
   "execution_count": null,
   "metadata": {
    "collapsed": true
   },
   "outputs": [],
   "source": []
  },
  {
   "cell_type": "code",
   "execution_count": 150,
   "metadata": {
    "collapsed": true
   },
   "outputs": [],
   "source": [
    "from skimage.morphology import label # label regions\n",
    "def rle_encoding(x):\n",
    "    '''\n",
    "    x: numpy array of shape (height, width), 1 - mask, 0 - background\n",
    "    Returns run length as list\n",
    "    '''\n",
    "    dots = np.where(x.T.flatten()==1)[0] # .T sets Fortran order down-then-right\n",
    "    run_lengths = []\n",
    "    prev = -2\n",
    "    for b in dots:\n",
    "        if (b>prev+1): run_lengths.extend((b+1, 0))\n",
    "        run_lengths[-1] += 1\n",
    "        prev = b\n",
    "    return run_lengths\n",
    "\n",
    "def prob_to_rles(x, cut_off = 0.5):\n",
    "    lab_img = label(x>cut_off)\n",
    "    if lab_img.max()<1:\n",
    "        lab_img[0,0] = 1 # ensure at least one prediction per image\n",
    "    for i in range(1, lab_img.max()+1):\n",
    "        yield rle_encoding(lab_img==i)"
   ]
  },
  {
   "cell_type": "code",
   "execution_count": null,
   "metadata": {
    "collapsed": true
   },
   "outputs": [],
   "source": []
  },
  {
   "cell_type": "code",
   "execution_count": 151,
   "metadata": {
    "collapsed": true
   },
   "outputs": [],
   "source": [
    "_, train_rle_row = next(train_img_df.tail(5).iterrows()) \n",
    "train_row_rles = list(prob_to_rles(train_rle_row['masks']))"
   ]
  },
  {
   "cell_type": "code",
   "execution_count": 152,
   "metadata": {
    "collapsed": false
   },
   "outputs": [],
   "source": [
    "tl_rles = train_labels.query('ImageId==\"{Image_ID}\"'.format(**train_rle_row))['EncodedPixels']"
   ]
  },
  {
   "cell_type": "code",
   "execution_count": 153,
   "metadata": {
    "collapsed": false
   },
   "outputs": [
    {
     "name": "stdout",
     "output_type": "stream",
     "text": [
      "Matches: 124, Mismatches: 214, Accuracy: 36.7%\n"
     ]
    }
   ],
   "source": [
    "match, mismatch = 0, 0\n",
    "for img_rle, train_rle in zip(sorted(train_row_rles, key = lambda x: x[0]), \n",
    "                             sorted(tl_rles, key = lambda x: x[0])):\n",
    "    for i_x, i_y in zip(img_rle, train_rle):\n",
    "        if i_x == i_y:\n",
    "            match += 1\n",
    "        else:\n",
    "            mismatch += 1\n",
    "print('Matches: %d, Mismatches: %d, Accuracy: %2.1f%%' % (match, mismatch, 100.0*match/(match+mismatch)))"
   ]
  },
  {
   "cell_type": "code",
   "execution_count": null,
   "metadata": {
    "collapsed": true
   },
   "outputs": [],
   "source": []
  },
  {
   "cell_type": "code",
   "execution_count": 154,
   "metadata": {
    "collapsed": true
   },
   "outputs": [],
   "source": [
    "test_img_df['rles'] = test_img_df['masks'].map(clean_img).map(lambda x: list(prob_to_rles(x)))"
   ]
  },
  {
   "cell_type": "code",
   "execution_count": null,
   "metadata": {
    "collapsed": true
   },
   "outputs": [],
   "source": []
  },
  {
   "cell_type": "code",
   "execution_count": 155,
   "metadata": {
    "collapsed": false
   },
   "outputs": [
    {
     "name": "stdout",
     "output_type": "stream",
     "text": [
      "2780 regions found for 65 images\n"
     ]
    },
    {
     "data": {
      "text/html": [
       "<div>\n",
       "<style>\n",
       "    .dataframe thead tr:only-child th {\n",
       "        text-align: right;\n",
       "    }\n",
       "\n",
       "    .dataframe thead th {\n",
       "        text-align: left;\n",
       "    }\n",
       "\n",
       "    .dataframe tbody tr th {\n",
       "        vertical-align: top;\n",
       "    }\n",
       "</style>\n",
       "<table border=\"1\" class=\"dataframe\">\n",
       "  <thead>\n",
       "    <tr style=\"text-align: right;\">\n",
       "      <th></th>\n",
       "      <th>EncodedPixels</th>\n",
       "      <th>ImageId</th>\n",
       "    </tr>\n",
       "  </thead>\n",
       "  <tbody>\n",
       "    <tr>\n",
       "      <th>527</th>\n",
       "      <td>340262 2 340772 6 341283 8 341795 8 342306 10 ...</td>\n",
       "      <td>259b35151d4a7a5ffdd7ab7f171b142db8cfe40beeee67...</td>\n",
       "    </tr>\n",
       "    <tr>\n",
       "      <th>1350</th>\n",
       "      <td>20124 10 20642 14 21161 16 21680 18 22199 20 2...</td>\n",
       "      <td>550450e4bff4036fd671decdc5d42fec23578198d6a2fd...</td>\n",
       "    </tr>\n",
       "    <tr>\n",
       "      <th>1702</th>\n",
       "      <td>35450 3 35704 7 35958 11 36213 14 36469 15 367...</td>\n",
       "      <td>7f4cbe0b36b5d09466476a7d4e01f4f976c67872d549f4...</td>\n",
       "    </tr>\n",
       "  </tbody>\n",
       "</table>\n",
       "</div>"
      ],
      "text/plain": [
       "                                          EncodedPixels  \\\n",
       "527   340262 2 340772 6 341283 8 341795 8 342306 10 ...   \n",
       "1350  20124 10 20642 14 21161 16 21680 18 22199 20 2...   \n",
       "1702  35450 3 35704 7 35958 11 36213 14 36469 15 367...   \n",
       "\n",
       "                                                ImageId  \n",
       "527   259b35151d4a7a5ffdd7ab7f171b142db8cfe40beeee67...  \n",
       "1350  550450e4bff4036fd671decdc5d42fec23578198d6a2fd...  \n",
       "1702  7f4cbe0b36b5d09466476a7d4e01f4f976c67872d549f4...  "
      ]
     },
     "execution_count": 155,
     "metadata": {},
     "output_type": "execute_result"
    }
   ],
   "source": [
    "out_pred_list = []\n",
    "for _, c_row in test_img_df.iterrows():\n",
    "    for c_rle in c_row['rles']:\n",
    "        out_pred_list+=[dict(ImageId=c_row['Image_ID'], \n",
    "                             EncodedPixels = ' '.join(np.array(c_rle).astype(str)))]\n",
    "out_pred_df = pd.DataFrame(out_pred_list)\n",
    "print(out_pred_df.shape[0], 'regions found for', test_img_df.shape[0], 'images')\n",
    "out_pred_df.sample(3)"
   ]
  },
  {
   "cell_type": "code",
   "execution_count": 156,
   "metadata": {
    "collapsed": false
   },
   "outputs": [
    {
     "data": {
      "text/html": [
       "<div>\n",
       "<style>\n",
       "    .dataframe thead tr:only-child th {\n",
       "        text-align: right;\n",
       "    }\n",
       "\n",
       "    .dataframe thead th {\n",
       "        text-align: left;\n",
       "    }\n",
       "\n",
       "    .dataframe tbody tr th {\n",
       "        vertical-align: top;\n",
       "    }\n",
       "</style>\n",
       "<table border=\"1\" class=\"dataframe\">\n",
       "  <thead>\n",
       "    <tr style=\"text-align: right;\">\n",
       "      <th></th>\n",
       "      <th>EncodedPixels</th>\n",
       "      <th>ImageId</th>\n",
       "    </tr>\n",
       "  </thead>\n",
       "  <tbody>\n",
       "    <tr>\n",
       "      <th>0</th>\n",
       "      <td>45106 5 45360 9 45614 11 45870 12 46125 12 463...</td>\n",
       "      <td>0114f484a16c152baa2d82fdd43740880a762c93f436c8...</td>\n",
       "    </tr>\n",
       "  </tbody>\n",
       "</table>\n",
       "</div>"
      ],
      "text/plain": [
       "                                       EncodedPixels  \\\n",
       "0  45106 5 45360 9 45614 11 45870 12 46125 12 463...   \n",
       "\n",
       "                                             ImageId  \n",
       "0  0114f484a16c152baa2d82fdd43740880a762c93f436c8...  "
      ]
     },
     "execution_count": 156,
     "metadata": {},
     "output_type": "execute_result"
    }
   ],
   "source": [
    "out_pred_df.head(1)"
   ]
  },
  {
   "cell_type": "code",
   "execution_count": 157,
   "metadata": {
    "collapsed": false
   },
   "outputs": [
    {
     "data": {
      "text/html": [
       "<div>\n",
       "<style>\n",
       "    .dataframe thead tr:only-child th {\n",
       "        text-align: right;\n",
       "    }\n",
       "\n",
       "    .dataframe thead th {\n",
       "        text-align: left;\n",
       "    }\n",
       "\n",
       "    .dataframe tbody tr th {\n",
       "        vertical-align: top;\n",
       "    }\n",
       "</style>\n",
       "<table border=\"1\" class=\"dataframe\">\n",
       "  <thead>\n",
       "    <tr style=\"text-align: right;\">\n",
       "      <th></th>\n",
       "      <th>ImageId</th>\n",
       "      <th>EncodedPixels</th>\n",
       "    </tr>\n",
       "  </thead>\n",
       "  <tbody>\n",
       "    <tr>\n",
       "      <th>0</th>\n",
       "      <td>0114f484a16c152baa2d82fdd43740880a762c93f436c8...</td>\n",
       "      <td>45106 5 45360 9 45614 11 45870 12 46125 12 463...</td>\n",
       "    </tr>\n",
       "  </tbody>\n",
       "</table>\n",
       "</div>"
      ],
      "text/plain": [
       "                                             ImageId  \\\n",
       "0  0114f484a16c152baa2d82fdd43740880a762c93f436c8...   \n",
       "\n",
       "                                       EncodedPixels  \n",
       "0  45106 5 45360 9 45614 11 45870 12 46125 12 463...  "
      ]
     },
     "execution_count": 157,
     "metadata": {},
     "output_type": "execute_result"
    }
   ],
   "source": [
    "out_pred_df[['ImageId', 'EncodedPixels']].head(1)"
   ]
  },
  {
   "cell_type": "code",
   "execution_count": 158,
   "metadata": {
    "collapsed": true
   },
   "outputs": [],
   "source": [
    "out_pred_df[['ImageId', 'EncodedPixels']].to_csv('predictions.csv', index = False)"
   ]
  }
 ],
 "metadata": {
  "anaconda-cloud": {},
  "kernelspec": {
   "display_name": "Python [conda root]",
   "language": "python",
   "name": "conda-root-py"
  },
  "language_info": {
   "codemirror_mode": {
    "name": "ipython",
    "version": 3
   },
   "file_extension": ".py",
   "mimetype": "text/x-python",
   "name": "python",
   "nbconvert_exporter": "python",
   "pygments_lexer": "ipython3",
   "version": "3.5.4"
  }
 },
 "nbformat": 4,
 "nbformat_minor": 1
}
