{
 "cells": [
  {
   "cell_type": "markdown",
   "metadata": {},
   "source": [
    "https://www.kaggle.com/kmader/nuclei-overview-to-submission/notebook"
   ]
  },
  {
   "cell_type": "code",
   "execution_count": 1,
   "metadata": {
    "collapsed": true
   },
   "outputs": [],
   "source": [
    "import os\n",
    "import numpy as np\n",
    "import pandas as pd\n",
    "from glob import glob\n",
    "from skimage.io import imread, imshow\n",
    "import matplotlib.pyplot as plt\n",
    "%matplotlib inline"
   ]
  },
  {
   "cell_type": "code",
   "execution_count": 2,
   "metadata": {
    "collapsed": false
   },
   "outputs": [],
   "source": [
    "images_path = glob(os.path.join('data', '*_stage1', '*', '*', '*'))"
   ]
  },
  {
   "cell_type": "code",
   "execution_count": 3,
   "metadata": {
    "collapsed": false
   },
   "outputs": [
    {
     "data": {
      "text/plain": [
       "30196"
      ]
     },
     "execution_count": 3,
     "metadata": {},
     "output_type": "execute_result"
    }
   ],
   "source": [
    "len(images_path)"
   ]
  },
  {
   "cell_type": "code",
   "execution_count": 4,
   "metadata": {
    "collapsed": false
   },
   "outputs": [],
   "source": [
    "path_df = pd.DataFrame(index=images_path)"
   ]
  },
  {
   "cell_type": "code",
   "execution_count": 5,
   "metadata": {
    "collapsed": true
   },
   "outputs": [],
   "source": [
    "img_type = lambda path: path.split('/')[-2]\n",
    "img_id = lambda path: path.split('/')[-3]\n",
    "img_group = lambda path: path.split('/')[-4].split('_')[0]\n",
    "img_stage =lambda path: path.split('/')[-4].split('_')[1]"
   ]
  },
  {
   "cell_type": "code",
   "execution_count": 6,
   "metadata": {
    "collapsed": false,
    "scrolled": true
   },
   "outputs": [],
   "source": [
    "path_df['Image_ID'] = path_df.index.map(img_id)\n",
    "path_df['Image_GROUP'] = path_df.index.map(img_group)\n",
    "path_df['Image_TYPE'] = path_df.index.map(img_type)\n",
    "path_df['Image_STAGE'] = path_df.index.map(img_stage)"
   ]
  },
  {
   "cell_type": "code",
   "execution_count": 7,
   "metadata": {
    "collapsed": false,
    "scrolled": true
   },
   "outputs": [
    {
     "data": {
      "text/html": [
       "<div>\n",
       "<style>\n",
       "    .dataframe thead tr:only-child th {\n",
       "        text-align: right;\n",
       "    }\n",
       "\n",
       "    .dataframe thead th {\n",
       "        text-align: left;\n",
       "    }\n",
       "\n",
       "    .dataframe tbody tr th {\n",
       "        vertical-align: top;\n",
       "    }\n",
       "</style>\n",
       "<table border=\"1\" class=\"dataframe\">\n",
       "  <thead>\n",
       "    <tr style=\"text-align: right;\">\n",
       "      <th></th>\n",
       "      <th>Image_ID</th>\n",
       "      <th>Image_GROUP</th>\n",
       "      <th>Image_TYPE</th>\n",
       "      <th>Image_STAGE</th>\n",
       "    </tr>\n",
       "  </thead>\n",
       "  <tbody>\n",
       "    <tr>\n",
       "      <th>data/train_stage1/a9d884ba0929dac87c2052ce5b15034163685317d7cff45c40b0f7bd9bd4d9e7/masks/235e0f8b86d5c55c4a06824609a73529f635c35662e923125afa6547bb3e94fc.png</th>\n",
       "      <td>a9d884ba0929dac87c2052ce5b15034163685317d7cff4...</td>\n",
       "      <td>train</td>\n",
       "      <td>masks</td>\n",
       "      <td>stage1</td>\n",
       "    </tr>\n",
       "    <tr>\n",
       "      <th>data/train_stage1/a9d884ba0929dac87c2052ce5b15034163685317d7cff45c40b0f7bd9bd4d9e7/masks/f7bcd4e0827008b727de64a8cb8b711c05a60d70ea5ec502750889a4c16ff649.png</th>\n",
       "      <td>a9d884ba0929dac87c2052ce5b15034163685317d7cff4...</td>\n",
       "      <td>train</td>\n",
       "      <td>masks</td>\n",
       "      <td>stage1</td>\n",
       "    </tr>\n",
       "    <tr>\n",
       "      <th>data/train_stage1/a9d884ba0929dac87c2052ce5b15034163685317d7cff45c40b0f7bd9bd4d9e7/masks/11ac8eace5d73fc8054822b46db13e09813527faa13ced27b34438a71ae283fe.png</th>\n",
       "      <td>a9d884ba0929dac87c2052ce5b15034163685317d7cff4...</td>\n",
       "      <td>train</td>\n",
       "      <td>masks</td>\n",
       "      <td>stage1</td>\n",
       "    </tr>\n",
       "    <tr>\n",
       "      <th>data/train_stage1/a9d884ba0929dac87c2052ce5b15034163685317d7cff45c40b0f7bd9bd4d9e7/masks/284555ce90e1a496fa3614caebd5c950e8958bcb6fcba15a3c3348adf6f95a45.png</th>\n",
       "      <td>a9d884ba0929dac87c2052ce5b15034163685317d7cff4...</td>\n",
       "      <td>train</td>\n",
       "      <td>masks</td>\n",
       "      <td>stage1</td>\n",
       "    </tr>\n",
       "    <tr>\n",
       "      <th>data/train_stage1/a9d884ba0929dac87c2052ce5b15034163685317d7cff45c40b0f7bd9bd4d9e7/masks/f3aa2fb4bbf59cadb44b80816e27829d53a42a3070b25344b940d74c7f904081.png</th>\n",
       "      <td>a9d884ba0929dac87c2052ce5b15034163685317d7cff4...</td>\n",
       "      <td>train</td>\n",
       "      <td>masks</td>\n",
       "      <td>stage1</td>\n",
       "    </tr>\n",
       "    <tr>\n",
       "      <th>data/train_stage1/a9d884ba0929dac87c2052ce5b15034163685317d7cff45c40b0f7bd9bd4d9e7/masks/5f1bd00c720d8c1773b22b93cc00f4ed513feee75bba24a8817a2428dcfb55dd.png</th>\n",
       "      <td>a9d884ba0929dac87c2052ce5b15034163685317d7cff4...</td>\n",
       "      <td>train</td>\n",
       "      <td>masks</td>\n",
       "      <td>stage1</td>\n",
       "    </tr>\n",
       "    <tr>\n",
       "      <th>data/train_stage1/a9d884ba0929dac87c2052ce5b15034163685317d7cff45c40b0f7bd9bd4d9e7/masks/b98634d74b798c2d99185e58368a82bb5fcd7baeb852087c8c453ba255e2a20d.png</th>\n",
       "      <td>a9d884ba0929dac87c2052ce5b15034163685317d7cff4...</td>\n",
       "      <td>train</td>\n",
       "      <td>masks</td>\n",
       "      <td>stage1</td>\n",
       "    </tr>\n",
       "    <tr>\n",
       "      <th>data/train_stage1/a9d884ba0929dac87c2052ce5b15034163685317d7cff45c40b0f7bd9bd4d9e7/masks/22a1c122c8ea0553beabb73b921789a69118e1eec84f1c5b3b9fad552dd6017f.png</th>\n",
       "      <td>a9d884ba0929dac87c2052ce5b15034163685317d7cff4...</td>\n",
       "      <td>train</td>\n",
       "      <td>masks</td>\n",
       "      <td>stage1</td>\n",
       "    </tr>\n",
       "    <tr>\n",
       "      <th>data/train_stage1/a9d884ba0929dac87c2052ce5b15034163685317d7cff45c40b0f7bd9bd4d9e7/masks/bef550f42196acf68cb0ab311dfb54f0cfc09865cef80b359d99feea18f80286.png</th>\n",
       "      <td>a9d884ba0929dac87c2052ce5b15034163685317d7cff4...</td>\n",
       "      <td>train</td>\n",
       "      <td>masks</td>\n",
       "      <td>stage1</td>\n",
       "    </tr>\n",
       "    <tr>\n",
       "      <th>data/train_stage1/a9d884ba0929dac87c2052ce5b15034163685317d7cff45c40b0f7bd9bd4d9e7/masks/d84c6363677444fe89acc77faac165e5e0e9c9dd3e35b894a5db1cba8f410dbe.png</th>\n",
       "      <td>a9d884ba0929dac87c2052ce5b15034163685317d7cff4...</td>\n",
       "      <td>train</td>\n",
       "      <td>masks</td>\n",
       "      <td>stage1</td>\n",
       "    </tr>\n",
       "    <tr>\n",
       "      <th>data/train_stage1/a9d884ba0929dac87c2052ce5b15034163685317d7cff45c40b0f7bd9bd4d9e7/masks/776f59602dd974d69a7663dd2507c3212c36ec4d2fde78634dbe938ab74531d8.png</th>\n",
       "      <td>a9d884ba0929dac87c2052ce5b15034163685317d7cff4...</td>\n",
       "      <td>train</td>\n",
       "      <td>masks</td>\n",
       "      <td>stage1</td>\n",
       "    </tr>\n",
       "    <tr>\n",
       "      <th>data/train_stage1/a9d884ba0929dac87c2052ce5b15034163685317d7cff45c40b0f7bd9bd4d9e7/masks/920af09c987b44561da7e328dc940d195efec51cb27562ebeeb8b622d1a478e4.png</th>\n",
       "      <td>a9d884ba0929dac87c2052ce5b15034163685317d7cff4...</td>\n",
       "      <td>train</td>\n",
       "      <td>masks</td>\n",
       "      <td>stage1</td>\n",
       "    </tr>\n",
       "    <tr>\n",
       "      <th>data/train_stage1/a9d884ba0929dac87c2052ce5b15034163685317d7cff45c40b0f7bd9bd4d9e7/masks/7f8612eb2273ea6882aba3eb637865a669aafa4d8cb00a73419b908a18ea1f5c.png</th>\n",
       "      <td>a9d884ba0929dac87c2052ce5b15034163685317d7cff4...</td>\n",
       "      <td>train</td>\n",
       "      <td>masks</td>\n",
       "      <td>stage1</td>\n",
       "    </tr>\n",
       "    <tr>\n",
       "      <th>data/train_stage1/a9d884ba0929dac87c2052ce5b15034163685317d7cff45c40b0f7bd9bd4d9e7/masks/c05543025a2d5eb54696582a2450f5aee12f81996cf7e8350159535370497a8e.png</th>\n",
       "      <td>a9d884ba0929dac87c2052ce5b15034163685317d7cff4...</td>\n",
       "      <td>train</td>\n",
       "      <td>masks</td>\n",
       "      <td>stage1</td>\n",
       "    </tr>\n",
       "    <tr>\n",
       "      <th>data/train_stage1/a9d884ba0929dac87c2052ce5b15034163685317d7cff45c40b0f7bd9bd4d9e7/masks/a55a5cc0a6086f2d3d6f399b9afbf314007b485db08ad9887e25b100c7bbdad5.png</th>\n",
       "      <td>a9d884ba0929dac87c2052ce5b15034163685317d7cff4...</td>\n",
       "      <td>train</td>\n",
       "      <td>masks</td>\n",
       "      <td>stage1</td>\n",
       "    </tr>\n",
       "    <tr>\n",
       "      <th>data/train_stage1/a9d884ba0929dac87c2052ce5b15034163685317d7cff45c40b0f7bd9bd4d9e7/masks/864cd09b868b48d028ed4a09a0b95d0180c94a6f58197597948e029d423c4f8c.png</th>\n",
       "      <td>a9d884ba0929dac87c2052ce5b15034163685317d7cff4...</td>\n",
       "      <td>train</td>\n",
       "      <td>masks</td>\n",
       "      <td>stage1</td>\n",
       "    </tr>\n",
       "    <tr>\n",
       "      <th>data/train_stage1/a9d884ba0929dac87c2052ce5b15034163685317d7cff45c40b0f7bd9bd4d9e7/masks/52d06e62eac8c77e8596030a28855f57daf2bbb67bd84268542583141d29179f.png</th>\n",
       "      <td>a9d884ba0929dac87c2052ce5b15034163685317d7cff4...</td>\n",
       "      <td>train</td>\n",
       "      <td>masks</td>\n",
       "      <td>stage1</td>\n",
       "    </tr>\n",
       "    <tr>\n",
       "      <th>data/train_stage1/a9d884ba0929dac87c2052ce5b15034163685317d7cff45c40b0f7bd9bd4d9e7/masks/620ac05ee7d4a848db44312c7d82d9ad4af43802fc76e9db857d882c8d104480.png</th>\n",
       "      <td>a9d884ba0929dac87c2052ce5b15034163685317d7cff4...</td>\n",
       "      <td>train</td>\n",
       "      <td>masks</td>\n",
       "      <td>stage1</td>\n",
       "    </tr>\n",
       "    <tr>\n",
       "      <th>data/train_stage1/a9d884ba0929dac87c2052ce5b15034163685317d7cff45c40b0f7bd9bd4d9e7/masks/275edf884b96aff1a56687f840c18541e2f48420aaede5ce9f97e01250ad6a6b.png</th>\n",
       "      <td>a9d884ba0929dac87c2052ce5b15034163685317d7cff4...</td>\n",
       "      <td>train</td>\n",
       "      <td>masks</td>\n",
       "      <td>stage1</td>\n",
       "    </tr>\n",
       "    <tr>\n",
       "      <th>data/train_stage1/a9d884ba0929dac87c2052ce5b15034163685317d7cff45c40b0f7bd9bd4d9e7/masks/9c2baa8fb647e3782bf948ab122a3d73e5e8119b0a650278e34688e77c91cbdb.png</th>\n",
       "      <td>a9d884ba0929dac87c2052ce5b15034163685317d7cff4...</td>\n",
       "      <td>train</td>\n",
       "      <td>masks</td>\n",
       "      <td>stage1</td>\n",
       "    </tr>\n",
       "    <tr>\n",
       "      <th>data/train_stage1/a9d884ba0929dac87c2052ce5b15034163685317d7cff45c40b0f7bd9bd4d9e7/masks/2b9c0491db537ee8209439cf904f71d1048b9471484333da2c2bcb8d8e017e4e.png</th>\n",
       "      <td>a9d884ba0929dac87c2052ce5b15034163685317d7cff4...</td>\n",
       "      <td>train</td>\n",
       "      <td>masks</td>\n",
       "      <td>stage1</td>\n",
       "    </tr>\n",
       "    <tr>\n",
       "      <th>data/train_stage1/a9d884ba0929dac87c2052ce5b15034163685317d7cff45c40b0f7bd9bd4d9e7/masks/0302afb400555c1b5bd7a2bc8e2d32dad0ce99102d561f62a037316e522fa35c.png</th>\n",
       "      <td>a9d884ba0929dac87c2052ce5b15034163685317d7cff4...</td>\n",
       "      <td>train</td>\n",
       "      <td>masks</td>\n",
       "      <td>stage1</td>\n",
       "    </tr>\n",
       "    <tr>\n",
       "      <th>data/train_stage1/a9d884ba0929dac87c2052ce5b15034163685317d7cff45c40b0f7bd9bd4d9e7/masks/7ff092503901c61854072463f5fb68c545ecbcf6b7b42617b1e3f2796c611f32.png</th>\n",
       "      <td>a9d884ba0929dac87c2052ce5b15034163685317d7cff4...</td>\n",
       "      <td>train</td>\n",
       "      <td>masks</td>\n",
       "      <td>stage1</td>\n",
       "    </tr>\n",
       "    <tr>\n",
       "      <th>data/train_stage1/a9d884ba0929dac87c2052ce5b15034163685317d7cff45c40b0f7bd9bd4d9e7/masks/03e8e457ccdde80cb0d3db0ab785460434b3f13f91d6e2e46313ace398cd155f.png</th>\n",
       "      <td>a9d884ba0929dac87c2052ce5b15034163685317d7cff4...</td>\n",
       "      <td>train</td>\n",
       "      <td>masks</td>\n",
       "      <td>stage1</td>\n",
       "    </tr>\n",
       "    <tr>\n",
       "      <th>data/train_stage1/a9d884ba0929dac87c2052ce5b15034163685317d7cff45c40b0f7bd9bd4d9e7/masks/5fd17c78063e911a26506f0232f11dcfea31355d077ea34d51750a797cb543c2.png</th>\n",
       "      <td>a9d884ba0929dac87c2052ce5b15034163685317d7cff4...</td>\n",
       "      <td>train</td>\n",
       "      <td>masks</td>\n",
       "      <td>stage1</td>\n",
       "    </tr>\n",
       "    <tr>\n",
       "      <th>data/train_stage1/a9d884ba0929dac87c2052ce5b15034163685317d7cff45c40b0f7bd9bd4d9e7/masks/83d5db5353c519e1821e46457fd2573e6496cde1182d955b53bd4ee9b2dbc794.png</th>\n",
       "      <td>a9d884ba0929dac87c2052ce5b15034163685317d7cff4...</td>\n",
       "      <td>train</td>\n",
       "      <td>masks</td>\n",
       "      <td>stage1</td>\n",
       "    </tr>\n",
       "    <tr>\n",
       "      <th>data/train_stage1/a9d884ba0929dac87c2052ce5b15034163685317d7cff45c40b0f7bd9bd4d9e7/masks/486fd83f5b181df58cdc245bf4e47207d066e09c16ed873835240b1235c67740.png</th>\n",
       "      <td>a9d884ba0929dac87c2052ce5b15034163685317d7cff4...</td>\n",
       "      <td>train</td>\n",
       "      <td>masks</td>\n",
       "      <td>stage1</td>\n",
       "    </tr>\n",
       "    <tr>\n",
       "      <th>data/train_stage1/a9d884ba0929dac87c2052ce5b15034163685317d7cff45c40b0f7bd9bd4d9e7/masks/d3a6d57730cdf8453809fac77d24f284d1f30908e70e67e2651ddd53b2d7c9bd.png</th>\n",
       "      <td>a9d884ba0929dac87c2052ce5b15034163685317d7cff4...</td>\n",
       "      <td>train</td>\n",
       "      <td>masks</td>\n",
       "      <td>stage1</td>\n",
       "    </tr>\n",
       "    <tr>\n",
       "      <th>data/train_stage1/a9d884ba0929dac87c2052ce5b15034163685317d7cff45c40b0f7bd9bd4d9e7/masks/b0832b2e0c4933f7d019d638ace7afdc9bf5332c9177008017a28a7092921d75.png</th>\n",
       "      <td>a9d884ba0929dac87c2052ce5b15034163685317d7cff4...</td>\n",
       "      <td>train</td>\n",
       "      <td>masks</td>\n",
       "      <td>stage1</td>\n",
       "    </tr>\n",
       "    <tr>\n",
       "      <th>data/train_stage1/a9d884ba0929dac87c2052ce5b15034163685317d7cff45c40b0f7bd9bd4d9e7/masks/ce84d60fdbecbb9cda9bc517beebc1085805de04af6ac1c4f01c490496c39685.png</th>\n",
       "      <td>a9d884ba0929dac87c2052ce5b15034163685317d7cff4...</td>\n",
       "      <td>train</td>\n",
       "      <td>masks</td>\n",
       "      <td>stage1</td>\n",
       "    </tr>\n",
       "    <tr>\n",
       "      <th>...</th>\n",
       "      <td>...</td>\n",
       "      <td>...</td>\n",
       "      <td>...</td>\n",
       "      <td>...</td>\n",
       "    </tr>\n",
       "    <tr>\n",
       "      <th>data/test_stage1/550450e4bff4036fd671decdc5d42fec23578198d6a2fd79179c4368b9d6da18/images/550450e4bff4036fd671decdc5d42fec23578198d6a2fd79179c4368b9d6da18.png</th>\n",
       "      <td>550450e4bff4036fd671decdc5d42fec23578198d6a2fd...</td>\n",
       "      <td>test</td>\n",
       "      <td>images</td>\n",
       "      <td>stage1</td>\n",
       "    </tr>\n",
       "    <tr>\n",
       "      <th>data/test_stage1/51c70bb8a299943b27f8b354571272692d8f2705036a1a9562156c76da5f025b/images/51c70bb8a299943b27f8b354571272692d8f2705036a1a9562156c76da5f025b.png</th>\n",
       "      <td>51c70bb8a299943b27f8b354571272692d8f2705036a1a...</td>\n",
       "      <td>test</td>\n",
       "      <td>images</td>\n",
       "      <td>stage1</td>\n",
       "    </tr>\n",
       "    <tr>\n",
       "      <th>data/test_stage1/0114f484a16c152baa2d82fdd43740880a762c93f436c8988ac461c5c9dbe7d5/images/0114f484a16c152baa2d82fdd43740880a762c93f436c8988ac461c5c9dbe7d5.png</th>\n",
       "      <td>0114f484a16c152baa2d82fdd43740880a762c93f436c8...</td>\n",
       "      <td>test</td>\n",
       "      <td>images</td>\n",
       "      <td>stage1</td>\n",
       "    </tr>\n",
       "    <tr>\n",
       "      <th>data/test_stage1/0999dab07b11bc85fb8464fc36c947fbd8b5d6ec49817361cb780659ca805eac/images/0999dab07b11bc85fb8464fc36c947fbd8b5d6ec49817361cb780659ca805eac.png</th>\n",
       "      <td>0999dab07b11bc85fb8464fc36c947fbd8b5d6ec498173...</td>\n",
       "      <td>test</td>\n",
       "      <td>images</td>\n",
       "      <td>stage1</td>\n",
       "    </tr>\n",
       "    <tr>\n",
       "      <th>data/test_stage1/ade080c6618cbbb0a25680cf847f312b5e19b22bfe1cafec0436987ebe5b1e7e/images/ade080c6618cbbb0a25680cf847f312b5e19b22bfe1cafec0436987ebe5b1e7e.png</th>\n",
       "      <td>ade080c6618cbbb0a25680cf847f312b5e19b22bfe1caf...</td>\n",
       "      <td>test</td>\n",
       "      <td>images</td>\n",
       "      <td>stage1</td>\n",
       "    </tr>\n",
       "    <tr>\n",
       "      <th>data/test_stage1/0a849e0eb15faa8a6d7329c3dd66aabe9a294cccb52ed30a90c8ca99092ae732/images/0a849e0eb15faa8a6d7329c3dd66aabe9a294cccb52ed30a90c8ca99092ae732.png</th>\n",
       "      <td>0a849e0eb15faa8a6d7329c3dd66aabe9a294cccb52ed3...</td>\n",
       "      <td>test</td>\n",
       "      <td>images</td>\n",
       "      <td>stage1</td>\n",
       "    </tr>\n",
       "    <tr>\n",
       "      <th>data/test_stage1/bdc789019cee8ddfae20d5f769299993b4b330b2d38d1218646cf89e77fbbd4d/images/bdc789019cee8ddfae20d5f769299993b4b330b2d38d1218646cf89e77fbbd4d.png</th>\n",
       "      <td>bdc789019cee8ddfae20d5f769299993b4b330b2d38d12...</td>\n",
       "      <td>test</td>\n",
       "      <td>images</td>\n",
       "      <td>stage1</td>\n",
       "    </tr>\n",
       "    <tr>\n",
       "      <th>data/test_stage1/52b267e20519174e3ce1e1994b5d677804b16bc670aa5f6ffb6344a0fdf63fde/images/52b267e20519174e3ce1e1994b5d677804b16bc670aa5f6ffb6344a0fdf63fde.png</th>\n",
       "      <td>52b267e20519174e3ce1e1994b5d677804b16bc670aa5f...</td>\n",
       "      <td>test</td>\n",
       "      <td>images</td>\n",
       "      <td>stage1</td>\n",
       "    </tr>\n",
       "    <tr>\n",
       "      <th>data/test_stage1/9ab2d381f90b485a68b82bc07f94397a0373e3215ad20935a958738e55f3cfc2/images/9ab2d381f90b485a68b82bc07f94397a0373e3215ad20935a958738e55f3cfc2.png</th>\n",
       "      <td>9ab2d381f90b485a68b82bc07f94397a0373e3215ad209...</td>\n",
       "      <td>test</td>\n",
       "      <td>images</td>\n",
       "      <td>stage1</td>\n",
       "    </tr>\n",
       "    <tr>\n",
       "      <th>data/test_stage1/4be73d68f433869188fe5e7f09c7f681ed51003da6aa5d19ce368726d8e271ee/images/4be73d68f433869188fe5e7f09c7f681ed51003da6aa5d19ce368726d8e271ee.png</th>\n",
       "      <td>4be73d68f433869188fe5e7f09c7f681ed51003da6aa5d...</td>\n",
       "      <td>test</td>\n",
       "      <td>images</td>\n",
       "      <td>stage1</td>\n",
       "    </tr>\n",
       "    <tr>\n",
       "      <th>data/test_stage1/1cdbfee1951356e7b0a215073828695fe1ead5f8b1add119b6645d2fdc8d844e/images/1cdbfee1951356e7b0a215073828695fe1ead5f8b1add119b6645d2fdc8d844e.png</th>\n",
       "      <td>1cdbfee1951356e7b0a215073828695fe1ead5f8b1add1...</td>\n",
       "      <td>test</td>\n",
       "      <td>images</td>\n",
       "      <td>stage1</td>\n",
       "    </tr>\n",
       "    <tr>\n",
       "      <th>data/test_stage1/336d3e4105766f8ad328a7ee9571e743f376f8cbcf6a969ca7e353fe3235c523/images/336d3e4105766f8ad328a7ee9571e743f376f8cbcf6a969ca7e353fe3235c523.png</th>\n",
       "      <td>336d3e4105766f8ad328a7ee9571e743f376f8cbcf6a96...</td>\n",
       "      <td>test</td>\n",
       "      <td>images</td>\n",
       "      <td>stage1</td>\n",
       "    </tr>\n",
       "    <tr>\n",
       "      <th>data/test_stage1/a984e7fb886aa02e29d112766d3ce26a4f78eac540ce7bbdbd42af2761928f6d/images/a984e7fb886aa02e29d112766d3ce26a4f78eac540ce7bbdbd42af2761928f6d.png</th>\n",
       "      <td>a984e7fb886aa02e29d112766d3ce26a4f78eac540ce7b...</td>\n",
       "      <td>test</td>\n",
       "      <td>images</td>\n",
       "      <td>stage1</td>\n",
       "    </tr>\n",
       "    <tr>\n",
       "      <th>data/test_stage1/295682d9eb5acb5c1976a460c085734bfaf38482b0a3f02591c2bfdcd4128549/images/295682d9eb5acb5c1976a460c085734bfaf38482b0a3f02591c2bfdcd4128549.png</th>\n",
       "      <td>295682d9eb5acb5c1976a460c085734bfaf38482b0a3f0...</td>\n",
       "      <td>test</td>\n",
       "      <td>images</td>\n",
       "      <td>stage1</td>\n",
       "    </tr>\n",
       "    <tr>\n",
       "      <th>data/test_stage1/0ed3555a4bd48046d3b63d8baf03a5aa97e523aa483aaa07459e7afa39fb96c6/images/0ed3555a4bd48046d3b63d8baf03a5aa97e523aa483aaa07459e7afa39fb96c6.png</th>\n",
       "      <td>0ed3555a4bd48046d3b63d8baf03a5aa97e523aa483aaa...</td>\n",
       "      <td>test</td>\n",
       "      <td>images</td>\n",
       "      <td>stage1</td>\n",
       "    </tr>\n",
       "    <tr>\n",
       "      <th>data/test_stage1/78a981bd27ba0c65a9169548665a17bda9f49050d0d3893a6567d1eb92cd003d/images/78a981bd27ba0c65a9169548665a17bda9f49050d0d3893a6567d1eb92cd003d.png</th>\n",
       "      <td>78a981bd27ba0c65a9169548665a17bda9f49050d0d389...</td>\n",
       "      <td>test</td>\n",
       "      <td>images</td>\n",
       "      <td>stage1</td>\n",
       "    </tr>\n",
       "    <tr>\n",
       "      <th>data/test_stage1/519dc0d672d1c295fc69b629af8721ccb1a1f136d1976685a68487e62547ffe0/images/519dc0d672d1c295fc69b629af8721ccb1a1f136d1976685a68487e62547ffe0.png</th>\n",
       "      <td>519dc0d672d1c295fc69b629af8721ccb1a1f136d19766...</td>\n",
       "      <td>test</td>\n",
       "      <td>images</td>\n",
       "      <td>stage1</td>\n",
       "    </tr>\n",
       "    <tr>\n",
       "      <th>data/test_stage1/d6eb7ce7723e2f6dc13b90b41a29ded27dbd815bad633fdf582447c686018896/images/d6eb7ce7723e2f6dc13b90b41a29ded27dbd815bad633fdf582447c686018896.png</th>\n",
       "      <td>d6eb7ce7723e2f6dc13b90b41a29ded27dbd815bad633f...</td>\n",
       "      <td>test</td>\n",
       "      <td>images</td>\n",
       "      <td>stage1</td>\n",
       "    </tr>\n",
       "    <tr>\n",
       "      <th>data/test_stage1/5cee644e5ffbef1ba021c7f389b33bafd3b1841f04d3edd7922d5084c2c4e0c7/images/5cee644e5ffbef1ba021c7f389b33bafd3b1841f04d3edd7922d5084c2c4e0c7.png</th>\n",
       "      <td>5cee644e5ffbef1ba021c7f389b33bafd3b1841f04d3ed...</td>\n",
       "      <td>test</td>\n",
       "      <td>images</td>\n",
       "      <td>stage1</td>\n",
       "    </tr>\n",
       "    <tr>\n",
       "      <th>data/test_stage1/697a05c6fe4a07c601d46da80885645ad574ea19b47ee795ccff216c9f1f1808/images/697a05c6fe4a07c601d46da80885645ad574ea19b47ee795ccff216c9f1f1808.png</th>\n",
       "      <td>697a05c6fe4a07c601d46da80885645ad574ea19b47ee7...</td>\n",
       "      <td>test</td>\n",
       "      <td>images</td>\n",
       "      <td>stage1</td>\n",
       "    </tr>\n",
       "    <tr>\n",
       "      <th>data/test_stage1/8b59819fbc92eefe45b1db95c0cc3a467ddcfc755684c7f2ba2f6ccb9ad740ab/images/8b59819fbc92eefe45b1db95c0cc3a467ddcfc755684c7f2ba2f6ccb9ad740ab.png</th>\n",
       "      <td>8b59819fbc92eefe45b1db95c0cc3a467ddcfc755684c7...</td>\n",
       "      <td>test</td>\n",
       "      <td>images</td>\n",
       "      <td>stage1</td>\n",
       "    </tr>\n",
       "    <tr>\n",
       "      <th>data/test_stage1/31f1fbe85b8899258ea5bcf5f93f7ac8238660c386aeab40649c715bd2e38a0a/images/31f1fbe85b8899258ea5bcf5f93f7ac8238660c386aeab40649c715bd2e38a0a.png</th>\n",
       "      <td>31f1fbe85b8899258ea5bcf5f93f7ac8238660c386aeab...</td>\n",
       "      <td>test</td>\n",
       "      <td>images</td>\n",
       "      <td>stage1</td>\n",
       "    </tr>\n",
       "    <tr>\n",
       "      <th>data/test_stage1/472b1c5ff988dadc209faea92499bc07f305208dbda29d16262b3d543ac91c71/images/472b1c5ff988dadc209faea92499bc07f305208dbda29d16262b3d543ac91c71.png</th>\n",
       "      <td>472b1c5ff988dadc209faea92499bc07f305208dbda29d...</td>\n",
       "      <td>test</td>\n",
       "      <td>images</td>\n",
       "      <td>stage1</td>\n",
       "    </tr>\n",
       "    <tr>\n",
       "      <th>data/test_stage1/191b2b2205f2f5cc9da04702c5d422bc249faf8bca1107af792da63cccfba829/images/191b2b2205f2f5cc9da04702c5d422bc249faf8bca1107af792da63cccfba829.png</th>\n",
       "      <td>191b2b2205f2f5cc9da04702c5d422bc249faf8bca1107...</td>\n",
       "      <td>test</td>\n",
       "      <td>images</td>\n",
       "      <td>stage1</td>\n",
       "    </tr>\n",
       "    <tr>\n",
       "      <th>data/test_stage1/f5effed21f671bbf4551ecebb7fe95f3be1cf09c16a60afe64d2f0b95be9d1eb/images/f5effed21f671bbf4551ecebb7fe95f3be1cf09c16a60afe64d2f0b95be9d1eb.png</th>\n",
       "      <td>f5effed21f671bbf4551ecebb7fe95f3be1cf09c16a60a...</td>\n",
       "      <td>test</td>\n",
       "      <td>images</td>\n",
       "      <td>stage1</td>\n",
       "    </tr>\n",
       "    <tr>\n",
       "      <th>data/test_stage1/4727d94c6a57ed484270fdd8bbc6e3d5f2f15d5476794a4e37a40f2309a091e2/images/4727d94c6a57ed484270fdd8bbc6e3d5f2f15d5476794a4e37a40f2309a091e2.png</th>\n",
       "      <td>4727d94c6a57ed484270fdd8bbc6e3d5f2f15d5476794a...</td>\n",
       "      <td>test</td>\n",
       "      <td>images</td>\n",
       "      <td>stage1</td>\n",
       "    </tr>\n",
       "    <tr>\n",
       "      <th>data/test_stage1/b83d1d77935b6cfd44105b54600ffc4b6bd82de57dec65571bcb117fa8398ba3/images/b83d1d77935b6cfd44105b54600ffc4b6bd82de57dec65571bcb117fa8398ba3.png</th>\n",
       "      <td>b83d1d77935b6cfd44105b54600ffc4b6bd82de57dec65...</td>\n",
       "      <td>test</td>\n",
       "      <td>images</td>\n",
       "      <td>stage1</td>\n",
       "    </tr>\n",
       "    <tr>\n",
       "      <th>data/test_stage1/e17b7aedd251a016c01ef9158e6e4aa940d9f1b35942d86028dc1222192a9258/images/e17b7aedd251a016c01ef9158e6e4aa940d9f1b35942d86028dc1222192a9258.png</th>\n",
       "      <td>e17b7aedd251a016c01ef9158e6e4aa940d9f1b35942d8...</td>\n",
       "      <td>test</td>\n",
       "      <td>images</td>\n",
       "      <td>stage1</td>\n",
       "    </tr>\n",
       "    <tr>\n",
       "      <th>data/test_stage1/df40099c6306ca1f47fcc8a62e2fa39486d4e223177afdc51b2ad189691802d8/images/df40099c6306ca1f47fcc8a62e2fa39486d4e223177afdc51b2ad189691802d8.png</th>\n",
       "      <td>df40099c6306ca1f47fcc8a62e2fa39486d4e223177afd...</td>\n",
       "      <td>test</td>\n",
       "      <td>images</td>\n",
       "      <td>stage1</td>\n",
       "    </tr>\n",
       "    <tr>\n",
       "      <th>data/test_stage1/9f17aea854db13015d19b34cb2022cfdeda44133323fcd6bb3545f7b9404d8ab/images/9f17aea854db13015d19b34cb2022cfdeda44133323fcd6bb3545f7b9404d8ab.png</th>\n",
       "      <td>9f17aea854db13015d19b34cb2022cfdeda44133323fcd...</td>\n",
       "      <td>test</td>\n",
       "      <td>images</td>\n",
       "      <td>stage1</td>\n",
       "    </tr>\n",
       "  </tbody>\n",
       "</table>\n",
       "<p>30196 rows × 4 columns</p>\n",
       "</div>"
      ],
      "text/plain": [
       "                                                                                             Image_ID  \\\n",
       "data/train_stage1/a9d884ba0929dac87c2052ce5b150...  a9d884ba0929dac87c2052ce5b15034163685317d7cff4...   \n",
       "data/train_stage1/a9d884ba0929dac87c2052ce5b150...  a9d884ba0929dac87c2052ce5b15034163685317d7cff4...   \n",
       "data/train_stage1/a9d884ba0929dac87c2052ce5b150...  a9d884ba0929dac87c2052ce5b15034163685317d7cff4...   \n",
       "data/train_stage1/a9d884ba0929dac87c2052ce5b150...  a9d884ba0929dac87c2052ce5b15034163685317d7cff4...   \n",
       "data/train_stage1/a9d884ba0929dac87c2052ce5b150...  a9d884ba0929dac87c2052ce5b15034163685317d7cff4...   \n",
       "data/train_stage1/a9d884ba0929dac87c2052ce5b150...  a9d884ba0929dac87c2052ce5b15034163685317d7cff4...   \n",
       "data/train_stage1/a9d884ba0929dac87c2052ce5b150...  a9d884ba0929dac87c2052ce5b15034163685317d7cff4...   \n",
       "data/train_stage1/a9d884ba0929dac87c2052ce5b150...  a9d884ba0929dac87c2052ce5b15034163685317d7cff4...   \n",
       "data/train_stage1/a9d884ba0929dac87c2052ce5b150...  a9d884ba0929dac87c2052ce5b15034163685317d7cff4...   \n",
       "data/train_stage1/a9d884ba0929dac87c2052ce5b150...  a9d884ba0929dac87c2052ce5b15034163685317d7cff4...   \n",
       "data/train_stage1/a9d884ba0929dac87c2052ce5b150...  a9d884ba0929dac87c2052ce5b15034163685317d7cff4...   \n",
       "data/train_stage1/a9d884ba0929dac87c2052ce5b150...  a9d884ba0929dac87c2052ce5b15034163685317d7cff4...   \n",
       "data/train_stage1/a9d884ba0929dac87c2052ce5b150...  a9d884ba0929dac87c2052ce5b15034163685317d7cff4...   \n",
       "data/train_stage1/a9d884ba0929dac87c2052ce5b150...  a9d884ba0929dac87c2052ce5b15034163685317d7cff4...   \n",
       "data/train_stage1/a9d884ba0929dac87c2052ce5b150...  a9d884ba0929dac87c2052ce5b15034163685317d7cff4...   \n",
       "data/train_stage1/a9d884ba0929dac87c2052ce5b150...  a9d884ba0929dac87c2052ce5b15034163685317d7cff4...   \n",
       "data/train_stage1/a9d884ba0929dac87c2052ce5b150...  a9d884ba0929dac87c2052ce5b15034163685317d7cff4...   \n",
       "data/train_stage1/a9d884ba0929dac87c2052ce5b150...  a9d884ba0929dac87c2052ce5b15034163685317d7cff4...   \n",
       "data/train_stage1/a9d884ba0929dac87c2052ce5b150...  a9d884ba0929dac87c2052ce5b15034163685317d7cff4...   \n",
       "data/train_stage1/a9d884ba0929dac87c2052ce5b150...  a9d884ba0929dac87c2052ce5b15034163685317d7cff4...   \n",
       "data/train_stage1/a9d884ba0929dac87c2052ce5b150...  a9d884ba0929dac87c2052ce5b15034163685317d7cff4...   \n",
       "data/train_stage1/a9d884ba0929dac87c2052ce5b150...  a9d884ba0929dac87c2052ce5b15034163685317d7cff4...   \n",
       "data/train_stage1/a9d884ba0929dac87c2052ce5b150...  a9d884ba0929dac87c2052ce5b15034163685317d7cff4...   \n",
       "data/train_stage1/a9d884ba0929dac87c2052ce5b150...  a9d884ba0929dac87c2052ce5b15034163685317d7cff4...   \n",
       "data/train_stage1/a9d884ba0929dac87c2052ce5b150...  a9d884ba0929dac87c2052ce5b15034163685317d7cff4...   \n",
       "data/train_stage1/a9d884ba0929dac87c2052ce5b150...  a9d884ba0929dac87c2052ce5b15034163685317d7cff4...   \n",
       "data/train_stage1/a9d884ba0929dac87c2052ce5b150...  a9d884ba0929dac87c2052ce5b15034163685317d7cff4...   \n",
       "data/train_stage1/a9d884ba0929dac87c2052ce5b150...  a9d884ba0929dac87c2052ce5b15034163685317d7cff4...   \n",
       "data/train_stage1/a9d884ba0929dac87c2052ce5b150...  a9d884ba0929dac87c2052ce5b15034163685317d7cff4...   \n",
       "data/train_stage1/a9d884ba0929dac87c2052ce5b150...  a9d884ba0929dac87c2052ce5b15034163685317d7cff4...   \n",
       "...                                                                                               ...   \n",
       "data/test_stage1/550450e4bff4036fd671decdc5d42f...  550450e4bff4036fd671decdc5d42fec23578198d6a2fd...   \n",
       "data/test_stage1/51c70bb8a299943b27f8b354571272...  51c70bb8a299943b27f8b354571272692d8f2705036a1a...   \n",
       "data/test_stage1/0114f484a16c152baa2d82fdd43740...  0114f484a16c152baa2d82fdd43740880a762c93f436c8...   \n",
       "data/test_stage1/0999dab07b11bc85fb8464fc36c947...  0999dab07b11bc85fb8464fc36c947fbd8b5d6ec498173...   \n",
       "data/test_stage1/ade080c6618cbbb0a25680cf847f31...  ade080c6618cbbb0a25680cf847f312b5e19b22bfe1caf...   \n",
       "data/test_stage1/0a849e0eb15faa8a6d7329c3dd66aa...  0a849e0eb15faa8a6d7329c3dd66aabe9a294cccb52ed3...   \n",
       "data/test_stage1/bdc789019cee8ddfae20d5f7692999...  bdc789019cee8ddfae20d5f769299993b4b330b2d38d12...   \n",
       "data/test_stage1/52b267e20519174e3ce1e1994b5d67...  52b267e20519174e3ce1e1994b5d677804b16bc670aa5f...   \n",
       "data/test_stage1/9ab2d381f90b485a68b82bc07f9439...  9ab2d381f90b485a68b82bc07f94397a0373e3215ad209...   \n",
       "data/test_stage1/4be73d68f433869188fe5e7f09c7f6...  4be73d68f433869188fe5e7f09c7f681ed51003da6aa5d...   \n",
       "data/test_stage1/1cdbfee1951356e7b0a21507382869...  1cdbfee1951356e7b0a215073828695fe1ead5f8b1add1...   \n",
       "data/test_stage1/336d3e4105766f8ad328a7ee9571e7...  336d3e4105766f8ad328a7ee9571e743f376f8cbcf6a96...   \n",
       "data/test_stage1/a984e7fb886aa02e29d112766d3ce2...  a984e7fb886aa02e29d112766d3ce26a4f78eac540ce7b...   \n",
       "data/test_stage1/295682d9eb5acb5c1976a460c08573...  295682d9eb5acb5c1976a460c085734bfaf38482b0a3f0...   \n",
       "data/test_stage1/0ed3555a4bd48046d3b63d8baf03a5...  0ed3555a4bd48046d3b63d8baf03a5aa97e523aa483aaa...   \n",
       "data/test_stage1/78a981bd27ba0c65a9169548665a17...  78a981bd27ba0c65a9169548665a17bda9f49050d0d389...   \n",
       "data/test_stage1/519dc0d672d1c295fc69b629af8721...  519dc0d672d1c295fc69b629af8721ccb1a1f136d19766...   \n",
       "data/test_stage1/d6eb7ce7723e2f6dc13b90b41a29de...  d6eb7ce7723e2f6dc13b90b41a29ded27dbd815bad633f...   \n",
       "data/test_stage1/5cee644e5ffbef1ba021c7f389b33b...  5cee644e5ffbef1ba021c7f389b33bafd3b1841f04d3ed...   \n",
       "data/test_stage1/697a05c6fe4a07c601d46da8088564...  697a05c6fe4a07c601d46da80885645ad574ea19b47ee7...   \n",
       "data/test_stage1/8b59819fbc92eefe45b1db95c0cc3a...  8b59819fbc92eefe45b1db95c0cc3a467ddcfc755684c7...   \n",
       "data/test_stage1/31f1fbe85b8899258ea5bcf5f93f7a...  31f1fbe85b8899258ea5bcf5f93f7ac8238660c386aeab...   \n",
       "data/test_stage1/472b1c5ff988dadc209faea92499bc...  472b1c5ff988dadc209faea92499bc07f305208dbda29d...   \n",
       "data/test_stage1/191b2b2205f2f5cc9da04702c5d422...  191b2b2205f2f5cc9da04702c5d422bc249faf8bca1107...   \n",
       "data/test_stage1/f5effed21f671bbf4551ecebb7fe95...  f5effed21f671bbf4551ecebb7fe95f3be1cf09c16a60a...   \n",
       "data/test_stage1/4727d94c6a57ed484270fdd8bbc6e3...  4727d94c6a57ed484270fdd8bbc6e3d5f2f15d5476794a...   \n",
       "data/test_stage1/b83d1d77935b6cfd44105b54600ffc...  b83d1d77935b6cfd44105b54600ffc4b6bd82de57dec65...   \n",
       "data/test_stage1/e17b7aedd251a016c01ef9158e6e4a...  e17b7aedd251a016c01ef9158e6e4aa940d9f1b35942d8...   \n",
       "data/test_stage1/df40099c6306ca1f47fcc8a62e2fa3...  df40099c6306ca1f47fcc8a62e2fa39486d4e223177afd...   \n",
       "data/test_stage1/9f17aea854db13015d19b34cb2022c...  9f17aea854db13015d19b34cb2022cfdeda44133323fcd...   \n",
       "\n",
       "                                                   Image_GROUP Image_TYPE  \\\n",
       "data/train_stage1/a9d884ba0929dac87c2052ce5b150...       train      masks   \n",
       "data/train_stage1/a9d884ba0929dac87c2052ce5b150...       train      masks   \n",
       "data/train_stage1/a9d884ba0929dac87c2052ce5b150...       train      masks   \n",
       "data/train_stage1/a9d884ba0929dac87c2052ce5b150...       train      masks   \n",
       "data/train_stage1/a9d884ba0929dac87c2052ce5b150...       train      masks   \n",
       "data/train_stage1/a9d884ba0929dac87c2052ce5b150...       train      masks   \n",
       "data/train_stage1/a9d884ba0929dac87c2052ce5b150...       train      masks   \n",
       "data/train_stage1/a9d884ba0929dac87c2052ce5b150...       train      masks   \n",
       "data/train_stage1/a9d884ba0929dac87c2052ce5b150...       train      masks   \n",
       "data/train_stage1/a9d884ba0929dac87c2052ce5b150...       train      masks   \n",
       "data/train_stage1/a9d884ba0929dac87c2052ce5b150...       train      masks   \n",
       "data/train_stage1/a9d884ba0929dac87c2052ce5b150...       train      masks   \n",
       "data/train_stage1/a9d884ba0929dac87c2052ce5b150...       train      masks   \n",
       "data/train_stage1/a9d884ba0929dac87c2052ce5b150...       train      masks   \n",
       "data/train_stage1/a9d884ba0929dac87c2052ce5b150...       train      masks   \n",
       "data/train_stage1/a9d884ba0929dac87c2052ce5b150...       train      masks   \n",
       "data/train_stage1/a9d884ba0929dac87c2052ce5b150...       train      masks   \n",
       "data/train_stage1/a9d884ba0929dac87c2052ce5b150...       train      masks   \n",
       "data/train_stage1/a9d884ba0929dac87c2052ce5b150...       train      masks   \n",
       "data/train_stage1/a9d884ba0929dac87c2052ce5b150...       train      masks   \n",
       "data/train_stage1/a9d884ba0929dac87c2052ce5b150...       train      masks   \n",
       "data/train_stage1/a9d884ba0929dac87c2052ce5b150...       train      masks   \n",
       "data/train_stage1/a9d884ba0929dac87c2052ce5b150...       train      masks   \n",
       "data/train_stage1/a9d884ba0929dac87c2052ce5b150...       train      masks   \n",
       "data/train_stage1/a9d884ba0929dac87c2052ce5b150...       train      masks   \n",
       "data/train_stage1/a9d884ba0929dac87c2052ce5b150...       train      masks   \n",
       "data/train_stage1/a9d884ba0929dac87c2052ce5b150...       train      masks   \n",
       "data/train_stage1/a9d884ba0929dac87c2052ce5b150...       train      masks   \n",
       "data/train_stage1/a9d884ba0929dac87c2052ce5b150...       train      masks   \n",
       "data/train_stage1/a9d884ba0929dac87c2052ce5b150...       train      masks   \n",
       "...                                                        ...        ...   \n",
       "data/test_stage1/550450e4bff4036fd671decdc5d42f...        test     images   \n",
       "data/test_stage1/51c70bb8a299943b27f8b354571272...        test     images   \n",
       "data/test_stage1/0114f484a16c152baa2d82fdd43740...        test     images   \n",
       "data/test_stage1/0999dab07b11bc85fb8464fc36c947...        test     images   \n",
       "data/test_stage1/ade080c6618cbbb0a25680cf847f31...        test     images   \n",
       "data/test_stage1/0a849e0eb15faa8a6d7329c3dd66aa...        test     images   \n",
       "data/test_stage1/bdc789019cee8ddfae20d5f7692999...        test     images   \n",
       "data/test_stage1/52b267e20519174e3ce1e1994b5d67...        test     images   \n",
       "data/test_stage1/9ab2d381f90b485a68b82bc07f9439...        test     images   \n",
       "data/test_stage1/4be73d68f433869188fe5e7f09c7f6...        test     images   \n",
       "data/test_stage1/1cdbfee1951356e7b0a21507382869...        test     images   \n",
       "data/test_stage1/336d3e4105766f8ad328a7ee9571e7...        test     images   \n",
       "data/test_stage1/a984e7fb886aa02e29d112766d3ce2...        test     images   \n",
       "data/test_stage1/295682d9eb5acb5c1976a460c08573...        test     images   \n",
       "data/test_stage1/0ed3555a4bd48046d3b63d8baf03a5...        test     images   \n",
       "data/test_stage1/78a981bd27ba0c65a9169548665a17...        test     images   \n",
       "data/test_stage1/519dc0d672d1c295fc69b629af8721...        test     images   \n",
       "data/test_stage1/d6eb7ce7723e2f6dc13b90b41a29de...        test     images   \n",
       "data/test_stage1/5cee644e5ffbef1ba021c7f389b33b...        test     images   \n",
       "data/test_stage1/697a05c6fe4a07c601d46da8088564...        test     images   \n",
       "data/test_stage1/8b59819fbc92eefe45b1db95c0cc3a...        test     images   \n",
       "data/test_stage1/31f1fbe85b8899258ea5bcf5f93f7a...        test     images   \n",
       "data/test_stage1/472b1c5ff988dadc209faea92499bc...        test     images   \n",
       "data/test_stage1/191b2b2205f2f5cc9da04702c5d422...        test     images   \n",
       "data/test_stage1/f5effed21f671bbf4551ecebb7fe95...        test     images   \n",
       "data/test_stage1/4727d94c6a57ed484270fdd8bbc6e3...        test     images   \n",
       "data/test_stage1/b83d1d77935b6cfd44105b54600ffc...        test     images   \n",
       "data/test_stage1/e17b7aedd251a016c01ef9158e6e4a...        test     images   \n",
       "data/test_stage1/df40099c6306ca1f47fcc8a62e2fa3...        test     images   \n",
       "data/test_stage1/9f17aea854db13015d19b34cb2022c...        test     images   \n",
       "\n",
       "                                                   Image_STAGE  \n",
       "data/train_stage1/a9d884ba0929dac87c2052ce5b150...      stage1  \n",
       "data/train_stage1/a9d884ba0929dac87c2052ce5b150...      stage1  \n",
       "data/train_stage1/a9d884ba0929dac87c2052ce5b150...      stage1  \n",
       "data/train_stage1/a9d884ba0929dac87c2052ce5b150...      stage1  \n",
       "data/train_stage1/a9d884ba0929dac87c2052ce5b150...      stage1  \n",
       "data/train_stage1/a9d884ba0929dac87c2052ce5b150...      stage1  \n",
       "data/train_stage1/a9d884ba0929dac87c2052ce5b150...      stage1  \n",
       "data/train_stage1/a9d884ba0929dac87c2052ce5b150...      stage1  \n",
       "data/train_stage1/a9d884ba0929dac87c2052ce5b150...      stage1  \n",
       "data/train_stage1/a9d884ba0929dac87c2052ce5b150...      stage1  \n",
       "data/train_stage1/a9d884ba0929dac87c2052ce5b150...      stage1  \n",
       "data/train_stage1/a9d884ba0929dac87c2052ce5b150...      stage1  \n",
       "data/train_stage1/a9d884ba0929dac87c2052ce5b150...      stage1  \n",
       "data/train_stage1/a9d884ba0929dac87c2052ce5b150...      stage1  \n",
       "data/train_stage1/a9d884ba0929dac87c2052ce5b150...      stage1  \n",
       "data/train_stage1/a9d884ba0929dac87c2052ce5b150...      stage1  \n",
       "data/train_stage1/a9d884ba0929dac87c2052ce5b150...      stage1  \n",
       "data/train_stage1/a9d884ba0929dac87c2052ce5b150...      stage1  \n",
       "data/train_stage1/a9d884ba0929dac87c2052ce5b150...      stage1  \n",
       "data/train_stage1/a9d884ba0929dac87c2052ce5b150...      stage1  \n",
       "data/train_stage1/a9d884ba0929dac87c2052ce5b150...      stage1  \n",
       "data/train_stage1/a9d884ba0929dac87c2052ce5b150...      stage1  \n",
       "data/train_stage1/a9d884ba0929dac87c2052ce5b150...      stage1  \n",
       "data/train_stage1/a9d884ba0929dac87c2052ce5b150...      stage1  \n",
       "data/train_stage1/a9d884ba0929dac87c2052ce5b150...      stage1  \n",
       "data/train_stage1/a9d884ba0929dac87c2052ce5b150...      stage1  \n",
       "data/train_stage1/a9d884ba0929dac87c2052ce5b150...      stage1  \n",
       "data/train_stage1/a9d884ba0929dac87c2052ce5b150...      stage1  \n",
       "data/train_stage1/a9d884ba0929dac87c2052ce5b150...      stage1  \n",
       "data/train_stage1/a9d884ba0929dac87c2052ce5b150...      stage1  \n",
       "...                                                        ...  \n",
       "data/test_stage1/550450e4bff4036fd671decdc5d42f...      stage1  \n",
       "data/test_stage1/51c70bb8a299943b27f8b354571272...      stage1  \n",
       "data/test_stage1/0114f484a16c152baa2d82fdd43740...      stage1  \n",
       "data/test_stage1/0999dab07b11bc85fb8464fc36c947...      stage1  \n",
       "data/test_stage1/ade080c6618cbbb0a25680cf847f31...      stage1  \n",
       "data/test_stage1/0a849e0eb15faa8a6d7329c3dd66aa...      stage1  \n",
       "data/test_stage1/bdc789019cee8ddfae20d5f7692999...      stage1  \n",
       "data/test_stage1/52b267e20519174e3ce1e1994b5d67...      stage1  \n",
       "data/test_stage1/9ab2d381f90b485a68b82bc07f9439...      stage1  \n",
       "data/test_stage1/4be73d68f433869188fe5e7f09c7f6...      stage1  \n",
       "data/test_stage1/1cdbfee1951356e7b0a21507382869...      stage1  \n",
       "data/test_stage1/336d3e4105766f8ad328a7ee9571e7...      stage1  \n",
       "data/test_stage1/a984e7fb886aa02e29d112766d3ce2...      stage1  \n",
       "data/test_stage1/295682d9eb5acb5c1976a460c08573...      stage1  \n",
       "data/test_stage1/0ed3555a4bd48046d3b63d8baf03a5...      stage1  \n",
       "data/test_stage1/78a981bd27ba0c65a9169548665a17...      stage1  \n",
       "data/test_stage1/519dc0d672d1c295fc69b629af8721...      stage1  \n",
       "data/test_stage1/d6eb7ce7723e2f6dc13b90b41a29de...      stage1  \n",
       "data/test_stage1/5cee644e5ffbef1ba021c7f389b33b...      stage1  \n",
       "data/test_stage1/697a05c6fe4a07c601d46da8088564...      stage1  \n",
       "data/test_stage1/8b59819fbc92eefe45b1db95c0cc3a...      stage1  \n",
       "data/test_stage1/31f1fbe85b8899258ea5bcf5f93f7a...      stage1  \n",
       "data/test_stage1/472b1c5ff988dadc209faea92499bc...      stage1  \n",
       "data/test_stage1/191b2b2205f2f5cc9da04702c5d422...      stage1  \n",
       "data/test_stage1/f5effed21f671bbf4551ecebb7fe95...      stage1  \n",
       "data/test_stage1/4727d94c6a57ed484270fdd8bbc6e3...      stage1  \n",
       "data/test_stage1/b83d1d77935b6cfd44105b54600ffc...      stage1  \n",
       "data/test_stage1/e17b7aedd251a016c01ef9158e6e4a...      stage1  \n",
       "data/test_stage1/df40099c6306ca1f47fcc8a62e2fa3...      stage1  \n",
       "data/test_stage1/9f17aea854db13015d19b34cb2022c...      stage1  \n",
       "\n",
       "[30196 rows x 4 columns]"
      ]
     },
     "execution_count": 7,
     "metadata": {},
     "output_type": "execute_result"
    }
   ],
   "source": [
    "path_df"
   ]
  },
  {
   "cell_type": "code",
   "execution_count": 8,
   "metadata": {
    "collapsed": false
   },
   "outputs": [
    {
     "data": {
      "text/html": [
       "<div>\n",
       "<style>\n",
       "    .dataframe thead tr:only-child th {\n",
       "        text-align: right;\n",
       "    }\n",
       "\n",
       "    .dataframe thead th {\n",
       "        text-align: left;\n",
       "    }\n",
       "\n",
       "    .dataframe tbody tr th {\n",
       "        vertical-align: top;\n",
       "    }\n",
       "</style>\n",
       "<table border=\"1\" class=\"dataframe\">\n",
       "  <thead>\n",
       "    <tr style=\"text-align: right;\">\n",
       "      <th></th>\n",
       "      <th>Image_ID</th>\n",
       "      <th>Image_GROUP</th>\n",
       "      <th>Image_TYPE</th>\n",
       "      <th>Image_STAGE</th>\n",
       "    </tr>\n",
       "  </thead>\n",
       "  <tbody>\n",
       "    <tr>\n",
       "      <th>count</th>\n",
       "      <td>30196</td>\n",
       "      <td>30196</td>\n",
       "      <td>30196</td>\n",
       "      <td>30196</td>\n",
       "    </tr>\n",
       "    <tr>\n",
       "      <th>unique</th>\n",
       "      <td>735</td>\n",
       "      <td>2</td>\n",
       "      <td>2</td>\n",
       "      <td>1</td>\n",
       "    </tr>\n",
       "    <tr>\n",
       "      <th>top</th>\n",
       "      <td>a102535b0e88374bea4a1cfd9ee7cb3822ff54f4ab2a98...</td>\n",
       "      <td>train</td>\n",
       "      <td>masks</td>\n",
       "      <td>stage1</td>\n",
       "    </tr>\n",
       "    <tr>\n",
       "      <th>freq</th>\n",
       "      <td>376</td>\n",
       "      <td>30131</td>\n",
       "      <td>29461</td>\n",
       "      <td>30196</td>\n",
       "    </tr>\n",
       "  </tbody>\n",
       "</table>\n",
       "</div>"
      ],
      "text/plain": [
       "                                                 Image_ID Image_GROUP  \\\n",
       "count                                               30196       30196   \n",
       "unique                                                735           2   \n",
       "top     a102535b0e88374bea4a1cfd9ee7cb3822ff54f4ab2a98...       train   \n",
       "freq                                                  376       30131   \n",
       "\n",
       "       Image_TYPE Image_STAGE  \n",
       "count       30196       30196  \n",
       "unique          2           1  \n",
       "top         masks      stage1  \n",
       "freq        29461       30196  "
      ]
     },
     "execution_count": 8,
     "metadata": {},
     "output_type": "execute_result"
    }
   ],
   "source": [
    "path_df.describe()"
   ]
  },
  {
   "cell_type": "code",
   "execution_count": 9,
   "metadata": {
    "collapsed": false
   },
   "outputs": [
    {
     "name": "stdout",
     "output_type": "stream",
     "text": [
      "CPU times: user 2.01 s, sys: 16 ms, total: 2.03 s\n",
      "Wall time: 2.01 s\n"
     ]
    }
   ],
   "source": [
    "%%time\n",
    "\n",
    "train_df = path_df.query('Image_GROUP==\"train\"')\n",
    "train_rows = []\n",
    "group_cols = ['Image_STAGE', 'Image_ID']\n",
    "\n",
    "for n_group, n_rows in train_df.groupby(group_cols):\n",
    "    c_row = {col_name: col_value for col_name, col_value in zip(group_cols, n_group)}\n",
    "    c_row['masks'] = n_rows.query('Image_TYPE == \"masks\"').index.values.tolist()\n",
    "    c_row['images'] = n_rows.query('Image_TYPE == \"images\"').index.values.tolist()\n",
    "    train_rows += [c_row]\n",
    "train_img_df = pd.DataFrame(train_rows)    "
   ]
  },
  {
   "cell_type": "code",
   "execution_count": 10,
   "metadata": {
    "collapsed": false
   },
   "outputs": [
    {
     "name": "stdout",
     "output_type": "stream",
     "text": [
      "CPU times: user 32.9 s, sys: 25.5 s, total: 58.5 s\n",
      "Wall time: 58.5 s\n"
     ]
    }
   ],
   "source": [
    "%%time\n",
    "IMG_CHANNELS = 3\n",
    "def read_and_stack(in_img_list):\n",
    "    return np.sum(np.stack([imread(c_img) for c_img in in_img_list], 0), 0)/255.0\n",
    "train_img_df['images'] = train_img_df['images'].map(read_and_stack).map(lambda x: x[:,:,:IMG_CHANNELS])\n",
    "train_img_df['masks'] = train_img_df['masks'].map(read_and_stack).map(lambda x: x.astype(int))\n",
    "train_img_df.sample(1)"
   ]
  },
  {
   "cell_type": "code",
   "execution_count": 11,
   "metadata": {
    "collapsed": false
   },
   "outputs": [
    {
     "name": "stdout",
     "output_type": "stream",
     "text": [
      "<class 'pandas.core.frame.DataFrame'>\n",
      "RangeIndex: 670 entries, 0 to 669\n",
      "Data columns (total 4 columns):\n",
      "Image_ID       670 non-null object\n",
      "Image_STAGE    670 non-null object\n",
      "images         670 non-null object\n",
      "masks          670 non-null object\n",
      "dtypes: object(4)\n",
      "memory usage: 791.4 MB\n"
     ]
    }
   ],
   "source": [
    "train_img_df.info(memory_usage='deep')"
   ]
  },
  {
   "cell_type": "code",
   "execution_count": 12,
   "metadata": {
    "collapsed": false
   },
   "outputs": [
    {
     "data": {
      "image/png": "[encoded data removed]",
      "text/plain": [
       "<matplotlib.figure.Figure at 0x7f2f8bff5fd0>"
      ]
     },
     "metadata": {},
     "output_type": "display_data"
    }
   ],
   "source": [
    "n_img = 6\n",
    "fig, m_axs = plt.subplots(2, n_img, figsize = (12, 4))\n",
    "for (_, c_row), (c_im, c_lab) in zip(train_img_df.sample(n_img).iterrows(), \n",
    "                                     m_axs.T):\n",
    "    c_im.imshow(c_row['images'])\n",
    "    c_im.axis('off')\n",
    "    c_im.set_title('Microscope ' + str(_))\n",
    "    \n",
    "    c_lab.imshow(c_row['masks'])\n",
    "    c_lab.axis('off')\n",
    "    c_lab.set_title('Labeled')"
   ]
  },
  {
   "cell_type": "code",
   "execution_count": 13,
   "metadata": {
    "collapsed": false,
    "scrolled": true
   },
   "outputs": [
    {
     "data": {
      "text/plain": [
       "(256, 256, 3)      334\n",
       "(256, 320, 3)      112\n",
       "(520, 696, 3)       92\n",
       "(360, 360, 3)       91\n",
       "(1024, 1024, 3)     16\n",
       "(512, 640, 3)       13\n",
       "(603, 1272, 3)       6\n",
       "(260, 347, 3)        5\n",
       "(1040, 1388, 3)      1\n",
       "Name: images, dtype: int64"
      ]
     },
     "execution_count": 13,
     "metadata": {},
     "output_type": "execute_result"
    }
   ],
   "source": [
    "train_img_df['images'].map(lambda x: x.shape).value_counts()"
   ]
  },
  {
   "cell_type": "code",
   "execution_count": 14,
   "metadata": {
    "collapsed": false,
    "scrolled": true
   },
   "outputs": [
    {
     "data": {
      "text/plain": [
       "(256, 256)      334\n",
       "(256, 320)      112\n",
       "(520, 696)       92\n",
       "(360, 360)       91\n",
       "(1024, 1024)     16\n",
       "(512, 640)       13\n",
       "(603, 1272)       6\n",
       "(260, 347)        5\n",
       "(1040, 1388)      1\n",
       "Name: masks, dtype: int64"
      ]
     },
     "execution_count": 14,
     "metadata": {},
     "output_type": "execute_result"
    }
   ],
   "source": [
    "train_img_df['masks'].map(lambda x: x.shape).value_counts()"
   ]
  },
  {
   "cell_type": "code",
   "execution_count": 15,
   "metadata": {
    "collapsed": false
   },
   "outputs": [
    {
     "name": "stderr",
     "output_type": "stream",
     "text": [
      "Using TensorFlow backend.\n"
     ]
    }
   ],
   "source": [
    "from keras.models import Sequential\n",
    "from keras.layers import BatchNormalization, Conv2D, UpSampling2D, Lambda"
   ]
  },
  {
   "cell_type": "code",
   "execution_count": 16,
   "metadata": {
    "collapsed": true
   },
   "outputs": [],
   "source": [
    "import tensorflow as tf\n",
    "os.environ[\"CUDA_DEVICE_ORDER\"] = \"PCI_BUS_ID\"\n",
    "os.environ[\"CUDA_VISIBLE_DEVICES\"] = \"1\"\n",
    "\n",
    "config = tf.ConfigProto()\n",
    "config.gpu_options.allow_growth = True\n",
    "sess = tf.Session(config=config)"
   ]
  },
  {
   "cell_type": "code",
   "execution_count": 134,
   "metadata": {
    "collapsed": false
   },
   "outputs": [
    {
     "name": "stdout",
     "output_type": "stream",
     "text": [
      "_________________________________________________________________\n",
      "Layer (type)                 Output Shape              Param #   \n",
      "=================================================================\n",
      "NormalizeInput (BatchNormali (None, None, None, 3)     12        \n",
      "_________________________________________________________________\n",
      "conv2d_8 (Conv2D)            (None, None, None, 16)    448       \n",
      "_________________________________________________________________\n",
      "conv2d_9 (Conv2D)            (None, None, None, 16)    2320      \n",
      "_________________________________________________________________\n",
      "conv2d_10 (Conv2D)           (None, None, None, 32)    4640      \n",
      "_________________________________________________________________\n",
      "conv2d_11 (Conv2D)           (None, None, None, 64)    18496     \n",
      "_________________________________________________________________\n",
      "conv2d_12 (Conv2D)           (None, None, None, 64)    36928     \n",
      "_________________________________________________________________\n",
      "conv2d_13 (Conv2D)           (None, None, None, 32)    2080      \n",
      "_________________________________________________________________\n",
      "conv2d_14 (Conv2D)           (None, None, None, 1)     33        \n",
      "=================================================================\n",
      "Total params: 64,957\n",
      "Trainable params: 64,951\n",
      "Non-trainable params: 6\n",
      "_________________________________________________________________\n"
     ]
    }
   ],
   "source": [
    "simple_cnn = Sequential()\n",
    "simple_cnn.add(BatchNormalization(input_shape = (None, None, IMG_CHANNELS), \n",
    "                                  name = 'NormalizeInput'))\n",
    "\n",
    "simple_cnn.add(Conv2D(16, kernel_size = (3,3), padding = 'same'))\n",
    "simple_cnn.add(Conv2D(16, kernel_size = (3,3), padding = 'same'))\n",
    "\n",
    "# use dilations to get a slightly larger field of view\n",
    "simple_cnn.add(Conv2D(32, kernel_size = (3,3), dilation_rate = 2, padding = 'same'))\n",
    "simple_cnn.add(Conv2D(64, kernel_size = (3,3), dilation_rate = 2, padding = 'same'))\n",
    "simple_cnn.add(Conv2D(64, kernel_size = (3,3), dilation_rate = 3, padding = 'same'))\n",
    "\n",
    "# the final processing\n",
    "simple_cnn.add(Conv2D(32, kernel_size = (1,1), padding = 'same'))\n",
    "simple_cnn.add(Conv2D(1, kernel_size = (1,1), padding = 'same', activation = 'sigmoid'))\n",
    "simple_cnn.summary()"
   ]
  },
  {
   "cell_type": "code",
   "execution_count": 135,
   "metadata": {
    "collapsed": true
   },
   "outputs": [],
   "source": [
    "from keras import backend as K\n",
    "smooth = 1.\n",
    "def dice_coef(y_true, y_pred):\n",
    "    y_true_f = K.flatten(y_true)\n",
    "    y_pred_f = K.flatten(y_pred)\n",
    "    intersection = K.sum(y_true_f * y_pred_f)\n",
    "    return (2. * intersection + smooth) / (K.sum(y_true_f) + K.sum(y_pred_f) + smooth)\n",
    "\n",
    "def dice_coef_loss(y_true, y_pred):\n",
    "    return -dice_coef(y_true, y_pred)\n",
    "\n",
    "simple_cnn.compile(optimizer = 'adam', \n",
    "                   loss = dice_coef_loss, \n",
    "                   metrics = [dice_coef, 'acc', 'mse'])"
   ]
  },
  {
   "cell_type": "code",
   "execution_count": 136,
   "metadata": {
    "collapsed": true
   },
   "outputs": [],
   "source": [
    "def simple_gen():\n",
    "    while True:\n",
    "        for _, c_row in train_img_df.iterrows():\n",
    "            yield np.expand_dims(c_row['images'],0), np.expand_dims(np.expand_dims(c_row['masks'],-1),0)"
   ]
  },
  {
   "cell_type": "code",
   "execution_count": 137,
   "metadata": {
    "collapsed": false,
    "scrolled": true
   },
   "outputs": [
    {
     "name": "stdout",
     "output_type": "stream",
     "text": [
      "Epoch 1/10\n",
      "670/670 [==============================] - 41s - loss: -0.7410 - dice_coef: 0.7410 - acc: 0.9033 - mean_squared_error: 0.0932    \n",
      "Epoch 2/10\n",
      "670/670 [==============================] - 36s - loss: -0.7960 - dice_coef: 0.7960 - acc: 0.9288 - mean_squared_error: 0.0701    \n",
      "Epoch 3/10\n",
      "670/670 [==============================] - 38s - loss: -0.8016 - dice_coef: 0.8016 - acc: 0.9307 - mean_squared_error: 0.0687    \n",
      "Epoch 4/10\n",
      "670/670 [==============================] - 37s - loss: -0.8037 - dice_coef: 0.8037 - acc: 0.9310 - mean_squared_error: 0.0687    \n",
      "Epoch 5/10\n",
      "670/670 [==============================] - 38s - loss: -0.7979 - dice_coef: 0.7979 - acc: 0.9305 - mean_squared_error: 0.0693    \n",
      "Epoch 6/10\n",
      "670/670 [==============================] - 38s - loss: -0.7980 - dice_coef: 0.7980 - acc: 0.9253 - mean_squared_error: 0.0745    \n",
      "Epoch 7/10\n",
      "670/670 [==============================] - 38s - loss: -0.7977 - dice_coef: 0.7977 - acc: 0.9278 - mean_squared_error: 0.0721    \n",
      "Epoch 8/10\n",
      "670/670 [==============================] - 38s - loss: -0.7970 - dice_coef: 0.7970 - acc: 0.9285 - mean_squared_error: 0.0714    \n",
      "Epoch 9/10\n",
      "670/670 [==============================] - 38s - loss: -0.7956 - dice_coef: 0.7956 - acc: 0.9277 - mean_squared_error: 0.0723    \n",
      "Epoch 10/10\n",
      "670/670 [==============================] - 38s - loss: -0.7844 - dice_coef: 0.7844 - acc: 0.9272 - mean_squared_error: 0.0728    \n"
     ]
    },
    {
     "data": {
      "text/plain": [
       "<keras.callbacks.History at 0x7f2d68f8cd68>"
      ]
     },
     "execution_count": 137,
     "metadata": {},
     "output_type": "execute_result"
    }
   ],
   "source": [
    "simple_cnn.fit_generator(simple_gen(), \n",
    "                         steps_per_epoch=train_img_df.shape[0],\n",
    "                        epochs = 10)"
   ]
  },
  {
   "cell_type": "code",
   "execution_count": 21,
   "metadata": {
    "collapsed": false
   },
   "outputs": [
    {
     "name": "stdout",
     "output_type": "stream",
     "text": [
      "65 images to process\n",
      "CPU times: user 836 ms, sys: 68 ms, total: 904 ms\n",
      "Wall time: 871 ms\n"
     ]
    }
   ],
   "source": [
    "%%time\n",
    "test_df = path_df.query('Image_GROUP==\"test\"')\n",
    "test_rows = []\n",
    "group_cols = ['Image_STAGE', 'Image_ID']\n",
    "for n_group, n_rows in test_df.groupby(group_cols):\n",
    "    c_row = {col_name: col_value for col_name, col_value in zip(group_cols, n_group)}\n",
    "    c_row['images'] = n_rows.query('Image_TYPE == \"images\"').index.values.tolist()\n",
    "    test_rows += [c_row]\n",
    "test_img_df = pd.DataFrame(test_rows)    \n",
    "\n",
    "test_img_df['images'] = test_img_df['images'].map(read_and_stack).map(lambda x: x[:,:,:IMG_CHANNELS])\n",
    "print(test_img_df.shape[0], 'images to process')\n",
    "test_img_df.sample(1)"
   ]
  },
  {
   "cell_type": "code",
   "execution_count": 138,
   "metadata": {
    "collapsed": false
   },
   "outputs": [
    {
     "name": "stdout",
     "output_type": "stream",
     "text": [
      "CPU times: user 1.82 s, sys: 252 ms, total: 2.07 s\n",
      "Wall time: 1.81 s\n"
     ]
    }
   ],
   "source": [
    "%%time\n",
    "test_img_df['masks'] = test_img_df['images'].map(lambda x: simple_cnn.predict(np.expand_dims(x, 0))[0, :, :, 0])"
   ]
  },
  {
   "cell_type": "code",
   "execution_count": 145,
   "metadata": {
    "collapsed": false,
    "scrolled": true
   },
   "outputs": [
    {
     "data": {
      "image/png": "[encoded data removed]",
      "text/plain": [
       "<matplotlib.figure.Figure at 0x7f2e7c641f98>"
      ]
     },
     "metadata": {},
     "output_type": "display_data"
    }
   ],
   "source": [
    "n_img = 3\n",
    "from skimage.morphology import closing, opening, disk\n",
    "\n",
    "def clean_img(x):\n",
    "    return opening(closing(x, disk(1)), disk(3))\n",
    "\n",
    "fig, m_axs = plt.subplots(3, n_img, figsize = (12, 6))\n",
    "for (_, d_row), (c_im, c_lab, c_clean) in zip(test_img_df.sample(n_img).iterrows(), \n",
    "                                     m_axs):\n",
    "    c_im.imshow(d_row['images'])\n",
    "    c_im.axis('off')\n",
    "    c_im.set_title('Microscope')\n",
    "    \n",
    "    c_lab.imshow(d_row['masks'])\n",
    "    c_lab.axis('off')\n",
    "    c_lab.set_title('Predicted')\n",
    "    \n",
    "    c_clean.imshow(clean_img(d_row['masks']))\n",
    "    c_clean.axis('off')\n",
    "    c_clean.set_title('Clean')"
   ]
  },
  {
   "cell_type": "code",
   "execution_count": null,
   "metadata": {
    "collapsed": true
   },
   "outputs": [],
   "source": []
  },
  {
   "cell_type": "code",
   "execution_count": 30,
   "metadata": {
    "collapsed": false
   },
   "outputs": [
    {
     "data": {
      "text/html": [
       "<div>\n",
       "<style>\n",
       "    .dataframe thead tr:only-child th {\n",
       "        text-align: right;\n",
       "    }\n",
       "\n",
       "    .dataframe thead th {\n",
       "        text-align: left;\n",
       "    }\n",
       "\n",
       "    .dataframe tbody tr th {\n",
       "        vertical-align: top;\n",
       "    }\n",
       "</style>\n",
       "<table border=\"1\" class=\"dataframe\">\n",
       "  <thead>\n",
       "    <tr style=\"text-align: right;\">\n",
       "      <th></th>\n",
       "      <th>ImageId</th>\n",
       "      <th>EncodedPixels</th>\n",
       "    </tr>\n",
       "  </thead>\n",
       "  <tbody>\n",
       "    <tr>\n",
       "      <th>20710</th>\n",
       "      <td>ad473063dab4bf4f2461d9a99a9c0166d4871f156516d9...</td>\n",
       "      <td>[7665, 2, 7920, 4, 8174, 7, 8429, 9, 8684, 10,...</td>\n",
       "    </tr>\n",
       "    <tr>\n",
       "      <th>3760</th>\n",
       "      <td>1c8b905c9519061d6d091e702b45274f4485c80dcf7fb1...</td>\n",
       "      <td>[218586, 7, 219104, 11, 219623, 13, 220140, 17...</td>\n",
       "    </tr>\n",
       "    <tr>\n",
       "      <th>22332</th>\n",
       "      <td>be1916d0e5592c17f971315b5de720ef6894173087399d...</td>\n",
       "      <td>[33478, 8, 33734, 7, 33989, 8, 34246, 8, 34502...</td>\n",
       "    </tr>\n",
       "  </tbody>\n",
       "</table>\n",
       "</div>"
      ],
      "text/plain": [
       "                                                 ImageId  \\\n",
       "20710  ad473063dab4bf4f2461d9a99a9c0166d4871f156516d9...   \n",
       "3760   1c8b905c9519061d6d091e702b45274f4485c80dcf7fb1...   \n",
       "22332  be1916d0e5592c17f971315b5de720ef6894173087399d...   \n",
       "\n",
       "                                           EncodedPixels  \n",
       "20710  [7665, 2, 7920, 4, 8174, 7, 8429, 9, 8684, 10,...  \n",
       "3760   [218586, 7, 219104, 11, 219623, 13, 220140, 17...  \n",
       "22332  [33478, 8, 33734, 7, 33989, 8, 34246, 8, 34502...  "
      ]
     },
     "execution_count": 30,
     "metadata": {},
     "output_type": "execute_result"
    }
   ],
   "source": [
    "train_labels = pd.read_csv('data/train_stage1_labels/stage1_train_labels.csv')\n",
    "train_labels['EncodedPixels'] = train_labels['EncodedPixels'].map(lambda ep: [int(x) for x in ep.split(' ')])\n",
    "train_labels.sample(3)"
   ]
  },
  {
   "cell_type": "code",
   "execution_count": null,
   "metadata": {
    "collapsed": true
   },
   "outputs": [],
   "source": []
  },
  {
   "cell_type": "code",
   "execution_count": 28,
   "metadata": {
    "collapsed": true
   },
   "outputs": [],
   "source": [
    "from skimage.morphology import label # label regions\n",
    "def rle_encoding(x):\n",
    "    '''\n",
    "    x: numpy array of shape (height, width), 1 - mask, 0 - background\n",
    "    Returns run length as list\n",
    "    '''\n",
    "    dots = np.where(x.T.flatten()==1)[0] # .T sets Fortran order down-then-right\n",
    "    run_lengths = []\n",
    "    prev = -2\n",
    "    for b in dots:\n",
    "        if (b>prev+1): run_lengths.extend((b+1, 0))\n",
    "        run_lengths[-1] += 1\n",
    "        prev = b\n",
    "    return run_lengths\n",
    "\n",
    "def prob_to_rles(x, cut_off = 0.5):\n",
    "    lab_img = label(x>cut_off)\n",
    "    if lab_img.max()<1:\n",
    "        lab_img[0,0] = 1 # ensure at least one prediction per image\n",
    "    for i in range(1, lab_img.max()+1):\n",
    "        yield rle_encoding(lab_img==i)"
   ]
  },
  {
   "cell_type": "code",
   "execution_count": null,
   "metadata": {
    "collapsed": true
   },
   "outputs": [],
   "source": []
  },
  {
   "cell_type": "code",
   "execution_count": 29,
   "metadata": {
    "collapsed": true
   },
   "outputs": [],
   "source": [
    "_, train_rle_row = next(train_img_df.tail(5).iterrows()) \n",
    "train_row_rles = list(prob_to_rles(train_rle_row['masks']))"
   ]
  },
  {
   "cell_type": "code",
   "execution_count": 100,
   "metadata": {
    "collapsed": false
   },
   "outputs": [],
   "source": [
    "tl_rles = train_labels.query('ImageId==\"{Image_ID}\"'.format(**train_rle_row))['EncodedPixels']"
   ]
  },
  {
   "cell_type": "code",
   "execution_count": 113,
   "metadata": {
    "collapsed": false
   },
   "outputs": [
    {
     "name": "stdout",
     "output_type": "stream",
     "text": [
      "Matches: 360, Mismatches: 0, Accuracy: 100.0%\n"
     ]
    }
   ],
   "source": [
    "match, mismatch = 0, 0\n",
    "for img_rle, train_rle in zip(sorted(train_row_rles, key = lambda x: x[0]), \n",
    "                             sorted(tl_rles, key = lambda x: x[0])):\n",
    "    for i_x, i_y in zip(img_rle, train_rle):\n",
    "        if i_x == i_y:\n",
    "            match += 1\n",
    "        else:\n",
    "            mismatch += 1\n",
    "print('Matches: %d, Mismatches: %d, Accuracy: %2.1f%%' % (match, mismatch, 100.0*match/(match+mismatch)))"
   ]
  },
  {
   "cell_type": "code",
   "execution_count": null,
   "metadata": {
    "collapsed": true
   },
   "outputs": [],
   "source": []
  },
  {
   "cell_type": "code",
   "execution_count": 116,
   "metadata": {
    "collapsed": true
   },
   "outputs": [],
   "source": [
    "test_img_df['rles'] = test_img_df['masks'].map(clean_img).map(lambda x: list(prob_to_rles(x)))"
   ]
  },
  {
   "cell_type": "code",
   "execution_count": null,
   "metadata": {
    "collapsed": true
   },
   "outputs": [],
   "source": []
  },
  {
   "cell_type": "code",
   "execution_count": 120,
   "metadata": {
    "collapsed": false
   },
   "outputs": [
    {
     "name": "stdout",
     "output_type": "stream",
     "text": [
      "1519 regions found for 65 images\n"
     ]
    },
    {
     "data": {
      "text/html": [
       "<div>\n",
       "<style>\n",
       "    .dataframe thead tr:only-child th {\n",
       "        text-align: right;\n",
       "    }\n",
       "\n",
       "    .dataframe thead th {\n",
       "        text-align: left;\n",
       "    }\n",
       "\n",
       "    .dataframe tbody tr th {\n",
       "        vertical-align: top;\n",
       "    }\n",
       "</style>\n",
       "<table border=\"1\" class=\"dataframe\">\n",
       "  <thead>\n",
       "    <tr style=\"text-align: right;\">\n",
       "      <th></th>\n",
       "      <th>EncodedPixels</th>\n",
       "      <th>ImageId</th>\n",
       "    </tr>\n",
       "  </thead>\n",
       "  <tbody>\n",
       "    <tr>\n",
       "      <th>1233</th>\n",
       "      <td>94333 1 94851 5 95371 5 95890 7 96411 5 96931 ...</td>\n",
       "      <td>d6eb7ce7723e2f6dc13b90b41a29ded27dbd815bad633f...</td>\n",
       "    </tr>\n",
       "    <tr>\n",
       "      <th>688</th>\n",
       "      <td>21135 6 21389 10 21644 12 21898 15 22154 16 22...</td>\n",
       "      <td>697a05c6fe4a07c601d46da80885645ad574ea19b47ee7...</td>\n",
       "    </tr>\n",
       "    <tr>\n",
       "      <th>454</th>\n",
       "      <td>34811 4 35065 8 35320 9 35576 9 35831 10 36087...</td>\n",
       "      <td>4727d94c6a57ed484270fdd8bbc6e3d5f2f15d5476794a...</td>\n",
       "    </tr>\n",
       "  </tbody>\n",
       "</table>\n",
       "</div>"
      ],
      "text/plain": [
       "                                          EncodedPixels  \\\n",
       "1233  94333 1 94851 5 95371 5 95890 7 96411 5 96931 ...   \n",
       "688   21135 6 21389 10 21644 12 21898 15 22154 16 22...   \n",
       "454   34811 4 35065 8 35320 9 35576 9 35831 10 36087...   \n",
       "\n",
       "                                                ImageId  \n",
       "1233  d6eb7ce7723e2f6dc13b90b41a29ded27dbd815bad633f...  \n",
       "688   697a05c6fe4a07c601d46da80885645ad574ea19b47ee7...  \n",
       "454   4727d94c6a57ed484270fdd8bbc6e3d5f2f15d5476794a...  "
      ]
     },
     "execution_count": 120,
     "metadata": {},
     "output_type": "execute_result"
    }
   ],
   "source": [
    "out_pred_list = []\n",
    "for _, c_row in test_img_df.iterrows():\n",
    "    for c_rle in c_row['rles']:\n",
    "        out_pred_list+=[dict(ImageId=c_row['Image_ID'], \n",
    "                             EncodedPixels = ' '.join(np.array(c_rle).astype(str)))]\n",
    "out_pred_df = pd.DataFrame(out_pred_list)\n",
    "print(out_pred_df.shape[0], 'regions found for', test_img_df.shape[0], 'images')\n",
    "out_pred_df.sample(3)"
   ]
  },
  {
   "cell_type": "code",
   "execution_count": 121,
   "metadata": {
    "collapsed": false
   },
   "outputs": [
    {
     "data": {
      "text/html": [
       "<div>\n",
       "<style>\n",
       "    .dataframe thead tr:only-child th {\n",
       "        text-align: right;\n",
       "    }\n",
       "\n",
       "    .dataframe thead th {\n",
       "        text-align: left;\n",
       "    }\n",
       "\n",
       "    .dataframe tbody tr th {\n",
       "        vertical-align: top;\n",
       "    }\n",
       "</style>\n",
       "<table border=\"1\" class=\"dataframe\">\n",
       "  <thead>\n",
       "    <tr style=\"text-align: right;\">\n",
       "      <th></th>\n",
       "      <th>EncodedPixels</th>\n",
       "      <th>ImageId</th>\n",
       "    </tr>\n",
       "  </thead>\n",
       "  <tbody>\n",
       "    <tr>\n",
       "      <th>0</th>\n",
       "      <td>45361 5 45615 9 45871 9 46126 11 46382 10 4663...</td>\n",
       "      <td>0114f484a16c152baa2d82fdd43740880a762c93f436c8...</td>\n",
       "    </tr>\n",
       "  </tbody>\n",
       "</table>\n",
       "</div>"
      ],
      "text/plain": [
       "                                       EncodedPixels  \\\n",
       "0  45361 5 45615 9 45871 9 46126 11 46382 10 4663...   \n",
       "\n",
       "                                             ImageId  \n",
       "0  0114f484a16c152baa2d82fdd43740880a762c93f436c8...  "
      ]
     },
     "execution_count": 121,
     "metadata": {},
     "output_type": "execute_result"
    }
   ],
   "source": [
    "out_pred_df.head(1)"
   ]
  },
  {
   "cell_type": "code",
   "execution_count": 122,
   "metadata": {
    "collapsed": false
   },
   "outputs": [
    {
     "data": {
      "text/html": [
       "<div>\n",
       "<style>\n",
       "    .dataframe thead tr:only-child th {\n",
       "        text-align: right;\n",
       "    }\n",
       "\n",
       "    .dataframe thead th {\n",
       "        text-align: left;\n",
       "    }\n",
       "\n",
       "    .dataframe tbody tr th {\n",
       "        vertical-align: top;\n",
       "    }\n",
       "</style>\n",
       "<table border=\"1\" class=\"dataframe\">\n",
       "  <thead>\n",
       "    <tr style=\"text-align: right;\">\n",
       "      <th></th>\n",
       "      <th>ImageId</th>\n",
       "      <th>EncodedPixels</th>\n",
       "    </tr>\n",
       "  </thead>\n",
       "  <tbody>\n",
       "    <tr>\n",
       "      <th>0</th>\n",
       "      <td>0114f484a16c152baa2d82fdd43740880a762c93f436c8...</td>\n",
       "      <td>45361 5 45615 9 45871 9 46126 11 46382 10 4663...</td>\n",
       "    </tr>\n",
       "  </tbody>\n",
       "</table>\n",
       "</div>"
      ],
      "text/plain": [
       "                                             ImageId  \\\n",
       "0  0114f484a16c152baa2d82fdd43740880a762c93f436c8...   \n",
       "\n",
       "                                       EncodedPixels  \n",
       "0  45361 5 45615 9 45871 9 46126 11 46382 10 4663...  "
      ]
     },
     "execution_count": 122,
     "metadata": {},
     "output_type": "execute_result"
    }
   ],
   "source": [
    "out_pred_df[['ImageId', 'EncodedPixels']].head(1)"
   ]
  },
  {
   "cell_type": "code",
   "execution_count": 123,
   "metadata": {
    "collapsed": true
   },
   "outputs": [],
   "source": [
    "out_pred_df[['ImageId', 'EncodedPixels']].to_csv('predictions.csv', index = False)"
   ]
  }
 ],
 "metadata": {
  "kernelspec": {
   "display_name": "Python [conda root]",
   "language": "python",
   "name": "conda-root-py"
  },
  "language_info": {
   "codemirror_mode": {
    "name": "ipython",
    "version": 3
   },
   "file_extension": ".py",
   "mimetype": "text/x-python",
   "name": "python",
   "nbconvert_exporter": "python",
   "pygments_lexer": "ipython3",
   "version": "3.5.4"
  }
 },
 "nbformat": 4,
 "nbformat_minor": 1
}
