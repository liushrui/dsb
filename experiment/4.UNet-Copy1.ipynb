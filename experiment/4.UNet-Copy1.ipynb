{
 "cells": [
  {
   "cell_type": "markdown",
   "metadata": {},
   "source": [
    "https://www.kaggle.com/kmader/nuclei-overview-to-submission/notebook  \n",
    "https://www.kaggle.com/keegil/keras-u-net-starter-lb-0-277/notebook"
   ]
  },
  {
   "cell_type": "code",
   "execution_count": 1,
   "metadata": {
    "collapsed": false
   },
   "outputs": [
    {
     "name": "stderr",
     "output_type": "stream",
     "text": [
      "/home/liushrui/install/anaconda3/lib/python3.5/site-packages/h5py/__init__.py:36: FutureWarning: Conversion of the second argument of issubdtype from `float` to `np.floating` is deprecated. In future, it will be treated as `np.float64 == np.dtype(float).type`.\n",
      "  from ._conv import register_converters as _register_converters\n",
      "Using TensorFlow backend.\n"
     ]
    },
    {
     "name": "stdout",
     "output_type": "stream",
     "text": [
      "Path setup.\n"
     ]
    }
   ],
   "source": [
    "import os\n",
    "import numpy as np\n",
    "import pandas as pd\n",
    "import tensorflow as tf\n",
    "import matplotlib.pyplot as plt\n",
    "from keras.callbacks import CSVLogger, EarlyStopping, ModelCheckpoint, ReduceLROnPlateau, TensorBoard\n",
    "\n",
    "%load_ext autoreload\n",
    "%autoreload 2\n",
    "%matplotlib inline\n",
    "\n",
    "import _init_path\n",
    "from UNet import UNet\n",
    "from inference import inference\n",
    "from metrics import mean_iou, dice_coef_loss\n",
    "\n",
    "from config import ClfResumeConfig\n",
    "conf = ClfResumeConfig()\n",
    "\n",
    "os.environ[\"CUDA_DEVICE_ORDER\"] = \"PCI_BUS_ID\"\n",
    "os.environ[\"CUDA_VISIBLE_DEVICES\"] = str(conf.gpu)\n",
    "\n",
    "configproto = tf.ConfigProto()\n",
    "configproto.gpu_options.allow_growth = True\n",
    "sess = tf.Session(config=configproto)\n",
    "\n",
    "# Load Data\n",
    "\n",
    "%%time\n",
    "with np.load(conf.train_load_path) as f:\n",
    "    print(f.files)\n",
    "    train_images = f['images']\n",
    "    train_masks = f['masks']\n",
    "\n",
    "%%time\n",
    "with np.load(conf.test_load_path) as f:\n",
    "    print(f.files)\n",
    "    test_images = f['images']\n",
    "    test_image_shapes = f['shapes']\n",
    "\n",
    "train_data = train_images / 255\n",
    "train_labels = np.expand_dims(train_masks, axis=-1)\n",
    "\n",
    "train_data.shape, train_labels.shape\n",
    "\n",
    "train_data.max(), train_data.min(), np.unique(train_labels)\n",
    "\n",
    "# Model\n",
    "\n",
    "model = UNet()\n",
    "\n",
    "model.compile(optimizer=conf.optimizer, loss=conf.loss, metrics=[mean_iou])\n",
    "model.summary()\n",
    "\n",
    "\n",
    "\n",
    "checkpointer = ModelCheckpoint(filepath=conf.weight_path, verbose=1, period=5, save_weights_only=True)\n",
    "best_keeper = ModelCheckpoint(filepath=conf.best_path, verbose=1, save_weights_only=True,\n",
    "                              monitor='val_mean_iou', save_best_only=True, period=1, mode='max')\n",
    "\n",
    "csv_logger = CSVLogger(conf.csv_path)\n",
    "tensorboard = TensorBoard(log_dir=conf.log_path)\n",
    "\n",
    "early_stopping = EarlyStopping(monitor='val_mean_iou', min_delta=0, mode='max', patience=conf.val_patience, verbose=1)\n",
    "lr_reducer = ReduceLROnPlateau(monitor='val_mean_iou', factor=conf.lr_reduce_ratio, patience=conf.lr_patience,\n",
    "                               verbose=1, mode='max', epsilon=1.e-5, cooldown=conf.cooldown, min_lr=conf.min_lr)\n",
    "\n",
    "with open(conf.yaml_path, \"w\") as f:\n",
    "    f.write(model.to_yaml())\n",
    "\n",
    "print(\"Started training @%s.\" % conf.now())\n",
    "\n",
    "model.fit(train_data, train_labels, validation_split=0.1,\n",
    "          batch_size=conf.steps, epochs=conf.epochs, #max_queue_size=conf.steps * 50,\n",
    "          callbacks=[checkpointer, best_keeper, csv_logger, early_stopping, lr_reducer, tensorboard])\n",
    "\n",
    "model.save_weights(conf.final_path)\n",
    "print(\"Finished @%s.\" % conf.now())\n",
    "\n",
    "\n",
    "\n",
    "test_image_shape = test_image_shapes\n",
    "model.load_model('../weights/UNet/model-dsbowl2018-1.h5', custom_objects={'mean_iou': mean_iou})\n",
    "\n",
    "test_df = inference(model, test_image_shape)\n",
    "\n",
    "n_img = 6\n",
    "\n",
    "fig, m_axs = plt.subplots(n_img, 3, figsize = (12, 24))\n",
    "\n",
    "for (_, d_row), (c_im, c_lab, c_clean) in zip(test_df.sample(n_img).iterrows(), \n",
    "                                     m_axs):\n",
    "    c_im.imshow(imread(d_row['path']))\n",
    "    c_im.axis('off')\n",
    "    c_im.set_title('Microscope')\n",
    "    \n",
    "    c_lab.imshow(d_row['mask'])\n",
    "    c_lab.axis('off')\n",
    "    c_lab.set_title('Predicted')\n",
    "    \n",
    "    c_clean.imshow(clean_img(d_row['mask']))\n",
    "    c_clean.axis('off')\n",
    "    c_clean.set_title('Clean')"
   ]
  }
 ],
 "metadata": {
  "anaconda-cloud": {},
  "kernelspec": {
   "display_name": "Python [conda root]",
   "language": "python",
   "name": "conda-root-py"
  },
  "language_info": {
   "codemirror_mode": {
    "name": "ipython",
    "version": 3
   },
   "file_extension": ".py",
   "mimetype": "text/x-python",
   "name": "python",
   "nbconvert_exporter": "python",
   "pygments_lexer": "ipython3",
   "version": "3.5.4"
  }
 },
 "nbformat": 4,
 "nbformat_minor": 1
}
