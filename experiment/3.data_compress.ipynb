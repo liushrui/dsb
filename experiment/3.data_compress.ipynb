{
 "cells": [
  {
   "cell_type": "markdown",
   "metadata": {},
   "source": [
    "https://www.kaggle.com/kmader/nuclei-overview-to-submission/notebook  \n",
    "https://www.kaggle.com/keegil/keras-u-net-starter-lb-0-277/notebook"
   ]
  },
  {
   "cell_type": "code",
   "execution_count": 1,
   "metadata": {
    "collapsed": true
   },
   "outputs": [],
   "source": [
    "import os\n",
    "import glob\n",
    "import warnings\n",
    "import numpy as np\n",
    "import pandas as pd\n",
    "from glob import glob\n",
    "\n",
    "import matplotlib.pyplot as plt\n",
    "from skimage.transform import resize\n",
    "from skimage.io import imread, imshow\n",
    "\n",
    "%matplotlib inline\n",
    "warnings.filterwarnings('ignore', category=UserWarning, module='skimage')"
   ]
  },
  {
   "cell_type": "code",
   "execution_count": 2,
   "metadata": {
    "collapsed": false
   },
   "outputs": [
    {
     "data": {
      "text/plain": [
       "30196"
      ]
     },
     "execution_count": 2,
     "metadata": {},
     "output_type": "execute_result"
    }
   ],
   "source": [
    "all_path = glob(os.path.join('data', '*_stage1', '*', '*', '*'))\n",
    "\n",
    "len(all_path)"
   ]
  },
  {
   "cell_type": "code",
   "execution_count": 3,
   "metadata": {
    "collapsed": true
   },
   "outputs": [],
   "source": [
    "path_df = pd.DataFrame(index=all_path)\n",
    "\n",
    "img_type = lambda path: path.split('/')[-2]\n",
    "img_id = lambda path: path.split('/')[-3]\n",
    "img_group = lambda path: path.split('/')[-4].split('_')[0]\n",
    "img_stage =lambda path: path.split('/')[-4].split('_')[1]\n",
    "\n",
    "path_df['Image_STAGE'] = path_df.index.map(img_stage)\n",
    "path_df['Image_GROUP'] = path_df.index.map(img_group)\n",
    "path_df['Image_ID'] = path_df.index.map(img_id)\n",
    "path_df['Image_TYPE'] = path_df.index.map(img_type)\n"
   ]
  },
  {
   "cell_type": "code",
   "execution_count": 4,
   "metadata": {
    "collapsed": false
   },
   "outputs": [
    {
     "data": {
      "text/html": [
       "<div>\n",
       "<style>\n",
       "    .dataframe thead tr:only-child th {\n",
       "        text-align: right;\n",
       "    }\n",
       "\n",
       "    .dataframe thead th {\n",
       "        text-align: left;\n",
       "    }\n",
       "\n",
       "    .dataframe tbody tr th {\n",
       "        vertical-align: top;\n",
       "    }\n",
       "</style>\n",
       "<table border=\"1\" class=\"dataframe\">\n",
       "  <thead>\n",
       "    <tr style=\"text-align: right;\">\n",
       "      <th></th>\n",
       "      <th>Image_ID</th>\n",
       "      <th>Image_GROUP</th>\n",
       "      <th>Image_TYPE</th>\n",
       "      <th>Image_STAGE</th>\n",
       "    </tr>\n",
       "  </thead>\n",
       "  <tbody>\n",
       "    <tr>\n",
       "      <th>data/train_stage1/a9d884ba0929dac87c2052ce5b15034163685317d7cff45c40b0f7bd9bd4d9e7/masks/235e0f8b86d5c55c4a06824609a73529f635c35662e923125afa6547bb3e94fc.png</th>\n",
       "      <td>a9d884ba0929dac87c2052ce5b15034163685317d7cff4...</td>\n",
       "      <td>train</td>\n",
       "      <td>masks</td>\n",
       "      <td>stage1</td>\n",
       "    </tr>\n",
       "    <tr>\n",
       "      <th>data/train_stage1/a9d884ba0929dac87c2052ce5b15034163685317d7cff45c40b0f7bd9bd4d9e7/masks/f7bcd4e0827008b727de64a8cb8b711c05a60d70ea5ec502750889a4c16ff649.png</th>\n",
       "      <td>a9d884ba0929dac87c2052ce5b15034163685317d7cff4...</td>\n",
       "      <td>train</td>\n",
       "      <td>masks</td>\n",
       "      <td>stage1</td>\n",
       "    </tr>\n",
       "    <tr>\n",
       "      <th>data/train_stage1/a9d884ba0929dac87c2052ce5b15034163685317d7cff45c40b0f7bd9bd4d9e7/masks/11ac8eace5d73fc8054822b46db13e09813527faa13ced27b34438a71ae283fe.png</th>\n",
       "      <td>a9d884ba0929dac87c2052ce5b15034163685317d7cff4...</td>\n",
       "      <td>train</td>\n",
       "      <td>masks</td>\n",
       "      <td>stage1</td>\n",
       "    </tr>\n",
       "    <tr>\n",
       "      <th>data/train_stage1/a9d884ba0929dac87c2052ce5b15034163685317d7cff45c40b0f7bd9bd4d9e7/masks/284555ce90e1a496fa3614caebd5c950e8958bcb6fcba15a3c3348adf6f95a45.png</th>\n",
       "      <td>a9d884ba0929dac87c2052ce5b15034163685317d7cff4...</td>\n",
       "      <td>train</td>\n",
       "      <td>masks</td>\n",
       "      <td>stage1</td>\n",
       "    </tr>\n",
       "    <tr>\n",
       "      <th>data/train_stage1/a9d884ba0929dac87c2052ce5b15034163685317d7cff45c40b0f7bd9bd4d9e7/masks/f3aa2fb4bbf59cadb44b80816e27829d53a42a3070b25344b940d74c7f904081.png</th>\n",
       "      <td>a9d884ba0929dac87c2052ce5b15034163685317d7cff4...</td>\n",
       "      <td>train</td>\n",
       "      <td>masks</td>\n",
       "      <td>stage1</td>\n",
       "    </tr>\n",
       "  </tbody>\n",
       "</table>\n",
       "</div>"
      ],
      "text/plain": [
       "                                                                                             Image_ID  \\\n",
       "data/train_stage1/a9d884ba0929dac87c2052ce5b150...  a9d884ba0929dac87c2052ce5b15034163685317d7cff4...   \n",
       "data/train_stage1/a9d884ba0929dac87c2052ce5b150...  a9d884ba0929dac87c2052ce5b15034163685317d7cff4...   \n",
       "data/train_stage1/a9d884ba0929dac87c2052ce5b150...  a9d884ba0929dac87c2052ce5b15034163685317d7cff4...   \n",
       "data/train_stage1/a9d884ba0929dac87c2052ce5b150...  a9d884ba0929dac87c2052ce5b15034163685317d7cff4...   \n",
       "data/train_stage1/a9d884ba0929dac87c2052ce5b150...  a9d884ba0929dac87c2052ce5b15034163685317d7cff4...   \n",
       "\n",
       "                                                   Image_GROUP Image_TYPE  \\\n",
       "data/train_stage1/a9d884ba0929dac87c2052ce5b150...       train      masks   \n",
       "data/train_stage1/a9d884ba0929dac87c2052ce5b150...       train      masks   \n",
       "data/train_stage1/a9d884ba0929dac87c2052ce5b150...       train      masks   \n",
       "data/train_stage1/a9d884ba0929dac87c2052ce5b150...       train      masks   \n",
       "data/train_stage1/a9d884ba0929dac87c2052ce5b150...       train      masks   \n",
       "\n",
       "                                                   Image_STAGE  \n",
       "data/train_stage1/a9d884ba0929dac87c2052ce5b150...      stage1  \n",
       "data/train_stage1/a9d884ba0929dac87c2052ce5b150...      stage1  \n",
       "data/train_stage1/a9d884ba0929dac87c2052ce5b150...      stage1  \n",
       "data/train_stage1/a9d884ba0929dac87c2052ce5b150...      stage1  \n",
       "data/train_stage1/a9d884ba0929dac87c2052ce5b150...      stage1  "
      ]
     },
     "execution_count": 4,
     "metadata": {},
     "output_type": "execute_result"
    }
   ],
   "source": [
    "path_df.head()"
   ]
  },
  {
   "cell_type": "code",
   "execution_count": 5,
   "metadata": {
    "collapsed": false
   },
   "outputs": [
    {
     "data": {
      "text/html": [
       "<div>\n",
       "<style>\n",
       "    .dataframe thead tr:only-child th {\n",
       "        text-align: right;\n",
       "    }\n",
       "\n",
       "    .dataframe thead th {\n",
       "        text-align: left;\n",
       "    }\n",
       "\n",
       "    .dataframe tbody tr th {\n",
       "        vertical-align: top;\n",
       "    }\n",
       "</style>\n",
       "<table border=\"1\" class=\"dataframe\">\n",
       "  <thead>\n",
       "    <tr style=\"text-align: right;\">\n",
       "      <th></th>\n",
       "      <th>Image_ID</th>\n",
       "      <th>Image_GROUP</th>\n",
       "      <th>Image_TYPE</th>\n",
       "      <th>Image_STAGE</th>\n",
       "    </tr>\n",
       "  </thead>\n",
       "  <tbody>\n",
       "    <tr>\n",
       "      <th>count</th>\n",
       "      <td>30196</td>\n",
       "      <td>30196</td>\n",
       "      <td>30196</td>\n",
       "      <td>30196</td>\n",
       "    </tr>\n",
       "    <tr>\n",
       "      <th>unique</th>\n",
       "      <td>735</td>\n",
       "      <td>2</td>\n",
       "      <td>2</td>\n",
       "      <td>1</td>\n",
       "    </tr>\n",
       "    <tr>\n",
       "      <th>top</th>\n",
       "      <td>a102535b0e88374bea4a1cfd9ee7cb3822ff54f4ab2a98...</td>\n",
       "      <td>train</td>\n",
       "      <td>masks</td>\n",
       "      <td>stage1</td>\n",
       "    </tr>\n",
       "    <tr>\n",
       "      <th>freq</th>\n",
       "      <td>376</td>\n",
       "      <td>30131</td>\n",
       "      <td>29461</td>\n",
       "      <td>30196</td>\n",
       "    </tr>\n",
       "  </tbody>\n",
       "</table>\n",
       "</div>"
      ],
      "text/plain": [
       "                                                 Image_ID Image_GROUP  \\\n",
       "count                                               30196       30196   \n",
       "unique                                                735           2   \n",
       "top     a102535b0e88374bea4a1cfd9ee7cb3822ff54f4ab2a98...       train   \n",
       "freq                                                  376       30131   \n",
       "\n",
       "       Image_TYPE Image_STAGE  \n",
       "count       30196       30196  \n",
       "unique          2           1  \n",
       "top         masks      stage1  \n",
       "freq        29461       30196  "
      ]
     },
     "execution_count": 5,
     "metadata": {},
     "output_type": "execute_result"
    }
   ],
   "source": [
    "path_df.describe()"
   ]
  },
  {
   "cell_type": "markdown",
   "metadata": {},
   "source": [
    "### Train"
   ]
  },
  {
   "cell_type": "code",
   "execution_count": 6,
   "metadata": {
    "collapsed": false
   },
   "outputs": [
    {
     "name": "stdout",
     "output_type": "stream",
     "text": [
      "CPU times: user 2.23 s, sys: 36 ms, total: 2.27 s\n",
      "Wall time: 2.25 s\n"
     ]
    }
   ],
   "source": [
    "%%time\n",
    "\n",
    "train_df = path_df.query('Image_GROUP==\"train\"')\n",
    "train_rows = []\n",
    "group_cols = ['Image_STAGE', 'Image_ID']\n",
    "\n",
    "for n_group, n_rows in train_df.groupby(group_cols):\n",
    "    c_row = {col_name: col_value for col_name, col_value in zip(group_cols, n_group)}\n",
    "    c_row['masks_path'] = n_rows.query('Image_TYPE == \"masks\"').index.tolist()\n",
    "    c_row['image_path'] = n_rows.query('Image_TYPE == \"images\"').index[0]\n",
    "    train_rows += [c_row]\n",
    "train_img_df = pd.DataFrame(train_rows)"
   ]
  },
  {
   "cell_type": "code",
   "execution_count": 7,
   "metadata": {
    "collapsed": false
   },
   "outputs": [
    {
     "data": {
      "text/plain": [
       "(256, 256, 4)      334\n",
       "(256, 320, 4)      112\n",
       "(520, 696, 4)       92\n",
       "(360, 360, 4)       91\n",
       "(1024, 1024, 4)     16\n",
       "(512, 640, 4)       13\n",
       "(603, 1272, 4)       6\n",
       "(260, 347, 4)        5\n",
       "(1040, 1388, 4)      1\n",
       "Name: shape, dtype: int64"
      ]
     },
     "execution_count": 7,
     "metadata": {},
     "output_type": "execute_result"
    }
   ],
   "source": [
    "# %%time\n",
    "\n",
    "train_img_df['shape'] = train_img_df['image_path'].map(lambda x: imread(x).shape)\n",
    "train_img_df['shape'].value_counts()\n",
    "\n",
    "# train_img_df['max'] = train_img_df['image_path'].map(lambda x: imread(x).max())\n",
    "# train_img_df['max'].value_counts()\n",
    "\n",
    "# train_img_df['min'] = train_img_df['image_path'].map(lambda x: imread(x).min())\n",
    "# train_img_df['min'].value_counts()"
   ]
  },
  {
   "cell_type": "code",
   "execution_count": 8,
   "metadata": {
    "collapsed": true
   },
   "outputs": [],
   "source": [
    "img_height, img_width, img_channels = 256, 256, 3"
   ]
  },
  {
   "cell_type": "markdown",
   "metadata": {},
   "source": [
    "Train Images"
   ]
  },
  {
   "cell_type": "code",
   "execution_count": 9,
   "metadata": {
    "collapsed": false
   },
   "outputs": [
    {
     "name": "stdout",
     "output_type": "stream",
     "text": [
      "CPU times: user 13.7 s, sys: 22.6 s, total: 36.2 s\n",
      "Wall time: 11.2 s\n"
     ]
    }
   ],
   "source": [
    "%%time\n",
    "image_array_list = [resize(imread(train_img_df.loc[_, 'image_path']), (img_height, img_width), preserve_range=True) \\\n",
    "                    for _ in range(train_img_df.shape[0])]"
   ]
  },
  {
   "cell_type": "code",
   "execution_count": 10,
   "metadata": {
    "collapsed": false
   },
   "outputs": [],
   "source": [
    "image_array = np.stack(image_array_list)[:, :, :, :3]"
   ]
  },
  {
   "cell_type": "code",
   "execution_count": 13,
   "metadata": {
    "collapsed": false
   },
   "outputs": [
    {
     "data": {
      "text/plain": [
       "(670, 256, 256, 3)"
      ]
     },
     "execution_count": 13,
     "metadata": {},
     "output_type": "execute_result"
    }
   ],
   "source": [
    "image_array.shape"
   ]
  },
  {
   "cell_type": "markdown",
   "metadata": {},
   "source": [
    "Train Masks"
   ]
  },
  {
   "cell_type": "code",
   "execution_count": 14,
   "metadata": {
    "collapsed": false
   },
   "outputs": [
    {
     "name": "stdout",
     "output_type": "stream",
     "text": [
      "CPU times: user 34.4 s, sys: 35.4 s, total: 1min 9s\n",
      "Wall time: 31.9 s\n"
     ]
    }
   ],
   "source": [
    "%%time\n",
    "masks_array_list = [resize(np.sum(np.stack([imread(mask_path) for mask_path in train_img_df.loc[_, 'masks_path']]), axis=0), #np.max\n",
    "                           (img_height, img_width), preserve_range=True) for _ in range(train_img_df.shape[0])]"
   ]
  },
  {
   "cell_type": "code",
   "execution_count": 15,
   "metadata": {
    "collapsed": false,
    "scrolled": true
   },
   "outputs": [],
   "source": [
    "masks_array = (np.stack(masks_array_list) / 255).astype(int)"
   ]
  },
  {
   "cell_type": "code",
   "execution_count": 16,
   "metadata": {
    "collapsed": false
   },
   "outputs": [
    {
     "data": {
      "text/plain": [
       "(670, 256, 256)"
      ]
     },
     "execution_count": 16,
     "metadata": {},
     "output_type": "execute_result"
    }
   ],
   "source": [
    "masks_array.shape"
   ]
  },
  {
   "cell_type": "markdown",
   "metadata": {},
   "source": [
    "Save"
   ]
  },
  {
   "cell_type": "code",
   "execution_count": null,
   "metadata": {
    "collapsed": true
   },
   "outputs": [],
   "source": [
    "save_path = 'stage1_train_data_compressed.npz'"
   ]
  },
  {
   "cell_type": "code",
   "execution_count": 17,
   "metadata": {
    "collapsed": true
   },
   "outputs": [],
   "source": [
    "np.savez_compressed(save_path, images=image_array, masks=masks_array)"
   ]
  },
  {
   "cell_type": "markdown",
   "metadata": {},
   "source": [
    "Load"
   ]
  },
  {
   "cell_type": "code",
   "execution_count": 19,
   "metadata": {
    "collapsed": true
   },
   "outputs": [],
   "source": [
    "load_path = 'stage1_train_data_compressed.npz'"
   ]
  },
  {
   "cell_type": "code",
   "execution_count": 20,
   "metadata": {
    "collapsed": false
   },
   "outputs": [
    {
     "name": "stdout",
     "output_type": "stream",
     "text": [
      "['masks', 'images']\n",
      "CPU times: user 3.9 s, sys: 3.11 s, total: 7 s\n",
      "Wall time: 7 s\n"
     ]
    }
   ],
   "source": [
    "%%time\n",
    "with np.load(load_path) as f:\n",
    "    print(f.files)\n",
    "    train_images = f['images']\n",
    "    train_masks = f['masks']"
   ]
  },
  {
   "cell_type": "code",
   "execution_count": null,
   "metadata": {
    "collapsed": true
   },
   "outputs": [],
   "source": []
  },
  {
   "cell_type": "code",
   "execution_count": null,
   "metadata": {
    "collapsed": true
   },
   "outputs": [],
   "source": []
  },
  {
   "cell_type": "code",
   "execution_count": null,
   "metadata": {
    "collapsed": true
   },
   "outputs": [],
   "source": []
  },
  {
   "cell_type": "code",
   "execution_count": null,
   "metadata": {
    "collapsed": true
   },
   "outputs": [],
   "source": []
  },
  {
   "cell_type": "code",
   "execution_count": 21,
   "metadata": {
    "collapsed": false,
    "scrolled": true
   },
   "outputs": [
    {
     "name": "stderr",
     "output_type": "stream",
     "text": [
      "/home/liushrui/install/anaconda3/lib/python3.5/site-packages/skimage/io/_plugins/matplotlib_plugin.py:51: FutureWarning: Conversion of the second argument of issubdtype from `float` to `np.floating` is deprecated. In future, it will be treated as `np.float64 == np.dtype(float).type`.\n",
      "  out_of_range_float = (np.issubdtype(image.dtype, np.float) and\n"
     ]
    },
    {
     "data": {
      "text/plain": [
       "<matplotlib.image.AxesImage at 0x7f02d80a0048>"
      ]
     },
     "execution_count": 21,
     "metadata": {},
     "output_type": "execute_result"
    },
    {
     "data": {
      "image/png": "[encoded data removed]",
      "text/plain": [
       "<matplotlib.figure.Figure at 0x7f02d89cc4e0>"
      ]
     },
     "metadata": {},
     "output_type": "display_data"
    }
   ],
   "source": [
    "imshow(train_masks[100,:,:])"
   ]
  },
  {
   "cell_type": "code",
   "execution_count": 22,
   "metadata": {
    "collapsed": false
   },
   "outputs": [
    {
     "data": {
      "text/plain": [
       "Image_ID       23830d0e51245fc0c9e410efa4c17d2a7d83a0104a3777...\n",
       "Image_STAGE                                               stage1\n",
       "image_path     data/train_stage1/23830d0e51245fc0c9e410efa4c1...\n",
       "masks_path     [data/train_stage1/23830d0e51245fc0c9e410efa4c...\n",
       "shape                                              (256, 256, 4)\n",
       "Name: 100, dtype: object"
      ]
     },
     "execution_count": 22,
     "metadata": {},
     "output_type": "execute_result"
    }
   ],
   "source": [
    "train_img_df.loc[100, :]"
   ]
  },
  {
   "cell_type": "code",
   "execution_count": 23,
   "metadata": {
    "collapsed": false
   },
   "outputs": [
    {
     "name": "stderr",
     "output_type": "stream",
     "text": [
      "/home/liushrui/install/anaconda3/lib/python3.5/site-packages/skimage/io/_plugins/matplotlib_plugin.py:51: FutureWarning: Conversion of the second argument of issubdtype from `float` to `np.floating` is deprecated. In future, it will be treated as `np.float64 == np.dtype(float).type`.\n",
      "  out_of_range_float = (np.issubdtype(image.dtype, np.float) and\n"
     ]
    },
    {
     "data": {
      "text/plain": [
       "<matplotlib.image.AxesImage at 0x7f02b877a2e8>"
      ]
     },
     "execution_count": 23,
     "metadata": {},
     "output_type": "execute_result"
    },
    {
     "data": {
      "image/png": "[encoded data removed]",
      "text/plain": [
       "<matplotlib.figure.Figure at 0x7f02d805ea90>"
      ]
     },
     "metadata": {},
     "output_type": "display_data"
    }
   ],
   "source": [
    "s = np.sum(np.stack([imread(mask_path) for mask_path in train_img_df.loc[100, 'masks_path']]), 0)\n",
    "\n",
    "imshow(s)"
   ]
  },
  {
   "cell_type": "code",
   "execution_count": 24,
   "metadata": {
    "collapsed": false
   },
   "outputs": [
    {
     "name": "stderr",
     "output_type": "stream",
     "text": [
      "/home/liushrui/install/anaconda3/lib/python3.5/site-packages/skimage/io/_plugins/matplotlib_plugin.py:51: FutureWarning: Conversion of the second argument of issubdtype from `float` to `np.floating` is deprecated. In future, it will be treated as `np.float64 == np.dtype(float).type`.\n",
      "  out_of_range_float = (np.issubdtype(image.dtype, np.float) and\n"
     ]
    },
    {
     "data": {
      "text/plain": [
       "<matplotlib.image.AxesImage at 0x7f02b875b198>"
      ]
     },
     "execution_count": 24,
     "metadata": {},
     "output_type": "execute_result"
    },
    {
     "data": {
      "image/png": "[encoded data removed]",
      "text/plain": [
       "<matplotlib.figure.Figure at 0x7f02b87a4080>"
      ]
     },
     "metadata": {},
     "output_type": "display_data"
    }
   ],
   "source": [
    "imshow(masks_array[100,:,:])"
   ]
  },
  {
   "cell_type": "code",
   "execution_count": 25,
   "metadata": {
    "collapsed": false
   },
   "outputs": [
    {
     "name": "stderr",
     "output_type": "stream",
     "text": [
      "/home/liushrui/install/anaconda3/lib/python3.5/site-packages/skimage/io/_plugins/matplotlib_plugin.py:51: FutureWarning: Conversion of the second argument of issubdtype from `float` to `np.floating` is deprecated. In future, it will be treated as `np.float64 == np.dtype(float).type`.\n",
      "  out_of_range_float = (np.issubdtype(image.dtype, np.float) and\n"
     ]
    },
    {
     "data": {
      "text/plain": [
       "<matplotlib.image.AxesImage at 0x7f02b86c2550>"
      ]
     },
     "execution_count": 25,
     "metadata": {},
     "output_type": "execute_result"
    },
    {
     "data": {
      "image/png": "[encoded data removed]",
      "text/plain": [
       "<matplotlib.figure.Figure at 0x7f02b8767b38>"
      ]
     },
     "metadata": {},
     "output_type": "display_data"
    }
   ],
   "source": [
    "imshow(imread(train_img_df.loc[100, 'image_path']))"
   ]
  },
  {
   "cell_type": "code",
   "execution_count": null,
   "metadata": {
    "collapsed": true
   },
   "outputs": [],
   "source": []
  },
  {
   "cell_type": "code",
   "execution_count": null,
   "metadata": {
    "collapsed": true
   },
   "outputs": [],
   "source": []
  },
  {
   "cell_type": "code",
   "execution_count": null,
   "metadata": {
    "collapsed": true
   },
   "outputs": [],
   "source": []
  },
  {
   "cell_type": "markdown",
   "metadata": {
    "collapsed": true
   },
   "source": [
    "### Test"
   ]
  },
  {
   "cell_type": "code",
   "execution_count": 29,
   "metadata": {
    "collapsed": false
   },
   "outputs": [],
   "source": [
    "test_df = path_df.query('Image_GROUP==\"test\"')\n",
    "test_rows = []\n",
    "group_cols = ['Image_STAGE', 'Image_ID']\n",
    "\n",
    "for n_group, n_rows in test_df.groupby(group_cols):\n",
    "    c_row = {col_name: col_value for col_name, col_value in zip(group_cols, n_group)}\n",
    "    c_row['image_path'] = n_rows.query('Image_TYPE == \"images\"').index[0]\n",
    "    test_rows += [c_row]\n",
    "test_img_df = pd.DataFrame(test_rows)\n",
    "test_img_df['shape'] = test_img_df['image_path'].map(lambda x:imread(x).shape)"
   ]
  },
  {
   "cell_type": "code",
   "execution_count": 31,
   "metadata": {
    "collapsed": false,
    "scrolled": true
   },
   "outputs": [
    {
     "data": {
      "text/html": [
       "<div>\n",
       "<style>\n",
       "    .dataframe thead tr:only-child th {\n",
       "        text-align: right;\n",
       "    }\n",
       "\n",
       "    .dataframe thead th {\n",
       "        text-align: left;\n",
       "    }\n",
       "\n",
       "    .dataframe tbody tr th {\n",
       "        vertical-align: top;\n",
       "    }\n",
       "</style>\n",
       "<table border=\"1\" class=\"dataframe\">\n",
       "  <thead>\n",
       "    <tr style=\"text-align: right;\">\n",
       "      <th></th>\n",
       "      <th>Image_ID</th>\n",
       "      <th>Image_STAGE</th>\n",
       "      <th>image_path</th>\n",
       "      <th>shape</th>\n",
       "    </tr>\n",
       "  </thead>\n",
       "  <tbody>\n",
       "    <tr>\n",
       "      <th>0</th>\n",
       "      <td>0114f484a16c152baa2d82fdd43740880a762c93f436c8...</td>\n",
       "      <td>stage1</td>\n",
       "      <td>data/test_stage1/0114f484a16c152baa2d82fdd4374...</td>\n",
       "      <td>(256, 256, 4)</td>\n",
       "    </tr>\n",
       "    <tr>\n",
       "      <th>1</th>\n",
       "      <td>0999dab07b11bc85fb8464fc36c947fbd8b5d6ec498173...</td>\n",
       "      <td>stage1</td>\n",
       "      <td>data/test_stage1/0999dab07b11bc85fb8464fc36c94...</td>\n",
       "      <td>(519, 253, 3)</td>\n",
       "    </tr>\n",
       "    <tr>\n",
       "      <th>2</th>\n",
       "      <td>0a849e0eb15faa8a6d7329c3dd66aabe9a294cccb52ed3...</td>\n",
       "      <td>stage1</td>\n",
       "      <td>data/test_stage1/0a849e0eb15faa8a6d7329c3dd66a...</td>\n",
       "      <td>(256, 256, 3)</td>\n",
       "    </tr>\n",
       "    <tr>\n",
       "      <th>3</th>\n",
       "      <td>0e132f71c8b4875c3c2dd7a22997468a3e842b46aa9bd4...</td>\n",
       "      <td>stage1</td>\n",
       "      <td>data/test_stage1/0e132f71c8b4875c3c2dd7a229974...</td>\n",
       "      <td>(256, 256, 4)</td>\n",
       "    </tr>\n",
       "    <tr>\n",
       "      <th>4</th>\n",
       "      <td>0ed3555a4bd48046d3b63d8baf03a5aa97e523aa483aaa...</td>\n",
       "      <td>stage1</td>\n",
       "      <td>data/test_stage1/0ed3555a4bd48046d3b63d8baf03a...</td>\n",
       "      <td>(256, 256, 4)</td>\n",
       "    </tr>\n",
       "  </tbody>\n",
       "</table>\n",
       "</div>"
      ],
      "text/plain": [
       "                                            Image_ID Image_STAGE  \\\n",
       "0  0114f484a16c152baa2d82fdd43740880a762c93f436c8...      stage1   \n",
       "1  0999dab07b11bc85fb8464fc36c947fbd8b5d6ec498173...      stage1   \n",
       "2  0a849e0eb15faa8a6d7329c3dd66aabe9a294cccb52ed3...      stage1   \n",
       "3  0e132f71c8b4875c3c2dd7a22997468a3e842b46aa9bd4...      stage1   \n",
       "4  0ed3555a4bd48046d3b63d8baf03a5aa97e523aa483aaa...      stage1   \n",
       "\n",
       "                                          image_path          shape  \n",
       "0  data/test_stage1/0114f484a16c152baa2d82fdd4374...  (256, 256, 4)  \n",
       "1  data/test_stage1/0999dab07b11bc85fb8464fc36c94...  (519, 253, 3)  \n",
       "2  data/test_stage1/0a849e0eb15faa8a6d7329c3dd66a...  (256, 256, 3)  \n",
       "3  data/test_stage1/0e132f71c8b4875c3c2dd7a229974...  (256, 256, 4)  \n",
       "4  data/test_stage1/0ed3555a4bd48046d3b63d8baf03a...  (256, 256, 4)  "
      ]
     },
     "execution_count": 31,
     "metadata": {},
     "output_type": "execute_result"
    }
   ],
   "source": [
    "test_img_df.head()"
   ]
  },
  {
   "cell_type": "code",
   "execution_count": 32,
   "metadata": {
    "collapsed": false
   },
   "outputs": [
    {
     "data": {
      "text/plain": [
       "(256, 256, 4)    20\n",
       "(512, 640, 4)     8\n",
       "(512, 680, 3)     8\n",
       "(256, 256, 3)     4\n",
       "(519, 253, 3)     4\n",
       "(520, 348, 3)     4\n",
       "(260, 347, 4)     4\n",
       "(520, 696, 4)     4\n",
       "(524, 348, 3)     4\n",
       "(519, 161, 3)     2\n",
       "(519, 162, 3)     2\n",
       "(390, 239, 4)     1\n",
       "Name: shape, dtype: int64"
      ]
     },
     "execution_count": 32,
     "metadata": {},
     "output_type": "execute_result"
    }
   ],
   "source": [
    "test_img_df['shape'].value_counts()"
   ]
  },
  {
   "cell_type": "code",
   "execution_count": 45,
   "metadata": {
    "collapsed": false
   },
   "outputs": [
    {
     "name": "stdout",
     "output_type": "stream",
     "text": [
      "CPU times: user 1.39 s, sys: 1.94 s, total: 3.32 s\n",
      "Wall time: 1.11 s\n"
     ]
    }
   ],
   "source": [
    "%%time\n",
    "test_image_array_list = [resize(imread(test_img_df.loc[_, 'image_path']), (img_height, img_width), preserve_range=True)[:,:,:3] \\\n",
    "                         for _ in range(test_img_df.shape[0])]"
   ]
  },
  {
   "cell_type": "code",
   "execution_count": 46,
   "metadata": {
    "collapsed": false
   },
   "outputs": [
    {
     "data": {
      "text/plain": [
       "(65, 256, 256, 3)"
      ]
     },
     "execution_count": 46,
     "metadata": {},
     "output_type": "execute_result"
    }
   ],
   "source": [
    "test_image_array = np.stack(test_image_array_list)\n",
    "test_image_array.shape"
   ]
  },
  {
   "cell_type": "code",
   "execution_count": 50,
   "metadata": {
    "collapsed": true
   },
   "outputs": [],
   "source": [
    "test_save_path = 'stage1_test_data_compressed.npz'"
   ]
  },
  {
   "cell_type": "code",
   "execution_count": 59,
   "metadata": {
    "collapsed": false,
    "scrolled": true
   },
   "outputs": [],
   "source": [
    "test_image_shape = test_img_df['shape'].values"
   ]
  },
  {
   "cell_type": "code",
   "execution_count": 64,
   "metadata": {
    "collapsed": true
   },
   "outputs": [],
   "source": [
    "np.savez_compressed(test_save_path, images=test_image_array, shapes=test_image_shape)"
   ]
  },
  {
   "cell_type": "code",
   "execution_count": null,
   "metadata": {
    "collapsed": true
   },
   "outputs": [],
   "source": []
  },
  {
   "cell_type": "code",
   "execution_count": 65,
   "metadata": {
    "collapsed": false,
    "scrolled": true
   },
   "outputs": [
    {
     "data": {
      "text/html": [
       "<div>\n",
       "<style>\n",
       "    .dataframe thead tr:only-child th {\n",
       "        text-align: right;\n",
       "    }\n",
       "\n",
       "    .dataframe thead th {\n",
       "        text-align: left;\n",
       "    }\n",
       "\n",
       "    .dataframe tbody tr th {\n",
       "        vertical-align: top;\n",
       "    }\n",
       "</style>\n",
       "<table border=\"1\" class=\"dataframe\">\n",
       "  <thead>\n",
       "    <tr style=\"text-align: right;\">\n",
       "      <th></th>\n",
       "      <th>Image_ID</th>\n",
       "      <th>Image_STAGE</th>\n",
       "      <th>image_path</th>\n",
       "      <th>shape</th>\n",
       "    </tr>\n",
       "  </thead>\n",
       "  <tbody>\n",
       "    <tr>\n",
       "      <th>0</th>\n",
       "      <td>0114f484a16c152baa2d82fdd43740880a762c93f436c8...</td>\n",
       "      <td>stage1</td>\n",
       "      <td>data/test_stage1/0114f484a16c152baa2d82fdd4374...</td>\n",
       "      <td>(256, 256, 4)</td>\n",
       "    </tr>\n",
       "    <tr>\n",
       "      <th>1</th>\n",
       "      <td>0999dab07b11bc85fb8464fc36c947fbd8b5d6ec498173...</td>\n",
       "      <td>stage1</td>\n",
       "      <td>data/test_stage1/0999dab07b11bc85fb8464fc36c94...</td>\n",
       "      <td>(519, 253, 3)</td>\n",
       "    </tr>\n",
       "    <tr>\n",
       "      <th>2</th>\n",
       "      <td>0a849e0eb15faa8a6d7329c3dd66aabe9a294cccb52ed3...</td>\n",
       "      <td>stage1</td>\n",
       "      <td>data/test_stage1/0a849e0eb15faa8a6d7329c3dd66a...</td>\n",
       "      <td>(256, 256, 3)</td>\n",
       "    </tr>\n",
       "    <tr>\n",
       "      <th>3</th>\n",
       "      <td>0e132f71c8b4875c3c2dd7a22997468a3e842b46aa9bd4...</td>\n",
       "      <td>stage1</td>\n",
       "      <td>data/test_stage1/0e132f71c8b4875c3c2dd7a229974...</td>\n",
       "      <td>(256, 256, 4)</td>\n",
       "    </tr>\n",
       "    <tr>\n",
       "      <th>4</th>\n",
       "      <td>0ed3555a4bd48046d3b63d8baf03a5aa97e523aa483aaa...</td>\n",
       "      <td>stage1</td>\n",
       "      <td>data/test_stage1/0ed3555a4bd48046d3b63d8baf03a...</td>\n",
       "      <td>(256, 256, 4)</td>\n",
       "    </tr>\n",
       "    <tr>\n",
       "      <th>5</th>\n",
       "      <td>0f1f896d9ae5a04752d3239c690402c022db4d72c0d2c0...</td>\n",
       "      <td>stage1</td>\n",
       "      <td>data/test_stage1/0f1f896d9ae5a04752d3239c69040...</td>\n",
       "      <td>(512, 680, 3)</td>\n",
       "    </tr>\n",
       "    <tr>\n",
       "      <th>6</th>\n",
       "      <td>1747f62148a919c8feb6d607faeebdf504b5e2ad42b6b1...</td>\n",
       "      <td>stage1</td>\n",
       "      <td>data/test_stage1/1747f62148a919c8feb6d607faeeb...</td>\n",
       "      <td>(512, 640, 4)</td>\n",
       "    </tr>\n",
       "    <tr>\n",
       "      <th>7</th>\n",
       "      <td>17b9bf4356db24967c4677b8376ac38f826de73a88b93a...</td>\n",
       "      <td>stage1</td>\n",
       "      <td>data/test_stage1/17b9bf4356db24967c4677b8376ac...</td>\n",
       "      <td>(512, 680, 3)</td>\n",
       "    </tr>\n",
       "    <tr>\n",
       "      <th>8</th>\n",
       "      <td>1879f4f4f05e2bada0ffeb46c128b8df7a79b14c84f38c...</td>\n",
       "      <td>stage1</td>\n",
       "      <td>data/test_stage1/1879f4f4f05e2bada0ffeb46c128b...</td>\n",
       "      <td>(512, 640, 4)</td>\n",
       "    </tr>\n",
       "    <tr>\n",
       "      <th>9</th>\n",
       "      <td>191b2b2205f2f5cc9da04702c5d422bc249faf8bca1107...</td>\n",
       "      <td>stage1</td>\n",
       "      <td>data/test_stage1/191b2b2205f2f5cc9da04702c5d42...</td>\n",
       "      <td>(256, 256, 4)</td>\n",
       "    </tr>\n",
       "    <tr>\n",
       "      <th>10</th>\n",
       "      <td>1962d0c5faf3e85cda80e0578e0cb7aca50826d781620e...</td>\n",
       "      <td>stage1</td>\n",
       "      <td>data/test_stage1/1962d0c5faf3e85cda80e0578e0cb...</td>\n",
       "      <td>(519, 162, 3)</td>\n",
       "    </tr>\n",
       "    <tr>\n",
       "      <th>11</th>\n",
       "      <td>1cdbfee1951356e7b0a215073828695fe1ead5f8b1add1...</td>\n",
       "      <td>stage1</td>\n",
       "      <td>data/test_stage1/1cdbfee1951356e7b0a2150738286...</td>\n",
       "      <td>(512, 640, 4)</td>\n",
       "    </tr>\n",
       "    <tr>\n",
       "      <th>12</th>\n",
       "      <td>1d9eacb3161f1e2b45550389ecf7c535c7199c6b44b1c6...</td>\n",
       "      <td>stage1</td>\n",
       "      <td>data/test_stage1/1d9eacb3161f1e2b45550389ecf7c...</td>\n",
       "      <td>(524, 348, 3)</td>\n",
       "    </tr>\n",
       "    <tr>\n",
       "      <th>13</th>\n",
       "      <td>1ef68e93964c2d9230100c1347c328f6385a7bc027879d...</td>\n",
       "      <td>stage1</td>\n",
       "      <td>data/test_stage1/1ef68e93964c2d9230100c1347c32...</td>\n",
       "      <td>(256, 256, 4)</td>\n",
       "    </tr>\n",
       "    <tr>\n",
       "      <th>14</th>\n",
       "      <td>259b35151d4a7a5ffdd7ab7f171b142db8cfe40beeee67...</td>\n",
       "      <td>stage1</td>\n",
       "      <td>data/test_stage1/259b35151d4a7a5ffdd7ab7f171b1...</td>\n",
       "      <td>(512, 680, 3)</td>\n",
       "    </tr>\n",
       "    <tr>\n",
       "      <th>15</th>\n",
       "      <td>295682d9eb5acb5c1976a460c085734bfaf38482b0a3f0...</td>\n",
       "      <td>stage1</td>\n",
       "      <td>data/test_stage1/295682d9eb5acb5c1976a460c0857...</td>\n",
       "      <td>(256, 256, 4)</td>\n",
       "    </tr>\n",
       "    <tr>\n",
       "      <th>16</th>\n",
       "      <td>31f1fbe85b8899258ea5bcf5f93f7ac8238660c386aeab...</td>\n",
       "      <td>stage1</td>\n",
       "      <td>data/test_stage1/31f1fbe85b8899258ea5bcf5f93f7...</td>\n",
       "      <td>(256, 256, 4)</td>\n",
       "    </tr>\n",
       "    <tr>\n",
       "      <th>17</th>\n",
       "      <td>336d3e4105766f8ad328a7ee9571e743f376f8cbcf6a96...</td>\n",
       "      <td>stage1</td>\n",
       "      <td>data/test_stage1/336d3e4105766f8ad328a7ee9571e...</td>\n",
       "      <td>(519, 253, 3)</td>\n",
       "    </tr>\n",
       "    <tr>\n",
       "      <th>18</th>\n",
       "      <td>38f5cfb55fc8b048e82a5c895b25fefae7a70c71ab9990...</td>\n",
       "      <td>stage1</td>\n",
       "      <td>data/test_stage1/38f5cfb55fc8b048e82a5c895b25f...</td>\n",
       "      <td>(256, 256, 4)</td>\n",
       "    </tr>\n",
       "    <tr>\n",
       "      <th>19</th>\n",
       "      <td>3c4c675825f7509877bc10497f498c9a2e3433bf922bd8...</td>\n",
       "      <td>stage1</td>\n",
       "      <td>data/test_stage1/3c4c675825f7509877bc10497f498...</td>\n",
       "      <td>(524, 348, 3)</td>\n",
       "    </tr>\n",
       "    <tr>\n",
       "      <th>20</th>\n",
       "      <td>432f367a4c5b5674de2e2977744d10289a064e5704b21a...</td>\n",
       "      <td>stage1</td>\n",
       "      <td>data/test_stage1/432f367a4c5b5674de2e2977744d1...</td>\n",
       "      <td>(520, 348, 3)</td>\n",
       "    </tr>\n",
       "    <tr>\n",
       "      <th>21</th>\n",
       "      <td>43a71aeb641faa18742cb826772a8566c6c947d7050f9a...</td>\n",
       "      <td>stage1</td>\n",
       "      <td>data/test_stage1/43a71aeb641faa18742cb826772a8...</td>\n",
       "      <td>(260, 347, 4)</td>\n",
       "    </tr>\n",
       "    <tr>\n",
       "      <th>22</th>\n",
       "      <td>44afae184c89e6ba55985b4d341acc1ae1e8b6ef963120...</td>\n",
       "      <td>stage1</td>\n",
       "      <td>data/test_stage1/44afae184c89e6ba55985b4d341ac...</td>\n",
       "      <td>(512, 680, 3)</td>\n",
       "    </tr>\n",
       "    <tr>\n",
       "      <th>23</th>\n",
       "      <td>4727d94c6a57ed484270fdd8bbc6e3d5f2f15d5476794a...</td>\n",
       "      <td>stage1</td>\n",
       "      <td>data/test_stage1/4727d94c6a57ed484270fdd8bbc6e...</td>\n",
       "      <td>(256, 256, 4)</td>\n",
       "    </tr>\n",
       "    <tr>\n",
       "      <th>24</th>\n",
       "      <td>472b1c5ff988dadc209faea92499bc07f305208dbda29d...</td>\n",
       "      <td>stage1</td>\n",
       "      <td>data/test_stage1/472b1c5ff988dadc209faea92499b...</td>\n",
       "      <td>(512, 680, 3)</td>\n",
       "    </tr>\n",
       "    <tr>\n",
       "      <th>25</th>\n",
       "      <td>4be73d68f433869188fe5e7f09c7f681ed51003da6aa5d...</td>\n",
       "      <td>stage1</td>\n",
       "      <td>data/test_stage1/4be73d68f433869188fe5e7f09c7f...</td>\n",
       "      <td>(256, 256, 3)</td>\n",
       "    </tr>\n",
       "    <tr>\n",
       "      <th>26</th>\n",
       "      <td>4f949bd8d914bbfa06f40d6a0e2b5b75c38bf53dbcbafc...</td>\n",
       "      <td>stage1</td>\n",
       "      <td>data/test_stage1/4f949bd8d914bbfa06f40d6a0e2b5...</td>\n",
       "      <td>(390, 239, 4)</td>\n",
       "    </tr>\n",
       "    <tr>\n",
       "      <th>27</th>\n",
       "      <td>505bc0a3928d8aef5ce441c5a611fdd32e1e8eccdc15cc...</td>\n",
       "      <td>stage1</td>\n",
       "      <td>data/test_stage1/505bc0a3928d8aef5ce441c5a611f...</td>\n",
       "      <td>(512, 640, 4)</td>\n",
       "    </tr>\n",
       "    <tr>\n",
       "      <th>28</th>\n",
       "      <td>519dc0d672d1c295fc69b629af8721ccb1a1f136d19766...</td>\n",
       "      <td>stage1</td>\n",
       "      <td>data/test_stage1/519dc0d672d1c295fc69b629af872...</td>\n",
       "      <td>(256, 256, 4)</td>\n",
       "    </tr>\n",
       "    <tr>\n",
       "      <th>29</th>\n",
       "      <td>51c70bb8a299943b27f8b354571272692d8f2705036a1a...</td>\n",
       "      <td>stage1</td>\n",
       "      <td>data/test_stage1/51c70bb8a299943b27f8b35457127...</td>\n",
       "      <td>(256, 256, 4)</td>\n",
       "    </tr>\n",
       "    <tr>\n",
       "      <th>...</th>\n",
       "      <td>...</td>\n",
       "      <td>...</td>\n",
       "      <td>...</td>\n",
       "      <td>...</td>\n",
       "    </tr>\n",
       "    <tr>\n",
       "      <th>35</th>\n",
       "      <td>697a05c6fe4a07c601d46da80885645ad574ea19b47ee7...</td>\n",
       "      <td>stage1</td>\n",
       "      <td>data/test_stage1/697a05c6fe4a07c601d46da808856...</td>\n",
       "      <td>(256, 256, 3)</td>\n",
       "    </tr>\n",
       "    <tr>\n",
       "      <th>36</th>\n",
       "      <td>699f2992cd71e2e28cf45f81347ff22e76b37541ce8808...</td>\n",
       "      <td>stage1</td>\n",
       "      <td>data/test_stage1/699f2992cd71e2e28cf45f81347ff...</td>\n",
       "      <td>(260, 347, 4)</td>\n",
       "    </tr>\n",
       "    <tr>\n",
       "      <th>37</th>\n",
       "      <td>78a981bd27ba0c65a9169548665a17bda9f49050d0d389...</td>\n",
       "      <td>stage1</td>\n",
       "      <td>data/test_stage1/78a981bd27ba0c65a9169548665a1...</td>\n",
       "      <td>(520, 348, 3)</td>\n",
       "    </tr>\n",
       "    <tr>\n",
       "      <th>38</th>\n",
       "      <td>7bdb668e6127b7eafc837a883f0648002bd063c736f55a...</td>\n",
       "      <td>stage1</td>\n",
       "      <td>data/test_stage1/7bdb668e6127b7eafc837a883f064...</td>\n",
       "      <td>(512, 640, 4)</td>\n",
       "    </tr>\n",
       "    <tr>\n",
       "      <th>39</th>\n",
       "      <td>7f4cbe0b36b5d09466476a7d4e01f4f976c67872d549f4...</td>\n",
       "      <td>stage1</td>\n",
       "      <td>data/test_stage1/7f4cbe0b36b5d09466476a7d4e01f...</td>\n",
       "      <td>(256, 256, 3)</td>\n",
       "    </tr>\n",
       "    <tr>\n",
       "      <th>40</th>\n",
       "      <td>8922a6ac8fd0258ec27738ca101867169b20d90a60fc84...</td>\n",
       "      <td>stage1</td>\n",
       "      <td>data/test_stage1/8922a6ac8fd0258ec27738ca10186...</td>\n",
       "      <td>(512, 640, 4)</td>\n",
       "    </tr>\n",
       "    <tr>\n",
       "      <th>41</th>\n",
       "      <td>8b59819fbc92eefe45b1db95c0cc3a467ddcfc755684c7...</td>\n",
       "      <td>stage1</td>\n",
       "      <td>data/test_stage1/8b59819fbc92eefe45b1db95c0cc3...</td>\n",
       "      <td>(520, 696, 4)</td>\n",
       "    </tr>\n",
       "    <tr>\n",
       "      <th>42</th>\n",
       "      <td>912a679e4b9b1d1a75170254fd675b8c24b664d80ad7ea...</td>\n",
       "      <td>stage1</td>\n",
       "      <td>data/test_stage1/912a679e4b9b1d1a75170254fd675...</td>\n",
       "      <td>(256, 256, 4)</td>\n",
       "    </tr>\n",
       "    <tr>\n",
       "      <th>43</th>\n",
       "      <td>9ab2d381f90b485a68b82bc07f94397a0373e3215ad209...</td>\n",
       "      <td>stage1</td>\n",
       "      <td>data/test_stage1/9ab2d381f90b485a68b82bc07f943...</td>\n",
       "      <td>(512, 640, 4)</td>\n",
       "    </tr>\n",
       "    <tr>\n",
       "      <th>44</th>\n",
       "      <td>9f17aea854db13015d19b34cb2022cfdeda44133323fcd...</td>\n",
       "      <td>stage1</td>\n",
       "      <td>data/test_stage1/9f17aea854db13015d19b34cb2022...</td>\n",
       "      <td>(512, 680, 3)</td>\n",
       "    </tr>\n",
       "    <tr>\n",
       "      <th>45</th>\n",
       "      <td>a4816cc1fb76cb3c5e481186833fc0ae9cf426a1406a26...</td>\n",
       "      <td>stage1</td>\n",
       "      <td>data/test_stage1/a4816cc1fb76cb3c5e481186833fc...</td>\n",
       "      <td>(519, 253, 3)</td>\n",
       "    </tr>\n",
       "    <tr>\n",
       "      <th>46</th>\n",
       "      <td>a984e7fb886aa02e29d112766d3ce26a4f78eac540ce7b...</td>\n",
       "      <td>stage1</td>\n",
       "      <td>data/test_stage1/a984e7fb886aa02e29d112766d3ce...</td>\n",
       "      <td>(519, 161, 3)</td>\n",
       "    </tr>\n",
       "    <tr>\n",
       "      <th>47</th>\n",
       "      <td>ab298b962a63e4be9582513aaa84a5e270adba5fd2b16a...</td>\n",
       "      <td>stage1</td>\n",
       "      <td>data/test_stage1/ab298b962a63e4be9582513aaa84a...</td>\n",
       "      <td>(256, 256, 4)</td>\n",
       "    </tr>\n",
       "    <tr>\n",
       "      <th>48</th>\n",
       "      <td>ade080c6618cbbb0a25680cf847f312b5e19b22bfe1caf...</td>\n",
       "      <td>stage1</td>\n",
       "      <td>data/test_stage1/ade080c6618cbbb0a25680cf847f3...</td>\n",
       "      <td>(520, 696, 4)</td>\n",
       "    </tr>\n",
       "    <tr>\n",
       "      <th>49</th>\n",
       "      <td>b83d1d77935b6cfd44105b54600ffc4b6bd82de57dec65...</td>\n",
       "      <td>stage1</td>\n",
       "      <td>data/test_stage1/b83d1d77935b6cfd44105b54600ff...</td>\n",
       "      <td>(524, 348, 3)</td>\n",
       "    </tr>\n",
       "    <tr>\n",
       "      <th>50</th>\n",
       "      <td>bdc789019cee8ddfae20d5f769299993b4b330b2d38d12...</td>\n",
       "      <td>stage1</td>\n",
       "      <td>data/test_stage1/bdc789019cee8ddfae20d5f769299...</td>\n",
       "      <td>(520, 696, 4)</td>\n",
       "    </tr>\n",
       "    <tr>\n",
       "      <th>51</th>\n",
       "      <td>c8e79ff4ac55f4b772057de28e539727b7f4f2a3de73bf...</td>\n",
       "      <td>stage1</td>\n",
       "      <td>data/test_stage1/c8e79ff4ac55f4b772057de28e539...</td>\n",
       "      <td>(524, 348, 3)</td>\n",
       "    </tr>\n",
       "    <tr>\n",
       "      <th>52</th>\n",
       "      <td>ca20076870e8fb604e61802605a9ac45419c82dd3e2340...</td>\n",
       "      <td>stage1</td>\n",
       "      <td>data/test_stage1/ca20076870e8fb604e61802605a9a...</td>\n",
       "      <td>(519, 161, 3)</td>\n",
       "    </tr>\n",
       "    <tr>\n",
       "      <th>53</th>\n",
       "      <td>d616d323a9eeb9da1b66f8d5df671d63c092c9919cb2c0...</td>\n",
       "      <td>stage1</td>\n",
       "      <td>data/test_stage1/d616d323a9eeb9da1b66f8d5df671...</td>\n",
       "      <td>(519, 162, 3)</td>\n",
       "    </tr>\n",
       "    <tr>\n",
       "      <th>54</th>\n",
       "      <td>d6eb7ce7723e2f6dc13b90b41a29ded27dbd815bad633f...</td>\n",
       "      <td>stage1</td>\n",
       "      <td>data/test_stage1/d6eb7ce7723e2f6dc13b90b41a29d...</td>\n",
       "      <td>(520, 348, 3)</td>\n",
       "    </tr>\n",
       "    <tr>\n",
       "      <th>55</th>\n",
       "      <td>d8d4bf68a76e4e4c5f21de7ac613451f7115a04db68615...</td>\n",
       "      <td>stage1</td>\n",
       "      <td>data/test_stage1/d8d4bf68a76e4e4c5f21de7ac6134...</td>\n",
       "      <td>(256, 256, 4)</td>\n",
       "    </tr>\n",
       "    <tr>\n",
       "      <th>56</th>\n",
       "      <td>da6c593410340b19bb212b9f6d274f95b08c0fc8f2570c...</td>\n",
       "      <td>stage1</td>\n",
       "      <td>data/test_stage1/da6c593410340b19bb212b9f6d274...</td>\n",
       "      <td>(512, 680, 3)</td>\n",
       "    </tr>\n",
       "    <tr>\n",
       "      <th>57</th>\n",
       "      <td>dab46d798d29aff2e99c23f47ed3064f5cafb1644629b0...</td>\n",
       "      <td>stage1</td>\n",
       "      <td>data/test_stage1/dab46d798d29aff2e99c23f47ed30...</td>\n",
       "      <td>(256, 256, 4)</td>\n",
       "    </tr>\n",
       "    <tr>\n",
       "      <th>58</th>\n",
       "      <td>df40099c6306ca1f47fcc8a62e2fa39486d4e223177afd...</td>\n",
       "      <td>stage1</td>\n",
       "      <td>data/test_stage1/df40099c6306ca1f47fcc8a62e2fa...</td>\n",
       "      <td>(260, 347, 4)</td>\n",
       "    </tr>\n",
       "    <tr>\n",
       "      <th>59</th>\n",
       "      <td>e17b7aedd251a016c01ef9158e6e4aa940d9f1b35942d8...</td>\n",
       "      <td>stage1</td>\n",
       "      <td>data/test_stage1/e17b7aedd251a016c01ef9158e6e4...</td>\n",
       "      <td>(256, 256, 4)</td>\n",
       "    </tr>\n",
       "    <tr>\n",
       "      <th>60</th>\n",
       "      <td>eea70a7948d25a9a791dbcb39228af4ea4049fe5ebdee9...</td>\n",
       "      <td>stage1</td>\n",
       "      <td>data/test_stage1/eea70a7948d25a9a791dbcb39228a...</td>\n",
       "      <td>(519, 253, 3)</td>\n",
       "    </tr>\n",
       "    <tr>\n",
       "      <th>61</th>\n",
       "      <td>f0d0ab13ff53adc3c4d57e95a5f83d80b06f2cbc0bf002...</td>\n",
       "      <td>stage1</td>\n",
       "      <td>data/test_stage1/f0d0ab13ff53adc3c4d57e95a5f83...</td>\n",
       "      <td>(520, 696, 4)</td>\n",
       "    </tr>\n",
       "    <tr>\n",
       "      <th>62</th>\n",
       "      <td>f5effed21f671bbf4551ecebb7fe95f3be1cf09c16a60a...</td>\n",
       "      <td>stage1</td>\n",
       "      <td>data/test_stage1/f5effed21f671bbf4551ecebb7fe9...</td>\n",
       "      <td>(512, 680, 3)</td>\n",
       "    </tr>\n",
       "    <tr>\n",
       "      <th>63</th>\n",
       "      <td>fac507fa4d1649e8b24c195d990f1fc3ca3633d917839e...</td>\n",
       "      <td>stage1</td>\n",
       "      <td>data/test_stage1/fac507fa4d1649e8b24c195d990f1...</td>\n",
       "      <td>(256, 256, 4)</td>\n",
       "    </tr>\n",
       "    <tr>\n",
       "      <th>64</th>\n",
       "      <td>fe9adb627a6f45747c5a8223b671774791ededf9364f65...</td>\n",
       "      <td>stage1</td>\n",
       "      <td>data/test_stage1/fe9adb627a6f45747c5a8223b6717...</td>\n",
       "      <td>(256, 256, 4)</td>\n",
       "    </tr>\n",
       "  </tbody>\n",
       "</table>\n",
       "<p>65 rows × 4 columns</p>\n",
       "</div>"
      ],
      "text/plain": [
       "                                             Image_ID Image_STAGE  \\\n",
       "0   0114f484a16c152baa2d82fdd43740880a762c93f436c8...      stage1   \n",
       "1   0999dab07b11bc85fb8464fc36c947fbd8b5d6ec498173...      stage1   \n",
       "2   0a849e0eb15faa8a6d7329c3dd66aabe9a294cccb52ed3...      stage1   \n",
       "3   0e132f71c8b4875c3c2dd7a22997468a3e842b46aa9bd4...      stage1   \n",
       "4   0ed3555a4bd48046d3b63d8baf03a5aa97e523aa483aaa...      stage1   \n",
       "5   0f1f896d9ae5a04752d3239c690402c022db4d72c0d2c0...      stage1   \n",
       "6   1747f62148a919c8feb6d607faeebdf504b5e2ad42b6b1...      stage1   \n",
       "7   17b9bf4356db24967c4677b8376ac38f826de73a88b93a...      stage1   \n",
       "8   1879f4f4f05e2bada0ffeb46c128b8df7a79b14c84f38c...      stage1   \n",
       "9   191b2b2205f2f5cc9da04702c5d422bc249faf8bca1107...      stage1   \n",
       "10  1962d0c5faf3e85cda80e0578e0cb7aca50826d781620e...      stage1   \n",
       "11  1cdbfee1951356e7b0a215073828695fe1ead5f8b1add1...      stage1   \n",
       "12  1d9eacb3161f1e2b45550389ecf7c535c7199c6b44b1c6...      stage1   \n",
       "13  1ef68e93964c2d9230100c1347c328f6385a7bc027879d...      stage1   \n",
       "14  259b35151d4a7a5ffdd7ab7f171b142db8cfe40beeee67...      stage1   \n",
       "15  295682d9eb5acb5c1976a460c085734bfaf38482b0a3f0...      stage1   \n",
       "16  31f1fbe85b8899258ea5bcf5f93f7ac8238660c386aeab...      stage1   \n",
       "17  336d3e4105766f8ad328a7ee9571e743f376f8cbcf6a96...      stage1   \n",
       "18  38f5cfb55fc8b048e82a5c895b25fefae7a70c71ab9990...      stage1   \n",
       "19  3c4c675825f7509877bc10497f498c9a2e3433bf922bd8...      stage1   \n",
       "20  432f367a4c5b5674de2e2977744d10289a064e5704b21a...      stage1   \n",
       "21  43a71aeb641faa18742cb826772a8566c6c947d7050f9a...      stage1   \n",
       "22  44afae184c89e6ba55985b4d341acc1ae1e8b6ef963120...      stage1   \n",
       "23  4727d94c6a57ed484270fdd8bbc6e3d5f2f15d5476794a...      stage1   \n",
       "24  472b1c5ff988dadc209faea92499bc07f305208dbda29d...      stage1   \n",
       "25  4be73d68f433869188fe5e7f09c7f681ed51003da6aa5d...      stage1   \n",
       "26  4f949bd8d914bbfa06f40d6a0e2b5b75c38bf53dbcbafc...      stage1   \n",
       "27  505bc0a3928d8aef5ce441c5a611fdd32e1e8eccdc15cc...      stage1   \n",
       "28  519dc0d672d1c295fc69b629af8721ccb1a1f136d19766...      stage1   \n",
       "29  51c70bb8a299943b27f8b354571272692d8f2705036a1a...      stage1   \n",
       "..                                                ...         ...   \n",
       "35  697a05c6fe4a07c601d46da80885645ad574ea19b47ee7...      stage1   \n",
       "36  699f2992cd71e2e28cf45f81347ff22e76b37541ce8808...      stage1   \n",
       "37  78a981bd27ba0c65a9169548665a17bda9f49050d0d389...      stage1   \n",
       "38  7bdb668e6127b7eafc837a883f0648002bd063c736f55a...      stage1   \n",
       "39  7f4cbe0b36b5d09466476a7d4e01f4f976c67872d549f4...      stage1   \n",
       "40  8922a6ac8fd0258ec27738ca101867169b20d90a60fc84...      stage1   \n",
       "41  8b59819fbc92eefe45b1db95c0cc3a467ddcfc755684c7...      stage1   \n",
       "42  912a679e4b9b1d1a75170254fd675b8c24b664d80ad7ea...      stage1   \n",
       "43  9ab2d381f90b485a68b82bc07f94397a0373e3215ad209...      stage1   \n",
       "44  9f17aea854db13015d19b34cb2022cfdeda44133323fcd...      stage1   \n",
       "45  a4816cc1fb76cb3c5e481186833fc0ae9cf426a1406a26...      stage1   \n",
       "46  a984e7fb886aa02e29d112766d3ce26a4f78eac540ce7b...      stage1   \n",
       "47  ab298b962a63e4be9582513aaa84a5e270adba5fd2b16a...      stage1   \n",
       "48  ade080c6618cbbb0a25680cf847f312b5e19b22bfe1caf...      stage1   \n",
       "49  b83d1d77935b6cfd44105b54600ffc4b6bd82de57dec65...      stage1   \n",
       "50  bdc789019cee8ddfae20d5f769299993b4b330b2d38d12...      stage1   \n",
       "51  c8e79ff4ac55f4b772057de28e539727b7f4f2a3de73bf...      stage1   \n",
       "52  ca20076870e8fb604e61802605a9ac45419c82dd3e2340...      stage1   \n",
       "53  d616d323a9eeb9da1b66f8d5df671d63c092c9919cb2c0...      stage1   \n",
       "54  d6eb7ce7723e2f6dc13b90b41a29ded27dbd815bad633f...      stage1   \n",
       "55  d8d4bf68a76e4e4c5f21de7ac613451f7115a04db68615...      stage1   \n",
       "56  da6c593410340b19bb212b9f6d274f95b08c0fc8f2570c...      stage1   \n",
       "57  dab46d798d29aff2e99c23f47ed3064f5cafb1644629b0...      stage1   \n",
       "58  df40099c6306ca1f47fcc8a62e2fa39486d4e223177afd...      stage1   \n",
       "59  e17b7aedd251a016c01ef9158e6e4aa940d9f1b35942d8...      stage1   \n",
       "60  eea70a7948d25a9a791dbcb39228af4ea4049fe5ebdee9...      stage1   \n",
       "61  f0d0ab13ff53adc3c4d57e95a5f83d80b06f2cbc0bf002...      stage1   \n",
       "62  f5effed21f671bbf4551ecebb7fe95f3be1cf09c16a60a...      stage1   \n",
       "63  fac507fa4d1649e8b24c195d990f1fc3ca3633d917839e...      stage1   \n",
       "64  fe9adb627a6f45747c5a8223b671774791ededf9364f65...      stage1   \n",
       "\n",
       "                                           image_path          shape  \n",
       "0   data/test_stage1/0114f484a16c152baa2d82fdd4374...  (256, 256, 4)  \n",
       "1   data/test_stage1/0999dab07b11bc85fb8464fc36c94...  (519, 253, 3)  \n",
       "2   data/test_stage1/0a849e0eb15faa8a6d7329c3dd66a...  (256, 256, 3)  \n",
       "3   data/test_stage1/0e132f71c8b4875c3c2dd7a229974...  (256, 256, 4)  \n",
       "4   data/test_stage1/0ed3555a4bd48046d3b63d8baf03a...  (256, 256, 4)  \n",
       "5   data/test_stage1/0f1f896d9ae5a04752d3239c69040...  (512, 680, 3)  \n",
       "6   data/test_stage1/1747f62148a919c8feb6d607faeeb...  (512, 640, 4)  \n",
       "7   data/test_stage1/17b9bf4356db24967c4677b8376ac...  (512, 680, 3)  \n",
       "8   data/test_stage1/1879f4f4f05e2bada0ffeb46c128b...  (512, 640, 4)  \n",
       "9   data/test_stage1/191b2b2205f2f5cc9da04702c5d42...  (256, 256, 4)  \n",
       "10  data/test_stage1/1962d0c5faf3e85cda80e0578e0cb...  (519, 162, 3)  \n",
       "11  data/test_stage1/1cdbfee1951356e7b0a2150738286...  (512, 640, 4)  \n",
       "12  data/test_stage1/1d9eacb3161f1e2b45550389ecf7c...  (524, 348, 3)  \n",
       "13  data/test_stage1/1ef68e93964c2d9230100c1347c32...  (256, 256, 4)  \n",
       "14  data/test_stage1/259b35151d4a7a5ffdd7ab7f171b1...  (512, 680, 3)  \n",
       "15  data/test_stage1/295682d9eb5acb5c1976a460c0857...  (256, 256, 4)  \n",
       "16  data/test_stage1/31f1fbe85b8899258ea5bcf5f93f7...  (256, 256, 4)  \n",
       "17  data/test_stage1/336d3e4105766f8ad328a7ee9571e...  (519, 253, 3)  \n",
       "18  data/test_stage1/38f5cfb55fc8b048e82a5c895b25f...  (256, 256, 4)  \n",
       "19  data/test_stage1/3c4c675825f7509877bc10497f498...  (524, 348, 3)  \n",
       "20  data/test_stage1/432f367a4c5b5674de2e2977744d1...  (520, 348, 3)  \n",
       "21  data/test_stage1/43a71aeb641faa18742cb826772a8...  (260, 347, 4)  \n",
       "22  data/test_stage1/44afae184c89e6ba55985b4d341ac...  (512, 680, 3)  \n",
       "23  data/test_stage1/4727d94c6a57ed484270fdd8bbc6e...  (256, 256, 4)  \n",
       "24  data/test_stage1/472b1c5ff988dadc209faea92499b...  (512, 680, 3)  \n",
       "25  data/test_stage1/4be73d68f433869188fe5e7f09c7f...  (256, 256, 3)  \n",
       "26  data/test_stage1/4f949bd8d914bbfa06f40d6a0e2b5...  (390, 239, 4)  \n",
       "27  data/test_stage1/505bc0a3928d8aef5ce441c5a611f...  (512, 640, 4)  \n",
       "28  data/test_stage1/519dc0d672d1c295fc69b629af872...  (256, 256, 4)  \n",
       "29  data/test_stage1/51c70bb8a299943b27f8b35457127...  (256, 256, 4)  \n",
       "..                                                ...            ...  \n",
       "35  data/test_stage1/697a05c6fe4a07c601d46da808856...  (256, 256, 3)  \n",
       "36  data/test_stage1/699f2992cd71e2e28cf45f81347ff...  (260, 347, 4)  \n",
       "37  data/test_stage1/78a981bd27ba0c65a9169548665a1...  (520, 348, 3)  \n",
       "38  data/test_stage1/7bdb668e6127b7eafc837a883f064...  (512, 640, 4)  \n",
       "39  data/test_stage1/7f4cbe0b36b5d09466476a7d4e01f...  (256, 256, 3)  \n",
       "40  data/test_stage1/8922a6ac8fd0258ec27738ca10186...  (512, 640, 4)  \n",
       "41  data/test_stage1/8b59819fbc92eefe45b1db95c0cc3...  (520, 696, 4)  \n",
       "42  data/test_stage1/912a679e4b9b1d1a75170254fd675...  (256, 256, 4)  \n",
       "43  data/test_stage1/9ab2d381f90b485a68b82bc07f943...  (512, 640, 4)  \n",
       "44  data/test_stage1/9f17aea854db13015d19b34cb2022...  (512, 680, 3)  \n",
       "45  data/test_stage1/a4816cc1fb76cb3c5e481186833fc...  (519, 253, 3)  \n",
       "46  data/test_stage1/a984e7fb886aa02e29d112766d3ce...  (519, 161, 3)  \n",
       "47  data/test_stage1/ab298b962a63e4be9582513aaa84a...  (256, 256, 4)  \n",
       "48  data/test_stage1/ade080c6618cbbb0a25680cf847f3...  (520, 696, 4)  \n",
       "49  data/test_stage1/b83d1d77935b6cfd44105b54600ff...  (524, 348, 3)  \n",
       "50  data/test_stage1/bdc789019cee8ddfae20d5f769299...  (520, 696, 4)  \n",
       "51  data/test_stage1/c8e79ff4ac55f4b772057de28e539...  (524, 348, 3)  \n",
       "52  data/test_stage1/ca20076870e8fb604e61802605a9a...  (519, 161, 3)  \n",
       "53  data/test_stage1/d616d323a9eeb9da1b66f8d5df671...  (519, 162, 3)  \n",
       "54  data/test_stage1/d6eb7ce7723e2f6dc13b90b41a29d...  (520, 348, 3)  \n",
       "55  data/test_stage1/d8d4bf68a76e4e4c5f21de7ac6134...  (256, 256, 4)  \n",
       "56  data/test_stage1/da6c593410340b19bb212b9f6d274...  (512, 680, 3)  \n",
       "57  data/test_stage1/dab46d798d29aff2e99c23f47ed30...  (256, 256, 4)  \n",
       "58  data/test_stage1/df40099c6306ca1f47fcc8a62e2fa...  (260, 347, 4)  \n",
       "59  data/test_stage1/e17b7aedd251a016c01ef9158e6e4...  (256, 256, 4)  \n",
       "60  data/test_stage1/eea70a7948d25a9a791dbcb39228a...  (519, 253, 3)  \n",
       "61  data/test_stage1/f0d0ab13ff53adc3c4d57e95a5f83...  (520, 696, 4)  \n",
       "62  data/test_stage1/f5effed21f671bbf4551ecebb7fe9...  (512, 680, 3)  \n",
       "63  data/test_stage1/fac507fa4d1649e8b24c195d990f1...  (256, 256, 4)  \n",
       "64  data/test_stage1/fe9adb627a6f45747c5a8223b6717...  (256, 256, 4)  \n",
       "\n",
       "[65 rows x 4 columns]"
      ]
     },
     "execution_count": 65,
     "metadata": {},
     "output_type": "execute_result"
    }
   ],
   "source": [
    "test_img_df"
   ]
  }
 ],
 "metadata": {
  "anaconda-cloud": {},
  "kernelspec": {
   "display_name": "Python [conda root]",
   "language": "python",
   "name": "conda-root-py"
  },
  "language_info": {
   "codemirror_mode": {
    "name": "ipython",
    "version": 3
   },
   "file_extension": ".py",
   "mimetype": "text/x-python",
   "name": "python",
   "nbconvert_exporter": "python",
   "pygments_lexer": "ipython3",
   "version": "3.5.4"
  }
 },
 "nbformat": 4,
 "nbformat_minor": 1
}
